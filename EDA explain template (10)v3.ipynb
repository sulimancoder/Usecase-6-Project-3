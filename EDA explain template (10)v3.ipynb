{
 "cells": [
  {
   "cell_type": "code",
   "execution_count": null,
   "id": "01cd3b0f",
   "metadata": {},
   "outputs": [],
   "source": []
  },
  {
   "cell_type": "code",
   "execution_count": null,
   "id": "e69c4ba1-85f3-4a02-ae37-c64347a01803",
   "metadata": {},
   "outputs": [],
   "source": [
    "#Import all relevant libraries\n",
    "import numpy as np\n",
    "import pandas as pd\n",
    "import matplotlib.pyplot as plt\n",
    "import seaborn as sns\n",
    "import dtale\n",
    "from scipy.stats import zscore\n",
    "from arabic_reshaper import reshape\n",
    "from bidi.algorithm import get_display\n",
    "import plotly.express as px\n",
    "\n",
    "## This statement allows the visuals to render within your Jupyter Notebook.\n",
    "%matplotlib inline"
   ]
  },
  {
   "cell_type": "markdown",
   "id": "e395e8bf-b530-4720-8d0f-26811e927d6e",
   "metadata": {},
   "source": [
    "## Loading the data\n",
    "We can now load the dataset into pandas using the read_csv() function. This converts the CSV file into a Pandas dataframe."
   ]
  },
  {
   "cell_type": "code",
   "execution_count": 5,
   "id": "cf4030b0-aa7f-4bd7-8e9c-c1b7f4d202d0",
   "metadata": {},
   "outputs": [
    {
     "name": "stderr",
     "output_type": "stream",
     "text": [
      "C:\\Users\\Suliman\\AppData\\Local\\Temp\\ipykernel_8020\\1439961314.py:11: DtypeWarning:\n",
      "\n",
      "Columns (16) have mixed types. Specify dtype option on import or set low_memory=False.\n",
      "\n"
     ]
    }
   ],
   "source": [
    "#Real_Estate = pd.read_csv('D:/Documents/Downloads/project3 tuwaiq/realEstate.csv')\n",
    "#Riyadh_Aqqar_Land = pd.read_excel('D:/Documents/Downloads/project3 tuwaiq/Riyadh_Aqqar.xlsx', sheet_name=\"Land (الاراضي)\")\n",
    "#Riyadh_Aqqar_Villas = pd.read_excel('D:/Documents/Downloads/project3 tuwaiq/Riyadh_Aqqar.xlsx', sheet_name=\"Villas (الفلل)\")\n",
    "#Riyadh_Aqqar_Apartments = pd.read_excel('D:/Documents/Downloads/project3 tuwaiq/Riyadh_Aqqar.xlsx', sheet_name=\"Apartments (الشقق)\")\n",
    "#Riyadh_VillasAqar = pd.read_csv('D:/Documents/Downloads/project3 tuwaiq/RiyadhVillasAqar.csv')\n",
    "Real_Estate = pd.read_csv('Data/cleaned_Real_Estate.csv')\n",
    "\n",
    "#Riyadh_Aqqar_Land = pd.read_excel('Data/Riyadh_Aqqar.xlsx', sheet_name=\"Land (الاراضي)\")\n",
    "#Riyadh_Aqqar_Villas = pd.read_excel('Data/Riyadh_Aqqar.xlsx', sheet_name=\"Villas (الفلل)\")\n",
    "Riyadh_Aqqar_Apartments = pd.read_excel('Data/Riyadh_Aqqar.xlsx', sheet_name=\"Apartments (الشقق)\")\n",
    "Riyadh_VillasAqar = pd.read_csv('Data/RiyadhVillasAqar.csv')\n",
    "Riyadh_Aqqar_Land = pd.read_csv('Data/cleaned_Riyadh_Aqqar_Land.csv')\n",
    "Riyadh_Aqqar_Villas = pd.read_csv(\"Data/cleaned_Riyadh_Aqqar_Villas.csv\")"
   ]
  },
  {
   "cell_type": "markdown",
   "id": "ca5ed983-0f72-43eb-8168-6fafd48c562e",
   "metadata": {},
   "source": [
    "### Viewing the dataframe\n",
    "We can get a quick sense of the size of our dataset by using the shape method. This returns a tuple with the number of rows and columns in the dataset."
   ]
  },
  {
   "cell_type": "markdown",
   "id": "a82d38ef",
   "metadata": {},
   "source": [
    "# Real_Estate dataset"
   ]
  },
  {
   "cell_type": "code",
   "execution_count": 6,
   "id": "bfde0b69-613c-4dd1-8ebf-e4d2e570e653",
   "metadata": {},
   "outputs": [
    {
     "data": {
      "text/html": [
       "<div>\n",
       "<style scoped>\n",
       "    .dataframe tbody tr th:only-of-type {\n",
       "        vertical-align: middle;\n",
       "    }\n",
       "\n",
       "    .dataframe tbody tr th {\n",
       "        vertical-align: top;\n",
       "    }\n",
       "\n",
       "    .dataframe thead th {\n",
       "        text-align: right;\n",
       "    }\n",
       "</style>\n",
       "<table border=\"1\" class=\"dataframe\">\n",
       "  <thead>\n",
       "    <tr style=\"text-align: right;\">\n",
       "      <th></th>\n",
       "      <th>price</th>\n",
       "      <th>beds</th>\n",
       "      <th>livings</th>\n",
       "      <th>wc</th>\n",
       "      <th>area</th>\n",
       "      <th>street_width</th>\n",
       "      <th>age</th>\n",
       "      <th>last_update</th>\n",
       "      <th>kitchen</th>\n",
       "      <th>ac</th>\n",
       "      <th>...</th>\n",
       "      <th>district</th>\n",
       "      <th>advertiser_type</th>\n",
       "      <th>create_time</th>\n",
       "      <th>review</th>\n",
       "      <th>UserName</th>\n",
       "      <th>iam_verified</th>\n",
       "      <th>onMarket</th>\n",
       "      <th>IsRent</th>\n",
       "      <th>latitude</th>\n",
       "      <th>longitude</th>\n",
       "    </tr>\n",
       "  </thead>\n",
       "  <tbody>\n",
       "    <tr>\n",
       "      <th>0</th>\n",
       "      <td>20000</td>\n",
       "      <td>3</td>\n",
       "      <td>0</td>\n",
       "      <td>2</td>\n",
       "      <td>225.0</td>\n",
       "      <td>15.0</td>\n",
       "      <td>9.0</td>\n",
       "      <td>2022-08-06 12:22:15</td>\n",
       "      <td>yes</td>\n",
       "      <td>no</td>\n",
       "      <td>...</td>\n",
       "      <td>حي النظيم</td>\n",
       "      <td>owner</td>\n",
       "      <td>2022-08-05 02:44:23</td>\n",
       "      <td>5.00</td>\n",
       "      <td>Thamer</td>\n",
       "      <td>yes</td>\n",
       "      <td>17</td>\n",
       "      <td>False</td>\n",
       "      <td>24.800930</td>\n",
       "      <td>46.896890</td>\n",
       "    </tr>\n",
       "    <tr>\n",
       "      <th>1</th>\n",
       "      <td>25000</td>\n",
       "      <td>3</td>\n",
       "      <td>1</td>\n",
       "      <td>2</td>\n",
       "      <td>130.0</td>\n",
       "      <td>30.0</td>\n",
       "      <td>12.0</td>\n",
       "      <td>2022-08-06 10:27:56</td>\n",
       "      <td>yes</td>\n",
       "      <td>no</td>\n",
       "      <td>...</td>\n",
       "      <td>حي الفيحاء</td>\n",
       "      <td>exclusive_marketer</td>\n",
       "      <td>2022-08-06 10:27:56</td>\n",
       "      <td>4.33</td>\n",
       "      <td>الاركان الثابته للعقارات</td>\n",
       "      <td>yes</td>\n",
       "      <td>5</td>\n",
       "      <td>True</td>\n",
       "      <td>24.687521</td>\n",
       "      <td>46.807558</td>\n",
       "    </tr>\n",
       "  </tbody>\n",
       "</table>\n",
       "<p>2 rows × 22 columns</p>\n",
       "</div>"
      ],
      "text/plain": [
       "   price  beds  livings  wc   area  street_width   age          last_update  \\\n",
       "0  20000     3        0   2  225.0          15.0   9.0  2022-08-06 12:22:15   \n",
       "1  25000     3        1   2  130.0          30.0  12.0  2022-08-06 10:27:56   \n",
       "\n",
       "  kitchen  ac  ...    district     advertiser_type          create_time  \\\n",
       "0     yes  no  ...   حي النظيم               owner  2022-08-05 02:44:23   \n",
       "1     yes  no  ...  حي الفيحاء  exclusive_marketer  2022-08-06 10:27:56   \n",
       "\n",
       "  review                   UserName  iam_verified onMarket IsRent   latitude  \\\n",
       "0   5.00                    Thamer            yes       17  False  24.800930   \n",
       "1   4.33   الاركان الثابته للعقارات           yes        5   True  24.687521   \n",
       "\n",
       "   longitude  \n",
       "0  46.896890  \n",
       "1  46.807558  \n",
       "\n",
       "[2 rows x 22 columns]"
      ]
     },
     "execution_count": 6,
     "metadata": {},
     "output_type": "execute_result"
    }
   ],
   "source": [
    "Real_Estate.head(2)"
   ]
  },
  {
   "cell_type": "code",
   "execution_count": 7,
   "id": "82046e30",
   "metadata": {},
   "outputs": [
    {
     "data": {
      "text/plain": [
       "(4730, 22)"
      ]
     },
     "execution_count": 7,
     "metadata": {},
     "output_type": "execute_result"
    }
   ],
   "source": [
    "Real_Estate.shape"
   ]
  },
  {
   "cell_type": "markdown",
   "id": "2829a980",
   "metadata": {},
   "source": [
    "# Riyadh_Aqqar_Land dataset"
   ]
  },
  {
   "cell_type": "code",
   "execution_count": 8,
   "id": "94d877a4",
   "metadata": {},
   "outputs": [
    {
     "data": {
      "text/html": [
       "<div>\n",
       "<style scoped>\n",
       "    .dataframe tbody tr th:only-of-type {\n",
       "        vertical-align: middle;\n",
       "    }\n",
       "\n",
       "    .dataframe tbody tr th {\n",
       "        vertical-align: top;\n",
       "    }\n",
       "\n",
       "    .dataframe thead th {\n",
       "        text-align: right;\n",
       "    }\n",
       "</style>\n",
       "<table border=\"1\" class=\"dataframe\">\n",
       "  <thead>\n",
       "    <tr style=\"text-align: right;\">\n",
       "      <th></th>\n",
       "      <th>نوع العقار</th>\n",
       "      <th>الغرض</th>\n",
       "      <th>المدينة</th>\n",
       "      <th>الحي</th>\n",
       "      <th>الواجهة</th>\n",
       "      <th>المساحة</th>\n",
       "      <th>سعر المتر</th>\n",
       "      <th>السعر الإجمالي</th>\n",
       "    </tr>\n",
       "  </thead>\n",
       "  <tbody>\n",
       "    <tr>\n",
       "      <th>0</th>\n",
       "      <td>أرض</td>\n",
       "      <td>غير معروف</td>\n",
       "      <td>الرياض</td>\n",
       "      <td>الرياض</td>\n",
       "      <td>غربية</td>\n",
       "      <td>375</td>\n",
       "      <td>2900.0</td>\n",
       "      <td>1087500</td>\n",
       "    </tr>\n",
       "    <tr>\n",
       "      <th>1</th>\n",
       "      <td>أرض</td>\n",
       "      <td>غير معروف</td>\n",
       "      <td>الرياض</td>\n",
       "      <td>غرناطة</td>\n",
       "      <td>شمالية</td>\n",
       "      <td>800</td>\n",
       "      <td>4800.0</td>\n",
       "      <td>3840000</td>\n",
       "    </tr>\n",
       "  </tbody>\n",
       "</table>\n",
       "</div>"
      ],
      "text/plain": [
       "  نوع العقار      الغرض المدينة    الحي الواجهة  المساحة  سعر المتر  \\\n",
       "0        أرض  غير معروف  الرياض  الرياض   غربية      375     2900.0   \n",
       "1        أرض  غير معروف  الرياض  غرناطة  شمالية      800     4800.0   \n",
       "\n",
       "   السعر الإجمالي  \n",
       "0         1087500  \n",
       "1         3840000  "
      ]
     },
     "execution_count": 8,
     "metadata": {},
     "output_type": "execute_result"
    }
   ],
   "source": [
    "Riyadh_Aqqar_Land.head(2)"
   ]
  },
  {
   "cell_type": "code",
   "execution_count": 9,
   "id": "b7fa9cd5",
   "metadata": {},
   "outputs": [
    {
     "data": {
      "text/plain": [
       "(1389, 8)"
      ]
     },
     "execution_count": 9,
     "metadata": {},
     "output_type": "execute_result"
    }
   ],
   "source": [
    "Riyadh_Aqqar_Land.shape"
   ]
  },
  {
   "cell_type": "markdown",
   "id": "ddcc9189",
   "metadata": {},
   "source": [
    "# Riyadh_Aqqar_Villas dataset"
   ]
  },
  {
   "cell_type": "code",
   "execution_count": 10,
   "id": "1298cc4c",
   "metadata": {},
   "outputs": [
    {
     "data": {
      "text/html": [
       "<div>\n",
       "<style scoped>\n",
       "    .dataframe tbody tr th:only-of-type {\n",
       "        vertical-align: middle;\n",
       "    }\n",
       "\n",
       "    .dataframe tbody tr th {\n",
       "        vertical-align: top;\n",
       "    }\n",
       "\n",
       "    .dataframe thead th {\n",
       "        text-align: right;\n",
       "    }\n",
       "</style>\n",
       "<table border=\"1\" class=\"dataframe\">\n",
       "  <thead>\n",
       "    <tr style=\"text-align: right;\">\n",
       "      <th></th>\n",
       "      <th>نوع العقار</th>\n",
       "      <th>المدينة</th>\n",
       "      <th>الحي</th>\n",
       "      <th>الواجهة</th>\n",
       "      <th>عدد الغرف</th>\n",
       "      <th>عدد الصالات</th>\n",
       "      <th>عدد الحمامات</th>\n",
       "      <th>عرض الشارع</th>\n",
       "      <th>المساحة</th>\n",
       "      <th>درج صالة</th>\n",
       "      <th>مطبخ</th>\n",
       "      <th>غرفة خادمة</th>\n",
       "      <th>غرفة سائق</th>\n",
       "      <th>ملحق</th>\n",
       "      <th>حوش</th>\n",
       "      <th>مسبح</th>\n",
       "      <th>قبو</th>\n",
       "      <th>مدخل سيارة</th>\n",
       "      <th>مصعد</th>\n",
       "      <th>السعر الاجمالي</th>\n",
       "    </tr>\n",
       "  </thead>\n",
       "  <tbody>\n",
       "    <tr>\n",
       "      <th>0</th>\n",
       "      <td>فيلا</td>\n",
       "      <td>الرياض</td>\n",
       "      <td>العارض</td>\n",
       "      <td>جنوبية</td>\n",
       "      <td>6</td>\n",
       "      <td>3</td>\n",
       "      <td>5+</td>\n",
       "      <td>18.0</td>\n",
       "      <td>244.0</td>\n",
       "      <td>True</td>\n",
       "      <td>True</td>\n",
       "      <td>True</td>\n",
       "      <td>True</td>\n",
       "      <td>False</td>\n",
       "      <td>True</td>\n",
       "      <td>False</td>\n",
       "      <td>False</td>\n",
       "      <td>True</td>\n",
       "      <td>True</td>\n",
       "      <td>2300000</td>\n",
       "    </tr>\n",
       "    <tr>\n",
       "      <th>1</th>\n",
       "      <td>فيلا</td>\n",
       "      <td>الرياض</td>\n",
       "      <td>العارض</td>\n",
       "      <td>جنوبية</td>\n",
       "      <td>6</td>\n",
       "      <td>4</td>\n",
       "      <td>5+</td>\n",
       "      <td>18.0</td>\n",
       "      <td>322.0</td>\n",
       "      <td>True</td>\n",
       "      <td>True</td>\n",
       "      <td>True</td>\n",
       "      <td>True</td>\n",
       "      <td>True</td>\n",
       "      <td>True</td>\n",
       "      <td>False</td>\n",
       "      <td>False</td>\n",
       "      <td>True</td>\n",
       "      <td>True</td>\n",
       "      <td>3000000</td>\n",
       "    </tr>\n",
       "  </tbody>\n",
       "</table>\n",
       "</div>"
      ],
      "text/plain": [
       "  نوع العقار   المدينة    الحي الواجهة عدد الغرف عدد الصالات عدد الحمامات  \\\n",
       "0       فيلا   الرياض   العارض  جنوبية         6           3           5+   \n",
       "1       فيلا   الرياض   العارض  جنوبية         6           4           5+   \n",
       "\n",
       "   عرض الشارع  المساحة  درج صالة  مطبخ  غرفة خادمة  غرفة سائق   ملحق   حوش  \\\n",
       "0        18.0    244.0      True  True        True       True  False  True   \n",
       "1        18.0    322.0      True  True        True       True   True  True   \n",
       "\n",
       "    مسبح    قبو  مدخل سيارة  مصعد  السعر الاجمالي  \n",
       "0  False  False        True  True         2300000  \n",
       "1  False  False        True  True         3000000  "
      ]
     },
     "execution_count": 10,
     "metadata": {},
     "output_type": "execute_result"
    }
   ],
   "source": [
    "Riyadh_Aqqar_Villas.head(2)"
   ]
  },
  {
   "cell_type": "code",
   "execution_count": 11,
   "id": "fb4793fb",
   "metadata": {},
   "outputs": [
    {
     "data": {
      "text/plain": [
       "(1087, 20)"
      ]
     },
     "execution_count": 11,
     "metadata": {},
     "output_type": "execute_result"
    }
   ],
   "source": [
    "Riyadh_Aqqar_Villas.shape"
   ]
  },
  {
   "cell_type": "markdown",
   "id": "8d8ad4f4",
   "metadata": {},
   "source": [
    "# Riyadh_Aqqar_Apartments dataset"
   ]
  },
  {
   "cell_type": "code",
   "execution_count": 12,
   "id": "4c152102",
   "metadata": {},
   "outputs": [
    {
     "data": {
      "text/html": [
       "<div>\n",
       "<style scoped>\n",
       "    .dataframe tbody tr th:only-of-type {\n",
       "        vertical-align: middle;\n",
       "    }\n",
       "\n",
       "    .dataframe tbody tr th {\n",
       "        vertical-align: top;\n",
       "    }\n",
       "\n",
       "    .dataframe thead th {\n",
       "        text-align: right;\n",
       "    }\n",
       "</style>\n",
       "<table border=\"1\" class=\"dataframe\">\n",
       "  <thead>\n",
       "    <tr style=\"text-align: right;\">\n",
       "      <th></th>\n",
       "      <th>نوع العقار</th>\n",
       "      <th>المدينة</th>\n",
       "      <th>الحي</th>\n",
       "      <th>الواجهة</th>\n",
       "      <th>عدد الغرف</th>\n",
       "      <th>عدد الصالات</th>\n",
       "      <th>عدد الحمامات</th>\n",
       "      <th>المساحة</th>\n",
       "      <th>مطبخ</th>\n",
       "      <th>مدخل سيارة</th>\n",
       "      <th>مصعد</th>\n",
       "      <th>الدور</th>\n",
       "      <th>عمر العقار</th>\n",
       "      <th>مؤثثة</th>\n",
       "      <th>السعر الاجمالي</th>\n",
       "    </tr>\n",
       "  </thead>\n",
       "  <tbody>\n",
       "    <tr>\n",
       "      <th>0</th>\n",
       "      <td>شقة</td>\n",
       "      <td>الرياض</td>\n",
       "      <td>حي المروج</td>\n",
       "      <td>جنوبية</td>\n",
       "      <td>4</td>\n",
       "      <td>1.0</td>\n",
       "      <td>3</td>\n",
       "      <td>249</td>\n",
       "      <td>1</td>\n",
       "      <td>0</td>\n",
       "      <td>1</td>\n",
       "      <td>3</td>\n",
       "      <td>0.0</td>\n",
       "      <td>0</td>\n",
       "      <td>1434000</td>\n",
       "    </tr>\n",
       "    <tr>\n",
       "      <th>1</th>\n",
       "      <td>شقة</td>\n",
       "      <td>الرياض</td>\n",
       "      <td>حي العارض</td>\n",
       "      <td>شمالية غربية</td>\n",
       "      <td>3</td>\n",
       "      <td>1.0</td>\n",
       "      <td>3</td>\n",
       "      <td>199</td>\n",
       "      <td>0</td>\n",
       "      <td>0</td>\n",
       "      <td>1</td>\n",
       "      <td>علوي</td>\n",
       "      <td>0.0</td>\n",
       "      <td>0</td>\n",
       "      <td>980000</td>\n",
       "    </tr>\n",
       "  </tbody>\n",
       "</table>\n",
       "</div>"
      ],
      "text/plain": [
       "  نوع العقار   المدينة         الحي       الواجهة  عدد الغرف  عدد الصالات  \\\n",
       "0        شقة   الرياض    حي المروج         جنوبية          4          1.0   \n",
       "1        شقة   الرياض    حي العارض   شمالية غربية          3          1.0   \n",
       "\n",
       "  عدد الحمامات  المساحة  مطبخ  مدخل سيارة  مصعد الدور  عمر العقار  مؤثثة  \\\n",
       "0            3      249     1           0     1     3         0.0      0   \n",
       "1            3      199     0           0     1  علوي         0.0      0   \n",
       "\n",
       "   السعر الاجمالي  \n",
       "0         1434000  \n",
       "1          980000  "
      ]
     },
     "execution_count": 12,
     "metadata": {},
     "output_type": "execute_result"
    }
   ],
   "source": [
    "Riyadh_Aqqar_Apartments.head(2)"
   ]
  },
  {
   "cell_type": "code",
   "execution_count": 13,
   "id": "9e21503c",
   "metadata": {},
   "outputs": [
    {
     "data": {
      "text/plain": [
       "(551, 15)"
      ]
     },
     "execution_count": 13,
     "metadata": {},
     "output_type": "execute_result"
    }
   ],
   "source": [
    "Riyadh_Aqqar_Apartments.shape"
   ]
  },
  {
   "cell_type": "markdown",
   "id": "32c6a1f9",
   "metadata": {},
   "source": [
    "# Riyadh_VillasAqar dataset"
   ]
  },
  {
   "cell_type": "code",
   "execution_count": 14,
   "id": "a979b99c",
   "metadata": {},
   "outputs": [
    {
     "data": {
      "text/html": [
       "<div>\n",
       "<style scoped>\n",
       "    .dataframe tbody tr th:only-of-type {\n",
       "        vertical-align: middle;\n",
       "    }\n",
       "\n",
       "    .dataframe tbody tr th {\n",
       "        vertical-align: top;\n",
       "    }\n",
       "\n",
       "    .dataframe thead th {\n",
       "        text-align: right;\n",
       "    }\n",
       "</style>\n",
       "<table border=\"1\" class=\"dataframe\">\n",
       "  <thead>\n",
       "    <tr style=\"text-align: right;\">\n",
       "      <th></th>\n",
       "      <th>Unnamed: 0</th>\n",
       "      <th>front</th>\n",
       "      <th>rooms</th>\n",
       "      <th>lounges</th>\n",
       "      <th>bathrooms</th>\n",
       "      <th>streetWidth</th>\n",
       "      <th>stairs</th>\n",
       "      <th>propertyAge</th>\n",
       "      <th>driverRoom</th>\n",
       "      <th>tent</th>\n",
       "      <th>...</th>\n",
       "      <th>apartments</th>\n",
       "      <th>maidRoom</th>\n",
       "      <th>elevator</th>\n",
       "      <th>furnihsed</th>\n",
       "      <th>pool</th>\n",
       "      <th>basement</th>\n",
       "      <th>neighbourhood</th>\n",
       "      <th>location</th>\n",
       "      <th>price</th>\n",
       "      <th>square price</th>\n",
       "    </tr>\n",
       "  </thead>\n",
       "  <tbody>\n",
       "    <tr>\n",
       "      <th>0</th>\n",
       "      <td>0</td>\n",
       "      <td>شرقية</td>\n",
       "      <td>5</td>\n",
       "      <td>4</td>\n",
       "      <td>5+</td>\n",
       "      <td>20.0</td>\n",
       "      <td>1</td>\n",
       "      <td>0</td>\n",
       "      <td>1</td>\n",
       "      <td>1</td>\n",
       "      <td>...</td>\n",
       "      <td>0</td>\n",
       "      <td>0</td>\n",
       "      <td>0</td>\n",
       "      <td>0</td>\n",
       "      <td>0</td>\n",
       "      <td>0</td>\n",
       "      <td>عكاظ</td>\n",
       "      <td>جنوب الرياض</td>\n",
       "      <td>1050000.0</td>\n",
       "      <td>3500.000000</td>\n",
       "    </tr>\n",
       "    <tr>\n",
       "      <th>1</th>\n",
       "      <td>1</td>\n",
       "      <td>غربية</td>\n",
       "      <td>4</td>\n",
       "      <td>3</td>\n",
       "      <td>5+</td>\n",
       "      <td>20.0</td>\n",
       "      <td>1</td>\n",
       "      <td>0</td>\n",
       "      <td>1</td>\n",
       "      <td>1</td>\n",
       "      <td>...</td>\n",
       "      <td>2</td>\n",
       "      <td>1</td>\n",
       "      <td>1</td>\n",
       "      <td>0</td>\n",
       "      <td>0</td>\n",
       "      <td>0</td>\n",
       "      <td>المهدية</td>\n",
       "      <td>غرب الرياض</td>\n",
       "      <td>3000000.0</td>\n",
       "      <td>5555.555556</td>\n",
       "    </tr>\n",
       "  </tbody>\n",
       "</table>\n",
       "<p>2 rows × 26 columns</p>\n",
       "</div>"
      ],
      "text/plain": [
       "   Unnamed: 0  front  rooms lounges bathrooms  streetWidth  stairs  \\\n",
       "0           0  شرقية      5       4        5+         20.0       1   \n",
       "1           1  غربية      4       3        5+         20.0       1   \n",
       "\n",
       "   propertyAge  driverRoom  tent  ...  apartments  maidRoom  elevator  \\\n",
       "0            0           1     1  ...           0         0         0   \n",
       "1            0           1     1  ...           2         1         1   \n",
       "\n",
       "   furnihsed  pool  basement neighbourhood     location      price  \\\n",
       "0          0     0         0         عكاظ   جنوب الرياض  1050000.0   \n",
       "1          0     0         0      المهدية    غرب الرياض  3000000.0   \n",
       "\n",
       "   square price  \n",
       "0   3500.000000  \n",
       "1   5555.555556  \n",
       "\n",
       "[2 rows x 26 columns]"
      ]
     },
     "execution_count": 14,
     "metadata": {},
     "output_type": "execute_result"
    }
   ],
   "source": [
    "Riyadh_VillasAqar.head(2)"
   ]
  },
  {
   "cell_type": "code",
   "execution_count": 15,
   "id": "835124b3",
   "metadata": {},
   "outputs": [
    {
     "data": {
      "text/plain": [
       "(46826, 26)"
      ]
     },
     "execution_count": 15,
     "metadata": {},
     "output_type": "execute_result"
    }
   ],
   "source": [
    "Riyadh_VillasAqar.shape"
   ]
  },
  {
   "cell_type": "markdown",
   "id": "bd2b5bc4-db37-4432-b666-0714afd0c4ca",
   "metadata": {},
   "source": [
    "## 1. Data Profiling:\n",
    "Data profiling is a comprehensive process of examining the data available in an existing dataset and collecting statistics and information about that data. "
   ]
  },
  {
   "cell_type": "markdown",
   "id": "887eecf9",
   "metadata": {},
   "source": [
    "# Real_Estate dataset"
   ]
  },
  {
   "cell_type": "code",
   "execution_count": 16,
   "id": "b81b341c",
   "metadata": {},
   "outputs": [
    {
     "data": {
      "text/html": [
       "\n",
       "        <iframe\n",
       "            width=\"100%\"\n",
       "            height=\"475\"\n",
       "            src=\"http://suliman-laptop:40000/dtale/iframe/1\"\n",
       "            frameborder=\"0\"\n",
       "            allowfullscreen\n",
       "            \n",
       "        ></iframe>\n",
       "        "
      ],
      "text/plain": [
       "<IPython.lib.display.IFrame at 0x2123b1ccc20>"
      ]
     },
     "metadata": {},
     "output_type": "display_data"
    },
    {
     "data": {
      "text/plain": []
     },
     "execution_count": 16,
     "metadata": {},
     "output_type": "execute_result"
    }
   ],
   "source": [
    "dtale.show(Real_Estate)"
   ]
  },
  {
   "cell_type": "code",
   "execution_count": 17,
   "id": "672f2081-5a2c-4908-8cbd-29519fb3cac5",
   "metadata": {},
   "outputs": [
    {
     "data": {
      "text/plain": [
       "Index(['price', 'beds', 'livings', 'wc', 'area', 'street_width', 'age',\n",
       "       'last_update', 'kitchen', 'ac', 'furnished', 'location', 'district',\n",
       "       'advertiser_type', 'create_time', 'review', 'UserName', 'iam_verified',\n",
       "       'onMarket', 'IsRent', 'latitude', 'longitude'],\n",
       "      dtype='object')"
      ]
     },
     "execution_count": 17,
     "metadata": {},
     "output_type": "execute_result"
    }
   ],
   "source": [
    "Real_Estate.columns"
   ]
  },
  {
   "cell_type": "code",
   "execution_count": 18,
   "id": "a398df95",
   "metadata": {},
   "outputs": [
    {
     "name": "stdout",
     "output_type": "stream",
     "text": [
      "<class 'pandas.core.frame.DataFrame'>\n",
      "RangeIndex: 4730 entries, 0 to 4729\n",
      "Data columns (total 22 columns):\n",
      " #   Column           Non-Null Count  Dtype  \n",
      "---  ------           --------------  -----  \n",
      " 0   price            4730 non-null   int64  \n",
      " 1   beds             4730 non-null   int64  \n",
      " 2   livings          4730 non-null   int64  \n",
      " 3   wc               4730 non-null   int64  \n",
      " 4   area             4730 non-null   float64\n",
      " 5   street_width     4730 non-null   float64\n",
      " 6   age              4730 non-null   float64\n",
      " 7   last_update      4730 non-null   object \n",
      " 8   kitchen          4730 non-null   object \n",
      " 9   ac               4730 non-null   object \n",
      " 10  furnished        4730 non-null   object \n",
      " 11  location         4730 non-null   object \n",
      " 12  district         4730 non-null   object \n",
      " 13  advertiser_type  4730 non-null   object \n",
      " 14  create_time      4730 non-null   object \n",
      " 15  review           4730 non-null   float64\n",
      " 16  UserName         4730 non-null   object \n",
      " 17  iam_verified     4730 non-null   object \n",
      " 18  onMarket         4730 non-null   int64  \n",
      " 19  IsRent           4730 non-null   bool   \n",
      " 20  latitude         4730 non-null   float64\n",
      " 21  longitude        4730 non-null   float64\n",
      "dtypes: bool(1), float64(6), int64(5), object(10)\n",
      "memory usage: 780.8+ KB\n"
     ]
    }
   ],
   "source": [
    "Real_Estate.info()"
   ]
  },
  {
   "cell_type": "code",
   "execution_count": 19,
   "id": "f1a04203",
   "metadata": {},
   "outputs": [
    {
     "data": {
      "text/html": [
       "<div>\n",
       "<style scoped>\n",
       "    .dataframe tbody tr th:only-of-type {\n",
       "        vertical-align: middle;\n",
       "    }\n",
       "\n",
       "    .dataframe tbody tr th {\n",
       "        vertical-align: top;\n",
       "    }\n",
       "\n",
       "    .dataframe thead th {\n",
       "        text-align: right;\n",
       "    }\n",
       "</style>\n",
       "<table border=\"1\" class=\"dataframe\">\n",
       "  <thead>\n",
       "    <tr style=\"text-align: right;\">\n",
       "      <th></th>\n",
       "      <th>price</th>\n",
       "      <th>beds</th>\n",
       "      <th>livings</th>\n",
       "      <th>wc</th>\n",
       "      <th>area</th>\n",
       "      <th>street_width</th>\n",
       "      <th>age</th>\n",
       "      <th>review</th>\n",
       "      <th>onMarket</th>\n",
       "      <th>latitude</th>\n",
       "      <th>longitude</th>\n",
       "    </tr>\n",
       "  </thead>\n",
       "  <tbody>\n",
       "    <tr>\n",
       "      <th>count</th>\n",
       "      <td>4730.000000</td>\n",
       "      <td>4730.000000</td>\n",
       "      <td>4730.000000</td>\n",
       "      <td>4730.000000</td>\n",
       "      <td>4730.000000</td>\n",
       "      <td>4730.000000</td>\n",
       "      <td>4730.000000</td>\n",
       "      <td>4730.000000</td>\n",
       "      <td>4730.000000</td>\n",
       "      <td>4730.000000</td>\n",
       "      <td>4730.000000</td>\n",
       "    </tr>\n",
       "    <tr>\n",
       "      <th>mean</th>\n",
       "      <td>44029.316279</td>\n",
       "      <td>2.569556</td>\n",
       "      <td>1.008245</td>\n",
       "      <td>2.088161</td>\n",
       "      <td>132.673996</td>\n",
       "      <td>26.621564</td>\n",
       "      <td>2.789218</td>\n",
       "      <td>4.107495</td>\n",
       "      <td>45.733827</td>\n",
       "      <td>24.798117</td>\n",
       "      <td>46.685688</td>\n",
       "    </tr>\n",
       "    <tr>\n",
       "      <th>std</th>\n",
       "      <td>23669.330751</td>\n",
       "      <td>1.103218</td>\n",
       "      <td>0.463212</td>\n",
       "      <td>0.942437</td>\n",
       "      <td>67.401652</td>\n",
       "      <td>10.418851</td>\n",
       "      <td>4.428202</td>\n",
       "      <td>1.070227</td>\n",
       "      <td>45.291541</td>\n",
       "      <td>0.071930</td>\n",
       "      <td>0.078703</td>\n",
       "    </tr>\n",
       "    <tr>\n",
       "      <th>min</th>\n",
       "      <td>10000.000000</td>\n",
       "      <td>1.000000</td>\n",
       "      <td>0.000000</td>\n",
       "      <td>1.000000</td>\n",
       "      <td>0.000000</td>\n",
       "      <td>8.000000</td>\n",
       "      <td>0.000000</td>\n",
       "      <td>0.000000</td>\n",
       "      <td>1.000000</td>\n",
       "      <td>24.480301</td>\n",
       "      <td>46.321014</td>\n",
       "    </tr>\n",
       "    <tr>\n",
       "      <th>25%</th>\n",
       "      <td>25000.000000</td>\n",
       "      <td>2.000000</td>\n",
       "      <td>1.000000</td>\n",
       "      <td>1.000000</td>\n",
       "      <td>90.000000</td>\n",
       "      <td>20.000000</td>\n",
       "      <td>0.000000</td>\n",
       "      <td>4.080000</td>\n",
       "      <td>19.000000</td>\n",
       "      <td>24.780449</td>\n",
       "      <td>46.622924</td>\n",
       "    </tr>\n",
       "    <tr>\n",
       "      <th>50%</th>\n",
       "      <td>36000.000000</td>\n",
       "      <td>3.000000</td>\n",
       "      <td>1.000000</td>\n",
       "      <td>2.000000</td>\n",
       "      <td>141.500000</td>\n",
       "      <td>25.000000</td>\n",
       "      <td>1.000000</td>\n",
       "      <td>4.350000</td>\n",
       "      <td>32.000000</td>\n",
       "      <td>24.808408</td>\n",
       "      <td>46.667480</td>\n",
       "    </tr>\n",
       "    <tr>\n",
       "      <th>75%</th>\n",
       "      <td>60000.000000</td>\n",
       "      <td>3.000000</td>\n",
       "      <td>1.000000</td>\n",
       "      <td>3.000000</td>\n",
       "      <td>170.000000</td>\n",
       "      <td>32.000000</td>\n",
       "      <td>4.000000</td>\n",
       "      <td>4.540000</td>\n",
       "      <td>58.000000</td>\n",
       "      <td>24.834375</td>\n",
       "      <td>46.759398</td>\n",
       "    </tr>\n",
       "    <tr>\n",
       "      <th>max</th>\n",
       "      <td>150000.000000</td>\n",
       "      <td>7.000000</td>\n",
       "      <td>5.000000</td>\n",
       "      <td>5.000000</td>\n",
       "      <td>300.000000</td>\n",
       "      <td>70.000000</td>\n",
       "      <td>36.000000</td>\n",
       "      <td>5.000000</td>\n",
       "      <td>806.000000</td>\n",
       "      <td>25.175299</td>\n",
       "      <td>46.906906</td>\n",
       "    </tr>\n",
       "  </tbody>\n",
       "</table>\n",
       "</div>"
      ],
      "text/plain": [
       "               price         beds      livings           wc         area  \\\n",
       "count    4730.000000  4730.000000  4730.000000  4730.000000  4730.000000   \n",
       "mean    44029.316279     2.569556     1.008245     2.088161   132.673996   \n",
       "std     23669.330751     1.103218     0.463212     0.942437    67.401652   \n",
       "min     10000.000000     1.000000     0.000000     1.000000     0.000000   \n",
       "25%     25000.000000     2.000000     1.000000     1.000000    90.000000   \n",
       "50%     36000.000000     3.000000     1.000000     2.000000   141.500000   \n",
       "75%     60000.000000     3.000000     1.000000     3.000000   170.000000   \n",
       "max    150000.000000     7.000000     5.000000     5.000000   300.000000   \n",
       "\n",
       "       street_width          age       review     onMarket     latitude  \\\n",
       "count   4730.000000  4730.000000  4730.000000  4730.000000  4730.000000   \n",
       "mean      26.621564     2.789218     4.107495    45.733827    24.798117   \n",
       "std       10.418851     4.428202     1.070227    45.291541     0.071930   \n",
       "min        8.000000     0.000000     0.000000     1.000000    24.480301   \n",
       "25%       20.000000     0.000000     4.080000    19.000000    24.780449   \n",
       "50%       25.000000     1.000000     4.350000    32.000000    24.808408   \n",
       "75%       32.000000     4.000000     4.540000    58.000000    24.834375   \n",
       "max       70.000000    36.000000     5.000000   806.000000    25.175299   \n",
       "\n",
       "         longitude  \n",
       "count  4730.000000  \n",
       "mean     46.685688  \n",
       "std       0.078703  \n",
       "min      46.321014  \n",
       "25%      46.622924  \n",
       "50%      46.667480  \n",
       "75%      46.759398  \n",
       "max      46.906906  "
      ]
     },
     "execution_count": 19,
     "metadata": {},
     "output_type": "execute_result"
    }
   ],
   "source": [
    "Real_Estate.describe(include='number')"
   ]
  },
  {
   "cell_type": "code",
   "execution_count": 20,
   "id": "1bf26aeb",
   "metadata": {},
   "outputs": [
    {
     "data": {
      "text/html": [
       "<div>\n",
       "<style scoped>\n",
       "    .dataframe tbody tr th:only-of-type {\n",
       "        vertical-align: middle;\n",
       "    }\n",
       "\n",
       "    .dataframe tbody tr th {\n",
       "        vertical-align: top;\n",
       "    }\n",
       "\n",
       "    .dataframe thead th {\n",
       "        text-align: right;\n",
       "    }\n",
       "</style>\n",
       "<table border=\"1\" class=\"dataframe\">\n",
       "  <thead>\n",
       "    <tr style=\"text-align: right;\">\n",
       "      <th></th>\n",
       "      <th>last_update</th>\n",
       "      <th>kitchen</th>\n",
       "      <th>ac</th>\n",
       "      <th>furnished</th>\n",
       "      <th>location</th>\n",
       "      <th>district</th>\n",
       "      <th>advertiser_type</th>\n",
       "      <th>create_time</th>\n",
       "      <th>UserName</th>\n",
       "      <th>iam_verified</th>\n",
       "    </tr>\n",
       "  </thead>\n",
       "  <tbody>\n",
       "    <tr>\n",
       "      <th>count</th>\n",
       "      <td>4730</td>\n",
       "      <td>4730</td>\n",
       "      <td>4730</td>\n",
       "      <td>4730</td>\n",
       "      <td>4730</td>\n",
       "      <td>4730</td>\n",
       "      <td>4730</td>\n",
       "      <td>4730</td>\n",
       "      <td>4730</td>\n",
       "      <td>4730</td>\n",
       "    </tr>\n",
       "    <tr>\n",
       "      <th>unique</th>\n",
       "      <td>4438</td>\n",
       "      <td>3</td>\n",
       "      <td>3</td>\n",
       "      <td>3</td>\n",
       "      <td>4709</td>\n",
       "      <td>121</td>\n",
       "      <td>5</td>\n",
       "      <td>4727</td>\n",
       "      <td>1036</td>\n",
       "      <td>3</td>\n",
       "    </tr>\n",
       "    <tr>\n",
       "      <th>top</th>\n",
       "      <td>2022-08-04 09:02:12</td>\n",
       "      <td>yes</td>\n",
       "      <td>yes</td>\n",
       "      <td>no</td>\n",
       "      <td>{'lat': 24.900266, 'lng': 46.619681, '__typena...</td>\n",
       "      <td>حي النرجس</td>\n",
       "      <td>exclusive_marketer</td>\n",
       "      <td>2022-07-25 18:04:07</td>\n",
       "      <td>‏مؤسسة الحلم العربي</td>\n",
       "      <td>yes</td>\n",
       "    </tr>\n",
       "    <tr>\n",
       "      <th>freq</th>\n",
       "      <td>12</td>\n",
       "      <td>4134</td>\n",
       "      <td>3591</td>\n",
       "      <td>4372</td>\n",
       "      <td>3</td>\n",
       "      <td>654</td>\n",
       "      <td>1743</td>\n",
       "      <td>2</td>\n",
       "      <td>242</td>\n",
       "      <td>4651</td>\n",
       "    </tr>\n",
       "  </tbody>\n",
       "</table>\n",
       "</div>"
      ],
      "text/plain": [
       "                last_update kitchen    ac furnished  \\\n",
       "count                  4730    4730  4730      4730   \n",
       "unique                 4438       3     3         3   \n",
       "top     2022-08-04 09:02:12     yes   yes        no   \n",
       "freq                     12    4134  3591      4372   \n",
       "\n",
       "                                                 location   district  \\\n",
       "count                                                4730       4730   \n",
       "unique                                               4709        121   \n",
       "top     {'lat': 24.900266, 'lng': 46.619681, '__typena...  حي النرجس   \n",
       "freq                                                    3        654   \n",
       "\n",
       "           advertiser_type          create_time             UserName  \\\n",
       "count                 4730                 4730                 4730   \n",
       "unique                   5                 4727                 1036   \n",
       "top     exclusive_marketer  2022-07-25 18:04:07  ‏مؤسسة الحلم العربي   \n",
       "freq                  1743                    2                  242   \n",
       "\n",
       "       iam_verified  \n",
       "count          4730  \n",
       "unique            3  \n",
       "top             yes  \n",
       "freq           4651  "
      ]
     },
     "execution_count": 20,
     "metadata": {},
     "output_type": "execute_result"
    }
   ],
   "source": [
    "Real_Estate.describe(include='object')"
   ]
  },
  {
   "cell_type": "markdown",
   "id": "97e84abd",
   "metadata": {},
   "source": [
    "# Riyadh_Aqqar_Land dataset"
   ]
  },
  {
   "cell_type": "code",
   "execution_count": 21,
   "id": "7925edf6",
   "metadata": {},
   "outputs": [
    {
     "data": {
      "text/plain": [
       "np.float64(2367285.0)"
      ]
     },
     "execution_count": 21,
     "metadata": {},
     "output_type": "execute_result"
    }
   ],
   "source": [
    "Riyadh_Aqqar_Land[\"السعر الإجمالي\"].median()"
   ]
  },
  {
   "cell_type": "code",
   "execution_count": 22,
   "id": "5c381c2f",
   "metadata": {},
   "outputs": [
    {
     "data": {
      "text/plain": [
       "1275     1000200\n",
       "970      1000500\n",
       "973      1000500\n",
       "890      1000740\n",
       "893      1000740\n",
       "          ...   \n",
       "651     28350000\n",
       "1288    28875000\n",
       "992     29315000\n",
       "837     29680000\n",
       "1094    30240000\n",
       "Name: السعر الإجمالي, Length: 1389, dtype: int64"
      ]
     },
     "execution_count": 22,
     "metadata": {},
     "output_type": "execute_result"
    }
   ],
   "source": [
    "Riyadh_Aqqar_Land[\"السعر الإجمالي\"].sort_values()"
   ]
  },
  {
   "cell_type": "code",
   "execution_count": 23,
   "id": "96382349",
   "metadata": {},
   "outputs": [
    {
     "data": {
      "text/html": [
       "\n",
       "        <iframe\n",
       "            width=\"100%\"\n",
       "            height=\"475\"\n",
       "            src=\"http://suliman-laptop:40000/dtale/iframe/2\"\n",
       "            frameborder=\"0\"\n",
       "            allowfullscreen\n",
       "            \n",
       "        ></iframe>\n",
       "        "
      ],
      "text/plain": [
       "<IPython.lib.display.IFrame at 0x2123ab87d90>"
      ]
     },
     "metadata": {},
     "output_type": "display_data"
    },
    {
     "data": {
      "text/plain": []
     },
     "execution_count": 23,
     "metadata": {},
     "output_type": "execute_result"
    }
   ],
   "source": [
    "dtale.show(Riyadh_Aqqar_Land)"
   ]
  },
  {
   "cell_type": "code",
   "execution_count": 24,
   "id": "f477e1d9",
   "metadata": {},
   "outputs": [
    {
     "data": {
      "text/plain": [
       "Index(['نوع العقار', 'الغرض', 'المدينة', 'الحي', 'الواجهة', 'المساحة',\n",
       "       'سعر المتر', 'السعر الإجمالي'],\n",
       "      dtype='object')"
      ]
     },
     "execution_count": 24,
     "metadata": {},
     "output_type": "execute_result"
    }
   ],
   "source": [
    "Riyadh_Aqqar_Land.columns"
   ]
  },
  {
   "cell_type": "code",
   "execution_count": 25,
   "id": "22bb0c36",
   "metadata": {},
   "outputs": [
    {
     "data": {
      "text/plain": [
       "(1389, 8)"
      ]
     },
     "execution_count": 25,
     "metadata": {},
     "output_type": "execute_result"
    }
   ],
   "source": [
    "Riyadh_Aqqar_Land.shape"
   ]
  },
  {
   "cell_type": "code",
   "execution_count": 26,
   "id": "84277546",
   "metadata": {},
   "outputs": [
    {
     "name": "stdout",
     "output_type": "stream",
     "text": [
      "<class 'pandas.core.frame.DataFrame'>\n",
      "RangeIndex: 1389 entries, 0 to 1388\n",
      "Data columns (total 8 columns):\n",
      " #   Column          Non-Null Count  Dtype  \n",
      "---  ------          --------------  -----  \n",
      " 0   نوع العقار      1389 non-null   object \n",
      " 1   الغرض           1389 non-null   object \n",
      " 2   المدينة         1389 non-null   object \n",
      " 3   الحي            1389 non-null   object \n",
      " 4   الواجهة         1389 non-null   object \n",
      " 5   المساحة         1389 non-null   int64  \n",
      " 6   سعر المتر       1389 non-null   float64\n",
      " 7   السعر الإجمالي  1389 non-null   int64  \n",
      "dtypes: float64(1), int64(2), object(5)\n",
      "memory usage: 86.9+ KB\n"
     ]
    }
   ],
   "source": [
    "Riyadh_Aqqar_Land.info()"
   ]
  },
  {
   "cell_type": "code",
   "execution_count": 27,
   "id": "88614705",
   "metadata": {},
   "outputs": [
    {
     "data": {
      "text/html": [
       "<div>\n",
       "<style scoped>\n",
       "    .dataframe tbody tr th:only-of-type {\n",
       "        vertical-align: middle;\n",
       "    }\n",
       "\n",
       "    .dataframe tbody tr th {\n",
       "        vertical-align: top;\n",
       "    }\n",
       "\n",
       "    .dataframe thead th {\n",
       "        text-align: right;\n",
       "    }\n",
       "</style>\n",
       "<table border=\"1\" class=\"dataframe\">\n",
       "  <thead>\n",
       "    <tr style=\"text-align: right;\">\n",
       "      <th></th>\n",
       "      <th>المساحة</th>\n",
       "      <th>سعر المتر</th>\n",
       "      <th>السعر الإجمالي</th>\n",
       "    </tr>\n",
       "  </thead>\n",
       "  <tbody>\n",
       "    <tr>\n",
       "      <th>count</th>\n",
       "      <td>1389.000000</td>\n",
       "      <td>1389.000000</td>\n",
       "      <td>1.389000e+03</td>\n",
       "    </tr>\n",
       "    <tr>\n",
       "      <th>mean</th>\n",
       "      <td>1285.329014</td>\n",
       "      <td>3812.770338</td>\n",
       "      <td>4.054406e+06</td>\n",
       "    </tr>\n",
       "    <tr>\n",
       "      <th>std</th>\n",
       "      <td>2014.781221</td>\n",
       "      <td>2214.651475</td>\n",
       "      <td>4.811424e+06</td>\n",
       "    </tr>\n",
       "    <tr>\n",
       "      <th>min</th>\n",
       "      <td>200.000000</td>\n",
       "      <td>250.000000</td>\n",
       "      <td>1.000200e+06</td>\n",
       "    </tr>\n",
       "    <tr>\n",
       "      <th>25%</th>\n",
       "      <td>450.000000</td>\n",
       "      <td>2500.000000</td>\n",
       "      <td>1.425000e+06</td>\n",
       "    </tr>\n",
       "    <tr>\n",
       "      <th>50%</th>\n",
       "      <td>750.000000</td>\n",
       "      <td>3300.000000</td>\n",
       "      <td>2.367285e+06</td>\n",
       "    </tr>\n",
       "    <tr>\n",
       "      <th>75%</th>\n",
       "      <td>1089.000000</td>\n",
       "      <td>4900.000000</td>\n",
       "      <td>4.125000e+06</td>\n",
       "    </tr>\n",
       "    <tr>\n",
       "      <th>max</th>\n",
       "      <td>26966.000000</td>\n",
       "      <td>19780.000000</td>\n",
       "      <td>3.024000e+07</td>\n",
       "    </tr>\n",
       "  </tbody>\n",
       "</table>\n",
       "</div>"
      ],
      "text/plain": [
       "            المساحة     سعر المتر  السعر الإجمالي\n",
       "count   1389.000000   1389.000000    1.389000e+03\n",
       "mean    1285.329014   3812.770338    4.054406e+06\n",
       "std     2014.781221   2214.651475    4.811424e+06\n",
       "min      200.000000    250.000000    1.000200e+06\n",
       "25%      450.000000   2500.000000    1.425000e+06\n",
       "50%      750.000000   3300.000000    2.367285e+06\n",
       "75%     1089.000000   4900.000000    4.125000e+06\n",
       "max    26966.000000  19780.000000    3.024000e+07"
      ]
     },
     "execution_count": 27,
     "metadata": {},
     "output_type": "execute_result"
    }
   ],
   "source": [
    "Riyadh_Aqqar_Land.describe(include=\"number\")"
   ]
  },
  {
   "cell_type": "code",
   "execution_count": 28,
   "id": "52e10cca",
   "metadata": {},
   "outputs": [
    {
     "data": {
      "text/html": [
       "<div>\n",
       "<style scoped>\n",
       "    .dataframe tbody tr th:only-of-type {\n",
       "        vertical-align: middle;\n",
       "    }\n",
       "\n",
       "    .dataframe tbody tr th {\n",
       "        vertical-align: top;\n",
       "    }\n",
       "\n",
       "    .dataframe thead th {\n",
       "        text-align: right;\n",
       "    }\n",
       "</style>\n",
       "<table border=\"1\" class=\"dataframe\">\n",
       "  <thead>\n",
       "    <tr style=\"text-align: right;\">\n",
       "      <th></th>\n",
       "      <th>نوع العقار</th>\n",
       "      <th>الغرض</th>\n",
       "      <th>المدينة</th>\n",
       "      <th>الحي</th>\n",
       "      <th>الواجهة</th>\n",
       "    </tr>\n",
       "  </thead>\n",
       "  <tbody>\n",
       "    <tr>\n",
       "      <th>count</th>\n",
       "      <td>1389</td>\n",
       "      <td>1389</td>\n",
       "      <td>1389</td>\n",
       "      <td>1389</td>\n",
       "      <td>1389</td>\n",
       "    </tr>\n",
       "    <tr>\n",
       "      <th>unique</th>\n",
       "      <td>1</td>\n",
       "      <td>4</td>\n",
       "      <td>7</td>\n",
       "      <td>123</td>\n",
       "      <td>9</td>\n",
       "    </tr>\n",
       "    <tr>\n",
       "      <th>top</th>\n",
       "      <td>أرض</td>\n",
       "      <td>سكني</td>\n",
       "      <td>الرياض</td>\n",
       "      <td>الرياض</td>\n",
       "      <td>جنوبية</td>\n",
       "    </tr>\n",
       "    <tr>\n",
       "      <th>freq</th>\n",
       "      <td>1389</td>\n",
       "      <td>907</td>\n",
       "      <td>1244</td>\n",
       "      <td>279</td>\n",
       "      <td>322</td>\n",
       "    </tr>\n",
       "  </tbody>\n",
       "</table>\n",
       "</div>"
      ],
      "text/plain": [
       "       نوع العقار الغرض المدينة    الحي الواجهة\n",
       "count        1389  1389    1389    1389    1389\n",
       "unique          1     4       7     123       9\n",
       "top           أرض  سكني  الرياض  الرياض  جنوبية\n",
       "freq         1389   907    1244     279     322"
      ]
     },
     "execution_count": 28,
     "metadata": {},
     "output_type": "execute_result"
    }
   ],
   "source": [
    "Riyadh_Aqqar_Land.describe(include=\"object\")"
   ]
  },
  {
   "cell_type": "markdown",
   "id": "489c9ec3",
   "metadata": {},
   "source": [
    "# Riyadh_Aqqar_Villas dataset"
   ]
  },
  {
   "cell_type": "code",
   "execution_count": 29,
   "id": "f4229b3b",
   "metadata": {},
   "outputs": [
    {
     "data": {
      "text/html": [
       "\n",
       "        <iframe\n",
       "            width=\"100%\"\n",
       "            height=\"475\"\n",
       "            src=\"http://suliman-laptop:40000/dtale/iframe/3\"\n",
       "            frameborder=\"0\"\n",
       "            allowfullscreen\n",
       "            \n",
       "        ></iframe>\n",
       "        "
      ],
      "text/plain": [
       "<IPython.lib.display.IFrame at 0x21226488050>"
      ]
     },
     "metadata": {},
     "output_type": "display_data"
    },
    {
     "data": {
      "text/plain": []
     },
     "execution_count": 29,
     "metadata": {},
     "output_type": "execute_result"
    }
   ],
   "source": [
    "dtale.show(Riyadh_Aqqar_Villas)"
   ]
  },
  {
   "cell_type": "code",
   "execution_count": 30,
   "id": "ab7b5525",
   "metadata": {},
   "outputs": [
    {
     "data": {
      "text/plain": [
       "Index(['نوع العقار', 'المدينة', 'الحي', 'الواجهة', 'عدد الغرف', 'عدد الصالات',\n",
       "       'عدد الحمامات', 'عرض الشارع', 'المساحة', 'درج صالة', 'مطبخ',\n",
       "       'غرفة خادمة', 'غرفة سائق', 'ملحق', 'حوش', 'مسبح', 'قبو', 'مدخل سيارة',\n",
       "       'مصعد', 'السعر الاجمالي'],\n",
       "      dtype='object')"
      ]
     },
     "execution_count": 30,
     "metadata": {},
     "output_type": "execute_result"
    }
   ],
   "source": [
    "Riyadh_Aqqar_Villas.columns"
   ]
  },
  {
   "cell_type": "code",
   "execution_count": 31,
   "id": "ad42592d",
   "metadata": {},
   "outputs": [
    {
     "name": "stdout",
     "output_type": "stream",
     "text": [
      "<class 'pandas.core.frame.DataFrame'>\n",
      "RangeIndex: 1087 entries, 0 to 1086\n",
      "Data columns (total 20 columns):\n",
      " #   Column          Non-Null Count  Dtype  \n",
      "---  ------          --------------  -----  \n",
      " 0   نوع العقار      1087 non-null   object \n",
      " 1   المدينة         1087 non-null   object \n",
      " 2   الحي            1087 non-null   object \n",
      " 3   الواجهة         1087 non-null   object \n",
      " 4   عدد الغرف       1087 non-null   object \n",
      " 5   عدد الصالات     1087 non-null   object \n",
      " 6   عدد الحمامات    1087 non-null   object \n",
      " 7   عرض الشارع      1087 non-null   float64\n",
      " 8   المساحة         1087 non-null   float64\n",
      " 9   درج صالة        1087 non-null   bool   \n",
      " 10  مطبخ            1087 non-null   bool   \n",
      " 11  غرفة خادمة      1087 non-null   bool   \n",
      " 12  غرفة سائق       1087 non-null   bool   \n",
      " 13  ملحق            1087 non-null   bool   \n",
      " 14  حوش             1087 non-null   bool   \n",
      " 15  مسبح            1087 non-null   bool   \n",
      " 16  قبو             1087 non-null   bool   \n",
      " 17  مدخل سيارة      1087 non-null   bool   \n",
      " 18  مصعد            1087 non-null   bool   \n",
      " 19  السعر الاجمالي  1087 non-null   int64  \n",
      "dtypes: bool(10), float64(2), int64(1), object(7)\n",
      "memory usage: 95.7+ KB\n"
     ]
    }
   ],
   "source": [
    "Riyadh_Aqqar_Villas.info()"
   ]
  },
  {
   "cell_type": "code",
   "execution_count": 32,
   "id": "fe384c20",
   "metadata": {},
   "outputs": [
    {
     "data": {
      "text/html": [
       "<div>\n",
       "<style scoped>\n",
       "    .dataframe tbody tr th:only-of-type {\n",
       "        vertical-align: middle;\n",
       "    }\n",
       "\n",
       "    .dataframe tbody tr th {\n",
       "        vertical-align: top;\n",
       "    }\n",
       "\n",
       "    .dataframe thead th {\n",
       "        text-align: right;\n",
       "    }\n",
       "</style>\n",
       "<table border=\"1\" class=\"dataframe\">\n",
       "  <thead>\n",
       "    <tr style=\"text-align: right;\">\n",
       "      <th></th>\n",
       "      <th>عرض الشارع</th>\n",
       "      <th>المساحة</th>\n",
       "      <th>السعر الاجمالي</th>\n",
       "    </tr>\n",
       "  </thead>\n",
       "  <tbody>\n",
       "    <tr>\n",
       "      <th>count</th>\n",
       "      <td>1087.000000</td>\n",
       "      <td>1087.000000</td>\n",
       "      <td>1.087000e+03</td>\n",
       "    </tr>\n",
       "    <tr>\n",
       "      <th>mean</th>\n",
       "      <td>17.675253</td>\n",
       "      <td>392.821527</td>\n",
       "      <td>2.632188e+06</td>\n",
       "    </tr>\n",
       "    <tr>\n",
       "      <th>std</th>\n",
       "      <td>3.128666</td>\n",
       "      <td>241.345918</td>\n",
       "      <td>2.094255e+06</td>\n",
       "    </tr>\n",
       "    <tr>\n",
       "      <th>min</th>\n",
       "      <td>5.000000</td>\n",
       "      <td>0.000000</td>\n",
       "      <td>3.000000e+05</td>\n",
       "    </tr>\n",
       "    <tr>\n",
       "      <th>25%</th>\n",
       "      <td>18.000000</td>\n",
       "      <td>270.000000</td>\n",
       "      <td>1.500000e+06</td>\n",
       "    </tr>\n",
       "    <tr>\n",
       "      <th>50%</th>\n",
       "      <td>18.000000</td>\n",
       "      <td>330.000000</td>\n",
       "      <td>2.150000e+06</td>\n",
       "    </tr>\n",
       "    <tr>\n",
       "      <th>75%</th>\n",
       "      <td>18.000000</td>\n",
       "      <td>450.000000</td>\n",
       "      <td>3.000000e+06</td>\n",
       "    </tr>\n",
       "    <tr>\n",
       "      <th>max</th>\n",
       "      <td>40.000000</td>\n",
       "      <td>2500.000000</td>\n",
       "      <td>2.250000e+07</td>\n",
       "    </tr>\n",
       "  </tbody>\n",
       "</table>\n",
       "</div>"
      ],
      "text/plain": [
       "        عرض الشارع      المساحة  السعر الاجمالي\n",
       "count  1087.000000  1087.000000    1.087000e+03\n",
       "mean     17.675253   392.821527    2.632188e+06\n",
       "std       3.128666   241.345918    2.094255e+06\n",
       "min       5.000000     0.000000    3.000000e+05\n",
       "25%      18.000000   270.000000    1.500000e+06\n",
       "50%      18.000000   330.000000    2.150000e+06\n",
       "75%      18.000000   450.000000    3.000000e+06\n",
       "max      40.000000  2500.000000    2.250000e+07"
      ]
     },
     "execution_count": 32,
     "metadata": {},
     "output_type": "execute_result"
    }
   ],
   "source": [
    "Riyadh_Aqqar_Villas.describe(include=\"number\")"
   ]
  },
  {
   "cell_type": "code",
   "execution_count": 33,
   "id": "3ee6624a",
   "metadata": {},
   "outputs": [
    {
     "data": {
      "text/html": [
       "<div>\n",
       "<style scoped>\n",
       "    .dataframe tbody tr th:only-of-type {\n",
       "        vertical-align: middle;\n",
       "    }\n",
       "\n",
       "    .dataframe tbody tr th {\n",
       "        vertical-align: top;\n",
       "    }\n",
       "\n",
       "    .dataframe thead th {\n",
       "        text-align: right;\n",
       "    }\n",
       "</style>\n",
       "<table border=\"1\" class=\"dataframe\">\n",
       "  <thead>\n",
       "    <tr style=\"text-align: right;\">\n",
       "      <th></th>\n",
       "      <th>نوع العقار</th>\n",
       "      <th>المدينة</th>\n",
       "      <th>الحي</th>\n",
       "      <th>الواجهة</th>\n",
       "      <th>عدد الغرف</th>\n",
       "      <th>عدد الصالات</th>\n",
       "      <th>عدد الحمامات</th>\n",
       "    </tr>\n",
       "  </thead>\n",
       "  <tbody>\n",
       "    <tr>\n",
       "      <th>count</th>\n",
       "      <td>1087</td>\n",
       "      <td>1087</td>\n",
       "      <td>1087</td>\n",
       "      <td>1087</td>\n",
       "      <td>1087</td>\n",
       "      <td>1087</td>\n",
       "      <td>1087</td>\n",
       "    </tr>\n",
       "    <tr>\n",
       "      <th>unique</th>\n",
       "      <td>1</td>\n",
       "      <td>9</td>\n",
       "      <td>100</td>\n",
       "      <td>9</td>\n",
       "      <td>8</td>\n",
       "      <td>7</td>\n",
       "      <td>6</td>\n",
       "    </tr>\n",
       "    <tr>\n",
       "      <th>top</th>\n",
       "      <td>فيلا</td>\n",
       "      <td>الرياض</td>\n",
       "      <td>الرياض</td>\n",
       "      <td>شمالية</td>\n",
       "      <td>5</td>\n",
       "      <td>2</td>\n",
       "      <td>5+</td>\n",
       "    </tr>\n",
       "    <tr>\n",
       "      <th>freq</th>\n",
       "      <td>1087</td>\n",
       "      <td>933</td>\n",
       "      <td>123</td>\n",
       "      <td>258</td>\n",
       "      <td>396</td>\n",
       "      <td>432</td>\n",
       "      <td>793</td>\n",
       "    </tr>\n",
       "  </tbody>\n",
       "</table>\n",
       "</div>"
      ],
      "text/plain": [
       "       نوع العقار   المدينة    الحي الواجهة عدد الغرف عدد الصالات عدد الحمامات\n",
       "count        1087      1087    1087    1087      1087        1087         1087\n",
       "unique          1         9     100       9         8           7            6\n",
       "top          فيلا   الرياض   الرياض  شمالية         5           2           5+\n",
       "freq         1087       933     123     258       396         432          793"
      ]
     },
     "execution_count": 33,
     "metadata": {},
     "output_type": "execute_result"
    }
   ],
   "source": [
    "Riyadh_Aqqar_Villas.describe(include=\"object\")"
   ]
  },
  {
   "cell_type": "markdown",
   "id": "c37c40fb",
   "metadata": {},
   "source": [
    "# Riyadh_Aqqar_Apartments dataset"
   ]
  },
  {
   "cell_type": "code",
   "execution_count": 34,
   "id": "0f20be51",
   "metadata": {},
   "outputs": [
    {
     "data": {
      "text/html": [
       "\n",
       "        <iframe\n",
       "            width=\"100%\"\n",
       "            height=\"475\"\n",
       "            src=\"http://suliman-laptop:40000/dtale/iframe/4\"\n",
       "            frameborder=\"0\"\n",
       "            allowfullscreen\n",
       "            \n",
       "        ></iframe>\n",
       "        "
      ],
      "text/plain": [
       "<IPython.lib.display.IFrame at 0x21236d269e0>"
      ]
     },
     "metadata": {},
     "output_type": "display_data"
    },
    {
     "data": {
      "text/plain": []
     },
     "execution_count": 34,
     "metadata": {},
     "output_type": "execute_result"
    }
   ],
   "source": [
    "dtale.show(Riyadh_Aqqar_Apartments)"
   ]
  },
  {
   "cell_type": "code",
   "execution_count": 35,
   "id": "7041e382",
   "metadata": {},
   "outputs": [
    {
     "data": {
      "text/plain": [
       "Index(['نوع العقار', 'المدينة', 'الحي', 'الواجهة', 'عدد الغرف', 'عدد الصالات',\n",
       "       'عدد الحمامات', 'المساحة', 'مطبخ', 'مدخل سيارة', 'مصعد', 'الدور',\n",
       "       'عمر العقار', 'مؤثثة', 'السعر الاجمالي'],\n",
       "      dtype='object')"
      ]
     },
     "execution_count": 35,
     "metadata": {},
     "output_type": "execute_result"
    }
   ],
   "source": [
    "Riyadh_Aqqar_Apartments.columns"
   ]
  },
  {
   "cell_type": "code",
   "execution_count": 36,
   "id": "eeda6c26",
   "metadata": {},
   "outputs": [
    {
     "name": "stdout",
     "output_type": "stream",
     "text": [
      "<class 'pandas.core.frame.DataFrame'>\n",
      "RangeIndex: 551 entries, 0 to 550\n",
      "Data columns (total 15 columns):\n",
      " #   Column          Non-Null Count  Dtype  \n",
      "---  ------          --------------  -----  \n",
      " 0   نوع العقار      551 non-null    object \n",
      " 1   المدينة         551 non-null    object \n",
      " 2   الحي            551 non-null    object \n",
      " 3   الواجهة         389 non-null    object \n",
      " 4   عدد الغرف       551 non-null    int64  \n",
      " 5   عدد الصالات     541 non-null    float64\n",
      " 6   عدد الحمامات    551 non-null    object \n",
      " 7   المساحة         551 non-null    int64  \n",
      " 8   مطبخ            551 non-null    int64  \n",
      " 9   مدخل سيارة      551 non-null    int64  \n",
      " 10  مصعد            551 non-null    int64  \n",
      " 11  الدور           477 non-null    object \n",
      " 12  عمر العقار      550 non-null    float64\n",
      " 13  مؤثثة           551 non-null    int64  \n",
      " 14  السعر الاجمالي  551 non-null    int64  \n",
      "dtypes: float64(2), int64(7), object(6)\n",
      "memory usage: 64.7+ KB\n"
     ]
    }
   ],
   "source": [
    "Riyadh_Aqqar_Apartments.info()"
   ]
  },
  {
   "cell_type": "code",
   "execution_count": 37,
   "id": "3eb4824b",
   "metadata": {},
   "outputs": [
    {
     "data": {
      "text/html": [
       "<div>\n",
       "<style scoped>\n",
       "    .dataframe tbody tr th:only-of-type {\n",
       "        vertical-align: middle;\n",
       "    }\n",
       "\n",
       "    .dataframe tbody tr th {\n",
       "        vertical-align: top;\n",
       "    }\n",
       "\n",
       "    .dataframe thead th {\n",
       "        text-align: right;\n",
       "    }\n",
       "</style>\n",
       "<table border=\"1\" class=\"dataframe\">\n",
       "  <thead>\n",
       "    <tr style=\"text-align: right;\">\n",
       "      <th></th>\n",
       "      <th>عدد الغرف</th>\n",
       "      <th>عدد الصالات</th>\n",
       "      <th>المساحة</th>\n",
       "      <th>مطبخ</th>\n",
       "      <th>مدخل سيارة</th>\n",
       "      <th>مصعد</th>\n",
       "      <th>عمر العقار</th>\n",
       "      <th>مؤثثة</th>\n",
       "      <th>السعر الاجمالي</th>\n",
       "    </tr>\n",
       "  </thead>\n",
       "  <tbody>\n",
       "    <tr>\n",
       "      <th>count</th>\n",
       "      <td>551.000000</td>\n",
       "      <td>541.000000</td>\n",
       "      <td>551.000000</td>\n",
       "      <td>551.000000</td>\n",
       "      <td>551.000000</td>\n",
       "      <td>551.000000</td>\n",
       "      <td>550.000000</td>\n",
       "      <td>551.000000</td>\n",
       "      <td>5.510000e+02</td>\n",
       "    </tr>\n",
       "    <tr>\n",
       "      <th>mean</th>\n",
       "      <td>3.029038</td>\n",
       "      <td>1.253235</td>\n",
       "      <td>151.633394</td>\n",
       "      <td>0.735027</td>\n",
       "      <td>0.346642</td>\n",
       "      <td>0.689655</td>\n",
       "      <td>1.385455</td>\n",
       "      <td>0.165154</td>\n",
       "      <td>1.137539e+06</td>\n",
       "    </tr>\n",
       "    <tr>\n",
       "      <th>std</th>\n",
       "      <td>0.755026</td>\n",
       "      <td>0.443694</td>\n",
       "      <td>41.423181</td>\n",
       "      <td>0.441720</td>\n",
       "      <td>0.476333</td>\n",
       "      <td>0.463055</td>\n",
       "      <td>2.955740</td>\n",
       "      <td>0.371657</td>\n",
       "      <td>3.315825e+05</td>\n",
       "    </tr>\n",
       "    <tr>\n",
       "      <th>min</th>\n",
       "      <td>1.000000</td>\n",
       "      <td>1.000000</td>\n",
       "      <td>43.000000</td>\n",
       "      <td>0.000000</td>\n",
       "      <td>0.000000</td>\n",
       "      <td>0.000000</td>\n",
       "      <td>0.000000</td>\n",
       "      <td>0.000000</td>\n",
       "      <td>7.000000e+05</td>\n",
       "    </tr>\n",
       "    <tr>\n",
       "      <th>25%</th>\n",
       "      <td>3.000000</td>\n",
       "      <td>1.000000</td>\n",
       "      <td>126.000000</td>\n",
       "      <td>0.000000</td>\n",
       "      <td>0.000000</td>\n",
       "      <td>0.000000</td>\n",
       "      <td>0.000000</td>\n",
       "      <td>0.000000</td>\n",
       "      <td>9.000000e+05</td>\n",
       "    </tr>\n",
       "    <tr>\n",
       "      <th>50%</th>\n",
       "      <td>3.000000</td>\n",
       "      <td>1.000000</td>\n",
       "      <td>142.000000</td>\n",
       "      <td>1.000000</td>\n",
       "      <td>0.000000</td>\n",
       "      <td>1.000000</td>\n",
       "      <td>0.000000</td>\n",
       "      <td>0.000000</td>\n",
       "      <td>1.100000e+06</td>\n",
       "    </tr>\n",
       "    <tr>\n",
       "      <th>75%</th>\n",
       "      <td>3.000000</td>\n",
       "      <td>1.000000</td>\n",
       "      <td>169.000000</td>\n",
       "      <td>1.000000</td>\n",
       "      <td>1.000000</td>\n",
       "      <td>1.000000</td>\n",
       "      <td>1.000000</td>\n",
       "      <td>0.000000</td>\n",
       "      <td>1.270000e+06</td>\n",
       "    </tr>\n",
       "    <tr>\n",
       "      <th>max</th>\n",
       "      <td>6.000000</td>\n",
       "      <td>3.000000</td>\n",
       "      <td>428.000000</td>\n",
       "      <td>1.000000</td>\n",
       "      <td>1.000000</td>\n",
       "      <td>1.000000</td>\n",
       "      <td>13.000000</td>\n",
       "      <td>1.000000</td>\n",
       "      <td>3.500000e+06</td>\n",
       "    </tr>\n",
       "  </tbody>\n",
       "</table>\n",
       "</div>"
      ],
      "text/plain": [
       "        عدد الغرف  عدد الصالات     المساحة        مطبخ  مدخل سيارة  \\\n",
       "count  551.000000   541.000000  551.000000  551.000000  551.000000   \n",
       "mean     3.029038     1.253235  151.633394    0.735027    0.346642   \n",
       "std      0.755026     0.443694   41.423181    0.441720    0.476333   \n",
       "min      1.000000     1.000000   43.000000    0.000000    0.000000   \n",
       "25%      3.000000     1.000000  126.000000    0.000000    0.000000   \n",
       "50%      3.000000     1.000000  142.000000    1.000000    0.000000   \n",
       "75%      3.000000     1.000000  169.000000    1.000000    1.000000   \n",
       "max      6.000000     3.000000  428.000000    1.000000    1.000000   \n",
       "\n",
       "             مصعد  عمر العقار       مؤثثة  السعر الاجمالي  \n",
       "count  551.000000  550.000000  551.000000    5.510000e+02  \n",
       "mean     0.689655    1.385455    0.165154    1.137539e+06  \n",
       "std      0.463055    2.955740    0.371657    3.315825e+05  \n",
       "min      0.000000    0.000000    0.000000    7.000000e+05  \n",
       "25%      0.000000    0.000000    0.000000    9.000000e+05  \n",
       "50%      1.000000    0.000000    0.000000    1.100000e+06  \n",
       "75%      1.000000    1.000000    0.000000    1.270000e+06  \n",
       "max      1.000000   13.000000    1.000000    3.500000e+06  "
      ]
     },
     "execution_count": 37,
     "metadata": {},
     "output_type": "execute_result"
    }
   ],
   "source": [
    "Riyadh_Aqqar_Apartments.describe(include=\"number\")"
   ]
  },
  {
   "cell_type": "code",
   "execution_count": 38,
   "id": "3a82aa50",
   "metadata": {},
   "outputs": [
    {
     "data": {
      "text/html": [
       "<div>\n",
       "<style scoped>\n",
       "    .dataframe tbody tr th:only-of-type {\n",
       "        vertical-align: middle;\n",
       "    }\n",
       "\n",
       "    .dataframe tbody tr th {\n",
       "        vertical-align: top;\n",
       "    }\n",
       "\n",
       "    .dataframe thead th {\n",
       "        text-align: right;\n",
       "    }\n",
       "</style>\n",
       "<table border=\"1\" class=\"dataframe\">\n",
       "  <thead>\n",
       "    <tr style=\"text-align: right;\">\n",
       "      <th></th>\n",
       "      <th>نوع العقار</th>\n",
       "      <th>المدينة</th>\n",
       "      <th>الحي</th>\n",
       "      <th>الواجهة</th>\n",
       "      <th>عدد الحمامات</th>\n",
       "      <th>الدور</th>\n",
       "    </tr>\n",
       "  </thead>\n",
       "  <tbody>\n",
       "    <tr>\n",
       "      <th>count</th>\n",
       "      <td>551</td>\n",
       "      <td>551</td>\n",
       "      <td>551</td>\n",
       "      <td>389</td>\n",
       "      <td>551</td>\n",
       "      <td>477</td>\n",
       "    </tr>\n",
       "    <tr>\n",
       "      <th>unique</th>\n",
       "      <td>1</td>\n",
       "      <td>5</td>\n",
       "      <td>26</td>\n",
       "      <td>9</td>\n",
       "      <td>5</td>\n",
       "      <td>10</td>\n",
       "    </tr>\n",
       "    <tr>\n",
       "      <th>top</th>\n",
       "      <td>شقة</td>\n",
       "      <td>الرياض</td>\n",
       "      <td>حي النرجس</td>\n",
       "      <td>شمالية</td>\n",
       "      <td>3</td>\n",
       "      <td>أرضي</td>\n",
       "    </tr>\n",
       "    <tr>\n",
       "      <th>freq</th>\n",
       "      <td>551</td>\n",
       "      <td>477</td>\n",
       "      <td>134</td>\n",
       "      <td>96</td>\n",
       "      <td>396</td>\n",
       "      <td>178</td>\n",
       "    </tr>\n",
       "  </tbody>\n",
       "</table>\n",
       "</div>"
      ],
      "text/plain": [
       "       نوع العقار   المدينة         الحي الواجهة  عدد الحمامات الدور\n",
       "count         551       551          551     389           551   477\n",
       "unique          1         5           26       9             5    10\n",
       "top           شقة   الرياض    حي النرجس   شمالية             3  أرضي\n",
       "freq          551       477          134      96           396   178"
      ]
     },
     "execution_count": 38,
     "metadata": {},
     "output_type": "execute_result"
    }
   ],
   "source": [
    "Riyadh_Aqqar_Apartments.describe(include=\"object\")"
   ]
  },
  {
   "cell_type": "markdown",
   "id": "cee75832",
   "metadata": {},
   "source": [
    "# Riyadh_VillasAqar dataset"
   ]
  },
  {
   "cell_type": "code",
   "execution_count": 39,
   "id": "79ccc186",
   "metadata": {},
   "outputs": [
    {
     "data": {
      "text/html": [
       "\n",
       "        <iframe\n",
       "            width=\"100%\"\n",
       "            height=\"475\"\n",
       "            src=\"http://suliman-laptop:40000/dtale/iframe/5\"\n",
       "            frameborder=\"0\"\n",
       "            allowfullscreen\n",
       "            \n",
       "        ></iframe>\n",
       "        "
      ],
      "text/plain": [
       "<IPython.lib.display.IFrame at 0x21236d27100>"
      ]
     },
     "metadata": {},
     "output_type": "display_data"
    },
    {
     "data": {
      "text/plain": []
     },
     "execution_count": 39,
     "metadata": {},
     "output_type": "execute_result"
    }
   ],
   "source": [
    "dtale.show(Riyadh_VillasAqar)"
   ]
  },
  {
   "cell_type": "code",
   "execution_count": 40,
   "id": "2a9c83db",
   "metadata": {},
   "outputs": [
    {
     "data": {
      "text/plain": [
       "Index(['Unnamed: 0', 'front', 'rooms', 'lounges', 'bathrooms', 'streetWidth',\n",
       "       'stairs', 'propertyAge', 'driverRoom', 'tent', 'patio', 'kitchen',\n",
       "       'outdoorRoom', 'garage', 'duplex', 'space', 'apartments', 'maidRoom',\n",
       "       'elevator', 'furnihsed', 'pool', 'basement', 'neighbourhood',\n",
       "       'location', 'price', 'square price'],\n",
       "      dtype='object')"
      ]
     },
     "execution_count": 40,
     "metadata": {},
     "output_type": "execute_result"
    }
   ],
   "source": [
    "Riyadh_VillasAqar.columns"
   ]
  },
  {
   "cell_type": "code",
   "execution_count": 41,
   "id": "22ea2f98",
   "metadata": {},
   "outputs": [
    {
     "name": "stdout",
     "output_type": "stream",
     "text": [
      "<class 'pandas.core.frame.DataFrame'>\n",
      "RangeIndex: 46826 entries, 0 to 46825\n",
      "Data columns (total 26 columns):\n",
      " #   Column         Non-Null Count  Dtype  \n",
      "---  ------         --------------  -----  \n",
      " 0   Unnamed: 0     46826 non-null  int64  \n",
      " 1   front          46826 non-null  object \n",
      " 2   rooms          46826 non-null  int64  \n",
      " 3   lounges        45708 non-null  object \n",
      " 4   bathrooms      46826 non-null  object \n",
      " 5   streetWidth    46636 non-null  float64\n",
      " 6   stairs         46826 non-null  int64  \n",
      " 7   propertyAge    46826 non-null  int64  \n",
      " 8   driverRoom     46826 non-null  int64  \n",
      " 9   tent           46826 non-null  int64  \n",
      " 10  patio          46826 non-null  int64  \n",
      " 11  kitchen        46826 non-null  int64  \n",
      " 12  outdoorRoom    46826 non-null  int64  \n",
      " 13  garage         46826 non-null  int64  \n",
      " 14  duplex         46826 non-null  int64  \n",
      " 15  space          46826 non-null  int64  \n",
      " 16  apartments     46826 non-null  object \n",
      " 17  maidRoom       46826 non-null  int64  \n",
      " 18  elevator       46826 non-null  int64  \n",
      " 19  furnihsed      46826 non-null  int64  \n",
      " 20  pool           46826 non-null  int64  \n",
      " 21  basement       46826 non-null  int64  \n",
      " 22  neighbourhood  46826 non-null  object \n",
      " 23  location       46826 non-null  object \n",
      " 24  price          46824 non-null  float64\n",
      " 25  square price   46824 non-null  float64\n",
      "dtypes: float64(3), int64(17), object(6)\n",
      "memory usage: 9.3+ MB\n"
     ]
    }
   ],
   "source": [
    "Riyadh_VillasAqar.info()"
   ]
  },
  {
   "cell_type": "code",
   "execution_count": 42,
   "id": "0fe8d0be",
   "metadata": {},
   "outputs": [
    {
     "data": {
      "text/html": [
       "<div>\n",
       "<style scoped>\n",
       "    .dataframe tbody tr th:only-of-type {\n",
       "        vertical-align: middle;\n",
       "    }\n",
       "\n",
       "    .dataframe tbody tr th {\n",
       "        vertical-align: top;\n",
       "    }\n",
       "\n",
       "    .dataframe thead th {\n",
       "        text-align: right;\n",
       "    }\n",
       "</style>\n",
       "<table border=\"1\" class=\"dataframe\">\n",
       "  <thead>\n",
       "    <tr style=\"text-align: right;\">\n",
       "      <th></th>\n",
       "      <th>Unnamed: 0</th>\n",
       "      <th>rooms</th>\n",
       "      <th>streetWidth</th>\n",
       "      <th>stairs</th>\n",
       "      <th>propertyAge</th>\n",
       "      <th>driverRoom</th>\n",
       "      <th>tent</th>\n",
       "      <th>patio</th>\n",
       "      <th>kitchen</th>\n",
       "      <th>outdoorRoom</th>\n",
       "      <th>garage</th>\n",
       "      <th>duplex</th>\n",
       "      <th>space</th>\n",
       "      <th>maidRoom</th>\n",
       "      <th>elevator</th>\n",
       "      <th>furnihsed</th>\n",
       "      <th>pool</th>\n",
       "      <th>basement</th>\n",
       "      <th>price</th>\n",
       "      <th>square price</th>\n",
       "    </tr>\n",
       "  </thead>\n",
       "  <tbody>\n",
       "    <tr>\n",
       "      <th>count</th>\n",
       "      <td>46826.000000</td>\n",
       "      <td>46826.000000</td>\n",
       "      <td>46636.000000</td>\n",
       "      <td>46826.000000</td>\n",
       "      <td>46826.000000</td>\n",
       "      <td>46826.000000</td>\n",
       "      <td>46826.000000</td>\n",
       "      <td>46826.000000</td>\n",
       "      <td>46826.000000</td>\n",
       "      <td>46826.000000</td>\n",
       "      <td>46826.000000</td>\n",
       "      <td>46826.000000</td>\n",
       "      <td>46826.000000</td>\n",
       "      <td>46826.000000</td>\n",
       "      <td>46826.000000</td>\n",
       "      <td>46826.000000</td>\n",
       "      <td>46826.000000</td>\n",
       "      <td>46826.000000</td>\n",
       "      <td>4.682400e+04</td>\n",
       "      <td>46824.000000</td>\n",
       "    </tr>\n",
       "    <tr>\n",
       "      <th>mean</th>\n",
       "      <td>25915.132384</td>\n",
       "      <td>4.687439</td>\n",
       "      <td>18.158418</td>\n",
       "      <td>0.683979</td>\n",
       "      <td>2.454790</td>\n",
       "      <td>0.355871</td>\n",
       "      <td>0.466258</td>\n",
       "      <td>0.769380</td>\n",
       "      <td>0.979114</td>\n",
       "      <td>0.645112</td>\n",
       "      <td>0.907872</td>\n",
       "      <td>0.297698</td>\n",
       "      <td>380.021740</td>\n",
       "      <td>0.767821</td>\n",
       "      <td>0.235745</td>\n",
       "      <td>0.078738</td>\n",
       "      <td>0.116410</td>\n",
       "      <td>0.037671</td>\n",
       "      <td>2.347636e+06</td>\n",
       "      <td>6088.058800</td>\n",
       "    </tr>\n",
       "    <tr>\n",
       "      <th>std</th>\n",
       "      <td>14993.821359</td>\n",
       "      <td>1.104970</td>\n",
       "      <td>4.167866</td>\n",
       "      <td>0.464926</td>\n",
       "      <td>6.496833</td>\n",
       "      <td>0.478781</td>\n",
       "      <td>0.498866</td>\n",
       "      <td>0.421234</td>\n",
       "      <td>0.143004</td>\n",
       "      <td>0.478485</td>\n",
       "      <td>0.289210</td>\n",
       "      <td>0.457251</td>\n",
       "      <td>281.431272</td>\n",
       "      <td>0.422227</td>\n",
       "      <td>0.424468</td>\n",
       "      <td>0.269333</td>\n",
       "      <td>0.320719</td>\n",
       "      <td>0.190402</td>\n",
       "      <td>2.782053e+06</td>\n",
       "      <td>4515.845244</td>\n",
       "    </tr>\n",
       "    <tr>\n",
       "      <th>min</th>\n",
       "      <td>0.000000</td>\n",
       "      <td>1.000000</td>\n",
       "      <td>1.000000</td>\n",
       "      <td>0.000000</td>\n",
       "      <td>0.000000</td>\n",
       "      <td>0.000000</td>\n",
       "      <td>0.000000</td>\n",
       "      <td>0.000000</td>\n",
       "      <td>0.000000</td>\n",
       "      <td>0.000000</td>\n",
       "      <td>0.000000</td>\n",
       "      <td>0.000000</td>\n",
       "      <td>50.000000</td>\n",
       "      <td>0.000000</td>\n",
       "      <td>0.000000</td>\n",
       "      <td>0.000000</td>\n",
       "      <td>0.000000</td>\n",
       "      <td>0.000000</td>\n",
       "      <td>1.080000e+03</td>\n",
       "      <td>3.428571</td>\n",
       "    </tr>\n",
       "    <tr>\n",
       "      <th>25%</th>\n",
       "      <td>12925.250000</td>\n",
       "      <td>4.000000</td>\n",
       "      <td>15.000000</td>\n",
       "      <td>0.000000</td>\n",
       "      <td>0.000000</td>\n",
       "      <td>0.000000</td>\n",
       "      <td>0.000000</td>\n",
       "      <td>1.000000</td>\n",
       "      <td>1.000000</td>\n",
       "      <td>0.000000</td>\n",
       "      <td>1.000000</td>\n",
       "      <td>0.000000</td>\n",
       "      <td>270.000000</td>\n",
       "      <td>1.000000</td>\n",
       "      <td>0.000000</td>\n",
       "      <td>0.000000</td>\n",
       "      <td>0.000000</td>\n",
       "      <td>0.000000</td>\n",
       "      <td>1.180000e+06</td>\n",
       "      <td>3866.666667</td>\n",
       "    </tr>\n",
       "    <tr>\n",
       "      <th>50%</th>\n",
       "      <td>25836.500000</td>\n",
       "      <td>5.000000</td>\n",
       "      <td>20.000000</td>\n",
       "      <td>1.000000</td>\n",
       "      <td>0.000000</td>\n",
       "      <td>0.000000</td>\n",
       "      <td>0.000000</td>\n",
       "      <td>1.000000</td>\n",
       "      <td>1.000000</td>\n",
       "      <td>1.000000</td>\n",
       "      <td>1.000000</td>\n",
       "      <td>0.000000</td>\n",
       "      <td>312.000000</td>\n",
       "      <td>1.000000</td>\n",
       "      <td>0.000000</td>\n",
       "      <td>0.000000</td>\n",
       "      <td>0.000000</td>\n",
       "      <td>0.000000</td>\n",
       "      <td>1.600000e+06</td>\n",
       "      <td>5000.000000</td>\n",
       "    </tr>\n",
       "    <tr>\n",
       "      <th>75%</th>\n",
       "      <td>38917.750000</td>\n",
       "      <td>5.000000</td>\n",
       "      <td>20.000000</td>\n",
       "      <td>1.000000</td>\n",
       "      <td>0.000000</td>\n",
       "      <td>1.000000</td>\n",
       "      <td>1.000000</td>\n",
       "      <td>1.000000</td>\n",
       "      <td>1.000000</td>\n",
       "      <td>1.000000</td>\n",
       "      <td>1.000000</td>\n",
       "      <td>1.000000</td>\n",
       "      <td>400.000000</td>\n",
       "      <td>1.000000</td>\n",
       "      <td>0.000000</td>\n",
       "      <td>0.000000</td>\n",
       "      <td>0.000000</td>\n",
       "      <td>0.000000</td>\n",
       "      <td>2.600000e+06</td>\n",
       "      <td>7600.000000</td>\n",
       "    </tr>\n",
       "    <tr>\n",
       "      <th>max</th>\n",
       "      <td>51844.000000</td>\n",
       "      <td>7.000000</td>\n",
       "      <td>100.000000</td>\n",
       "      <td>1.000000</td>\n",
       "      <td>35.000000</td>\n",
       "      <td>1.000000</td>\n",
       "      <td>1.000000</td>\n",
       "      <td>1.000000</td>\n",
       "      <td>1.000000</td>\n",
       "      <td>1.000000</td>\n",
       "      <td>1.000000</td>\n",
       "      <td>1.000000</td>\n",
       "      <td>10000.000000</td>\n",
       "      <td>1.000000</td>\n",
       "      <td>1.000000</td>\n",
       "      <td>1.000000</td>\n",
       "      <td>1.000000</td>\n",
       "      <td>1.000000</td>\n",
       "      <td>1.000000e+08</td>\n",
       "      <td>136144.578300</td>\n",
       "    </tr>\n",
       "  </tbody>\n",
       "</table>\n",
       "</div>"
      ],
      "text/plain": [
       "         Unnamed: 0         rooms   streetWidth        stairs   propertyAge  \\\n",
       "count  46826.000000  46826.000000  46636.000000  46826.000000  46826.000000   \n",
       "mean   25915.132384      4.687439     18.158418      0.683979      2.454790   \n",
       "std    14993.821359      1.104970      4.167866      0.464926      6.496833   \n",
       "min        0.000000      1.000000      1.000000      0.000000      0.000000   \n",
       "25%    12925.250000      4.000000     15.000000      0.000000      0.000000   \n",
       "50%    25836.500000      5.000000     20.000000      1.000000      0.000000   \n",
       "75%    38917.750000      5.000000     20.000000      1.000000      0.000000   \n",
       "max    51844.000000      7.000000    100.000000      1.000000     35.000000   \n",
       "\n",
       "         driverRoom          tent         patio       kitchen   outdoorRoom  \\\n",
       "count  46826.000000  46826.000000  46826.000000  46826.000000  46826.000000   \n",
       "mean       0.355871      0.466258      0.769380      0.979114      0.645112   \n",
       "std        0.478781      0.498866      0.421234      0.143004      0.478485   \n",
       "min        0.000000      0.000000      0.000000      0.000000      0.000000   \n",
       "25%        0.000000      0.000000      1.000000      1.000000      0.000000   \n",
       "50%        0.000000      0.000000      1.000000      1.000000      1.000000   \n",
       "75%        1.000000      1.000000      1.000000      1.000000      1.000000   \n",
       "max        1.000000      1.000000      1.000000      1.000000      1.000000   \n",
       "\n",
       "             garage        duplex         space      maidRoom      elevator  \\\n",
       "count  46826.000000  46826.000000  46826.000000  46826.000000  46826.000000   \n",
       "mean       0.907872      0.297698    380.021740      0.767821      0.235745   \n",
       "std        0.289210      0.457251    281.431272      0.422227      0.424468   \n",
       "min        0.000000      0.000000     50.000000      0.000000      0.000000   \n",
       "25%        1.000000      0.000000    270.000000      1.000000      0.000000   \n",
       "50%        1.000000      0.000000    312.000000      1.000000      0.000000   \n",
       "75%        1.000000      1.000000    400.000000      1.000000      0.000000   \n",
       "max        1.000000      1.000000  10000.000000      1.000000      1.000000   \n",
       "\n",
       "          furnihsed          pool      basement         price   square price  \n",
       "count  46826.000000  46826.000000  46826.000000  4.682400e+04   46824.000000  \n",
       "mean       0.078738      0.116410      0.037671  2.347636e+06    6088.058800  \n",
       "std        0.269333      0.320719      0.190402  2.782053e+06    4515.845244  \n",
       "min        0.000000      0.000000      0.000000  1.080000e+03       3.428571  \n",
       "25%        0.000000      0.000000      0.000000  1.180000e+06    3866.666667  \n",
       "50%        0.000000      0.000000      0.000000  1.600000e+06    5000.000000  \n",
       "75%        0.000000      0.000000      0.000000  2.600000e+06    7600.000000  \n",
       "max        1.000000      1.000000      1.000000  1.000000e+08  136144.578300  "
      ]
     },
     "execution_count": 42,
     "metadata": {},
     "output_type": "execute_result"
    }
   ],
   "source": [
    "Riyadh_VillasAqar.describe(include=\"number\")"
   ]
  },
  {
   "cell_type": "code",
   "execution_count": 43,
   "id": "d2a6f58d",
   "metadata": {},
   "outputs": [
    {
     "data": {
      "text/html": [
       "<div>\n",
       "<style scoped>\n",
       "    .dataframe tbody tr th:only-of-type {\n",
       "        vertical-align: middle;\n",
       "    }\n",
       "\n",
       "    .dataframe tbody tr th {\n",
       "        vertical-align: top;\n",
       "    }\n",
       "\n",
       "    .dataframe thead th {\n",
       "        text-align: right;\n",
       "    }\n",
       "</style>\n",
       "<table border=\"1\" class=\"dataframe\">\n",
       "  <thead>\n",
       "    <tr style=\"text-align: right;\">\n",
       "      <th></th>\n",
       "      <th>front</th>\n",
       "      <th>lounges</th>\n",
       "      <th>bathrooms</th>\n",
       "      <th>apartments</th>\n",
       "      <th>neighbourhood</th>\n",
       "      <th>location</th>\n",
       "    </tr>\n",
       "  </thead>\n",
       "  <tbody>\n",
       "    <tr>\n",
       "      <th>count</th>\n",
       "      <td>46826</td>\n",
       "      <td>45708</td>\n",
       "      <td>46826</td>\n",
       "      <td>46826</td>\n",
       "      <td>46826</td>\n",
       "      <td>46826</td>\n",
       "    </tr>\n",
       "    <tr>\n",
       "      <th>unique</th>\n",
       "      <td>10</td>\n",
       "      <td>6</td>\n",
       "      <td>5</td>\n",
       "      <td>36</td>\n",
       "      <td>295</td>\n",
       "      <td>5</td>\n",
       "    </tr>\n",
       "    <tr>\n",
       "      <th>top</th>\n",
       "      <td>شمالية</td>\n",
       "      <td>2</td>\n",
       "      <td>5+</td>\n",
       "      <td>0</td>\n",
       "      <td>طويق</td>\n",
       "      <td>غرب الرياض</td>\n",
       "    </tr>\n",
       "    <tr>\n",
       "      <th>freq</th>\n",
       "      <td>12160</td>\n",
       "      <td>19719</td>\n",
       "      <td>32371</td>\n",
       "      <td>18946</td>\n",
       "      <td>7775</td>\n",
       "      <td>13548</td>\n",
       "    </tr>\n",
       "  </tbody>\n",
       "</table>\n",
       "</div>"
      ],
      "text/plain": [
       "         front lounges bathrooms apartments neighbourhood    location\n",
       "count    46826   45708     46826      46826         46826       46826\n",
       "unique      10       6         5         36           295           5\n",
       "top     شمالية       2        5+          0         طويق   غرب الرياض\n",
       "freq     12160   19719     32371      18946          7775       13548"
      ]
     },
     "execution_count": 43,
     "metadata": {},
     "output_type": "execute_result"
    }
   ],
   "source": [
    "Riyadh_VillasAqar.describe(include=\"object\")"
   ]
  },
  {
   "cell_type": "markdown",
   "id": "834929aa-fd6a-4ec5-84d4-77c4b3c1a506",
   "metadata": {},
   "source": [
    "The process of profiling differs slightly for categorical and numerical variables due to their inherent differences.\n",
    "\n",
    "**The two main types of data are:**\n",
    "- Quantitative (numerical) data\n",
    "- Qualitative (categorical) data"
   ]
  },
  {
   "cell_type": "markdown",
   "id": "3a9954f5-6fbc-45b4-ad86-3e21b6e0ca2d",
   "metadata": {},
   "source": [
    "### Data Quality Checks\n",
    "Data quality checks involve the process of ensuring that the data is accurate, complete, consistent, relevant, and reliable. \n",
    "\n",
    "\n",
    "**Here are typical steps involved in checking data quality:**"
   ]
  },
  {
   "cell_type": "markdown",
   "id": "4818c876-173d-4e56-9e7d-b4334d2def25",
   "metadata": {},
   "source": [
    "#### 1. Reliability:\n",
    "Evaluate the data's source and collection process to determine its trustworthiness."
   ]
  },
  {
   "cell_type": "code",
   "execution_count": null,
   "id": "9034ae7b-dc1d-4cba-8f9e-bb499d021cde",
   "metadata": {},
   "outputs": [],
   "source": []
  },
  {
   "cell_type": "markdown",
   "id": "2ce0cc59-8c92-4acc-8d07-c40764e1a86b",
   "metadata": {},
   "source": [
    "#### 2. Timeliness: \n",
    "Ensure the data is up-to-date and reflective of the current situation or the period of interest for the analysis."
   ]
  },
  {
   "cell_type": "code",
   "execution_count": 44,
   "id": "4b78ae35-7226-4cb6-b8b2-a46c2ed17cf9",
   "metadata": {},
   "outputs": [],
   "source": [
    "#"
   ]
  },
  {
   "cell_type": "markdown",
   "id": "7fab0fe2-6624-4615-b9d8-3c3669056bf8",
   "metadata": {},
   "source": [
    "#### 3. Consistency: \n",
    "\n",
    "Confirm that the data is consistent within the dataset and across multiple data sources. For example, the same data point should not have different values in different places.\n"
   ]
  },
  {
   "cell_type": "code",
   "execution_count": 45,
   "id": "7fecc573-959f-4800-8ddd-a67985c68b18",
   "metadata": {},
   "outputs": [],
   "source": [
    "# "
   ]
  },
  {
   "cell_type": "markdown",
   "id": "bec3d183-bba0-4b12-b963-487daab1e876",
   "metadata": {},
   "source": [
    "#### 4. Relevance: \n",
    "Assess whether the data is appropriate and applicable for the intended analysis. Data that is not relevant can skew results and lead to incorrect conclusions.\n",
    "\n",
    "**Key considerations for relevance include:**\n",
    "\n",
    "> 1. Sample Appropriateness: Confirm that your data sample aligns with your analysis objectives. For instance, utilizing data from the Northern region will not yield accurate insights for the Western region of the Kingdom.\n",
    ">\n",
    "> 2. Variable Selection: Any column will not be relevant for our analysis, we can get rid of these using the drop() method. We will set the “axis” argument to 1 since we’re dealing with columns, and set the “inplace” argument to True to make the change permanent.\n"
   ]
  },
  {
   "cell_type": "markdown",
   "id": "a9e72972",
   "metadata": {},
   "source": [
    "# Real_Estate dataset"
   ]
  },
  {
   "cell_type": "code",
   "execution_count": 46,
   "id": "50a934b7-a0cd-443f-8a27-f10e9a6e8647",
   "metadata": {
    "scrolled": true
   },
   "outputs": [
    {
     "data": {
      "text/html": [
       "<div>\n",
       "<style scoped>\n",
       "    .dataframe tbody tr th:only-of-type {\n",
       "        vertical-align: middle;\n",
       "    }\n",
       "\n",
       "    .dataframe tbody tr th {\n",
       "        vertical-align: top;\n",
       "    }\n",
       "\n",
       "    .dataframe thead th {\n",
       "        text-align: right;\n",
       "    }\n",
       "</style>\n",
       "<table border=\"1\" class=\"dataframe\">\n",
       "  <thead>\n",
       "    <tr style=\"text-align: right;\">\n",
       "      <th></th>\n",
       "      <th>price</th>\n",
       "      <th>beds</th>\n",
       "      <th>livings</th>\n",
       "      <th>wc</th>\n",
       "      <th>area</th>\n",
       "      <th>street_width</th>\n",
       "      <th>age</th>\n",
       "      <th>last_update</th>\n",
       "      <th>kitchen</th>\n",
       "      <th>ac</th>\n",
       "      <th>...</th>\n",
       "      <th>district</th>\n",
       "      <th>advertiser_type</th>\n",
       "      <th>create_time</th>\n",
       "      <th>review</th>\n",
       "      <th>UserName</th>\n",
       "      <th>iam_verified</th>\n",
       "      <th>onMarket</th>\n",
       "      <th>IsRent</th>\n",
       "      <th>latitude</th>\n",
       "      <th>longitude</th>\n",
       "    </tr>\n",
       "  </thead>\n",
       "  <tbody>\n",
       "    <tr>\n",
       "      <th>0</th>\n",
       "      <td>20000</td>\n",
       "      <td>3</td>\n",
       "      <td>0</td>\n",
       "      <td>2</td>\n",
       "      <td>225.0</td>\n",
       "      <td>15.0</td>\n",
       "      <td>9.0</td>\n",
       "      <td>2022-08-06 12:22:15</td>\n",
       "      <td>yes</td>\n",
       "      <td>no</td>\n",
       "      <td>...</td>\n",
       "      <td>حي النظيم</td>\n",
       "      <td>owner</td>\n",
       "      <td>2022-08-05 02:44:23</td>\n",
       "      <td>5.00</td>\n",
       "      <td>Thamer</td>\n",
       "      <td>yes</td>\n",
       "      <td>17</td>\n",
       "      <td>False</td>\n",
       "      <td>24.800930</td>\n",
       "      <td>46.896890</td>\n",
       "    </tr>\n",
       "    <tr>\n",
       "      <th>1</th>\n",
       "      <td>25000</td>\n",
       "      <td>3</td>\n",
       "      <td>1</td>\n",
       "      <td>2</td>\n",
       "      <td>130.0</td>\n",
       "      <td>30.0</td>\n",
       "      <td>12.0</td>\n",
       "      <td>2022-08-06 10:27:56</td>\n",
       "      <td>yes</td>\n",
       "      <td>no</td>\n",
       "      <td>...</td>\n",
       "      <td>حي الفيحاء</td>\n",
       "      <td>exclusive_marketer</td>\n",
       "      <td>2022-08-06 10:27:56</td>\n",
       "      <td>4.33</td>\n",
       "      <td>الاركان الثابته للعقارات</td>\n",
       "      <td>yes</td>\n",
       "      <td>5</td>\n",
       "      <td>True</td>\n",
       "      <td>24.687521</td>\n",
       "      <td>46.807558</td>\n",
       "    </tr>\n",
       "  </tbody>\n",
       "</table>\n",
       "<p>2 rows × 22 columns</p>\n",
       "</div>"
      ],
      "text/plain": [
       "   price  beds  livings  wc   area  street_width   age          last_update  \\\n",
       "0  20000     3        0   2  225.0          15.0   9.0  2022-08-06 12:22:15   \n",
       "1  25000     3        1   2  130.0          30.0  12.0  2022-08-06 10:27:56   \n",
       "\n",
       "  kitchen  ac  ...    district     advertiser_type          create_time  \\\n",
       "0     yes  no  ...   حي النظيم               owner  2022-08-05 02:44:23   \n",
       "1     yes  no  ...  حي الفيحاء  exclusive_marketer  2022-08-06 10:27:56   \n",
       "\n",
       "  review                   UserName  iam_verified onMarket IsRent   latitude  \\\n",
       "0   5.00                    Thamer            yes       17  False  24.800930   \n",
       "1   4.33   الاركان الثابته للعقارات           yes        5   True  24.687521   \n",
       "\n",
       "   longitude  \n",
       "0  46.896890  \n",
       "1  46.807558  \n",
       "\n",
       "[2 rows x 22 columns]"
      ]
     },
     "execution_count": 46,
     "metadata": {},
     "output_type": "execute_result"
    }
   ],
   "source": [
    "Real_Estate.head(2)"
   ]
  },
  {
   "cell_type": "code",
   "execution_count": 47,
   "id": "e0ed181c",
   "metadata": {},
   "outputs": [
    {
     "data": {
      "text/plain": [
       "Index(['price', 'beds', 'livings', 'wc', 'area', 'street_width', 'age',\n",
       "       'last_update', 'kitchen', 'ac', 'furnished', 'location', 'district',\n",
       "       'advertiser_type', 'create_time', 'review', 'UserName', 'iam_verified',\n",
       "       'onMarket', 'IsRent', 'latitude', 'longitude'],\n",
       "      dtype='object')"
      ]
     },
     "execution_count": 47,
     "metadata": {},
     "output_type": "execute_result"
    }
   ],
   "source": [
    "Real_Estate.columns"
   ]
  },
  {
   "cell_type": "code",
   "execution_count": 48,
   "id": "752b10a5",
   "metadata": {},
   "outputs": [
    {
     "data": {
      "text/plain": [
       "advertiser_type\n",
       "exclusive_marketer    1743\n",
       "normal_marketer       1377\n",
       "owner                 1062\n",
       "agent                  406\n",
       "unknown                142\n",
       "Name: count, dtype: int64"
      ]
     },
     "execution_count": 48,
     "metadata": {},
     "output_type": "execute_result"
    }
   ],
   "source": [
    "Real_Estate['advertiser_type'].value_counts()"
   ]
  },
  {
   "cell_type": "code",
   "execution_count": 49,
   "id": "faa1a995",
   "metadata": {},
   "outputs": [
    {
     "data": {
      "text/html": [
       "<div>\n",
       "<style scoped>\n",
       "    .dataframe tbody tr th:only-of-type {\n",
       "        vertical-align: middle;\n",
       "    }\n",
       "\n",
       "    .dataframe tbody tr th {\n",
       "        vertical-align: top;\n",
       "    }\n",
       "\n",
       "    .dataframe thead th {\n",
       "        text-align: right;\n",
       "    }\n",
       "</style>\n",
       "<table border=\"1\" class=\"dataframe\">\n",
       "  <thead>\n",
       "    <tr style=\"text-align: right;\">\n",
       "      <th></th>\n",
       "      <th>price</th>\n",
       "      <th>beds</th>\n",
       "      <th>livings</th>\n",
       "      <th>wc</th>\n",
       "      <th>area</th>\n",
       "      <th>street_width</th>\n",
       "      <th>age</th>\n",
       "      <th>last_update</th>\n",
       "      <th>kitchen</th>\n",
       "      <th>ac</th>\n",
       "      <th>furnished</th>\n",
       "      <th>location</th>\n",
       "      <th>district</th>\n",
       "      <th>advertiser_type</th>\n",
       "      <th>create_time</th>\n",
       "      <th>review</th>\n",
       "      <th>UserName</th>\n",
       "      <th>iam_verified</th>\n",
       "      <th>onMarket</th>\n",
       "      <th>IsRent</th>\n",
       "      <th>latitude</th>\n",
       "      <th>longitude</th>\n",
       "    </tr>\n",
       "  </thead>\n",
       "  <tbody>\n",
       "  </tbody>\n",
       "</table>\n",
       "</div>"
      ],
      "text/plain": [
       "Empty DataFrame\n",
       "Columns: [price, beds, livings, wc, area, street_width, age, last_update, kitchen, ac, furnished, location, district, advertiser_type, create_time, review, UserName, iam_verified, onMarket, IsRent, latitude, longitude]\n",
       "Index: []"
      ]
     },
     "execution_count": 49,
     "metadata": {},
     "output_type": "execute_result"
    }
   ],
   "source": [
    "pd.set_option('display.max_columns', None)\n",
    "Real_Estate[Real_Estate['price'] == 55.000000]"
   ]
  },
  {
   "cell_type": "markdown",
   "id": "b2a88ded",
   "metadata": {},
   "source": [
    "# Riyadh_Aqqar_Land dataset"
   ]
  },
  {
   "cell_type": "code",
   "execution_count": 50,
   "id": "d5308928",
   "metadata": {},
   "outputs": [
    {
     "data": {
      "text/html": [
       "<div>\n",
       "<style scoped>\n",
       "    .dataframe tbody tr th:only-of-type {\n",
       "        vertical-align: middle;\n",
       "    }\n",
       "\n",
       "    .dataframe tbody tr th {\n",
       "        vertical-align: top;\n",
       "    }\n",
       "\n",
       "    .dataframe thead th {\n",
       "        text-align: right;\n",
       "    }\n",
       "</style>\n",
       "<table border=\"1\" class=\"dataframe\">\n",
       "  <thead>\n",
       "    <tr style=\"text-align: right;\">\n",
       "      <th></th>\n",
       "      <th>نوع العقار</th>\n",
       "      <th>الغرض</th>\n",
       "      <th>المدينة</th>\n",
       "      <th>الحي</th>\n",
       "      <th>الواجهة</th>\n",
       "      <th>المساحة</th>\n",
       "      <th>سعر المتر</th>\n",
       "      <th>السعر الإجمالي</th>\n",
       "    </tr>\n",
       "  </thead>\n",
       "  <tbody>\n",
       "    <tr>\n",
       "      <th>0</th>\n",
       "      <td>أرض</td>\n",
       "      <td>غير معروف</td>\n",
       "      <td>الرياض</td>\n",
       "      <td>الرياض</td>\n",
       "      <td>غربية</td>\n",
       "      <td>375</td>\n",
       "      <td>2900.0</td>\n",
       "      <td>1087500</td>\n",
       "    </tr>\n",
       "    <tr>\n",
       "      <th>1</th>\n",
       "      <td>أرض</td>\n",
       "      <td>غير معروف</td>\n",
       "      <td>الرياض</td>\n",
       "      <td>غرناطة</td>\n",
       "      <td>شمالية</td>\n",
       "      <td>800</td>\n",
       "      <td>4800.0</td>\n",
       "      <td>3840000</td>\n",
       "    </tr>\n",
       "  </tbody>\n",
       "</table>\n",
       "</div>"
      ],
      "text/plain": [
       "  نوع العقار      الغرض المدينة    الحي الواجهة  المساحة  سعر المتر  \\\n",
       "0        أرض  غير معروف  الرياض  الرياض   غربية      375     2900.0   \n",
       "1        أرض  غير معروف  الرياض  غرناطة  شمالية      800     4800.0   \n",
       "\n",
       "   السعر الإجمالي  \n",
       "0         1087500  \n",
       "1         3840000  "
      ]
     },
     "execution_count": 50,
     "metadata": {},
     "output_type": "execute_result"
    }
   ],
   "source": [
    "Riyadh_Aqqar_Land.head(2)"
   ]
  },
  {
   "cell_type": "code",
   "execution_count": 51,
   "id": "7c59f2c7",
   "metadata": {},
   "outputs": [
    {
     "data": {
      "text/plain": [
       "array(['الرياض', 'الدرعية', 'حريملاء', 'العيينة', 'الجبيلة', 'ضرما',\n",
       "       'رماح'], dtype=object)"
      ]
     },
     "execution_count": 51,
     "metadata": {},
     "output_type": "execute_result"
    }
   ],
   "source": [
    "Riyadh_Aqqar_Land['المدينة'].unique()"
   ]
  },
  {
   "cell_type": "code",
   "execution_count": 52,
   "id": "6f4fa1e9",
   "metadata": {},
   "outputs": [
    {
     "data": {
      "text/html": [
       "<div>\n",
       "<style scoped>\n",
       "    .dataframe tbody tr th:only-of-type {\n",
       "        vertical-align: middle;\n",
       "    }\n",
       "\n",
       "    .dataframe tbody tr th {\n",
       "        vertical-align: top;\n",
       "    }\n",
       "\n",
       "    .dataframe thead th {\n",
       "        text-align: right;\n",
       "    }\n",
       "</style>\n",
       "<table border=\"1\" class=\"dataframe\">\n",
       "  <thead>\n",
       "    <tr style=\"text-align: right;\">\n",
       "      <th></th>\n",
       "      <th>نوع العقار</th>\n",
       "      <th>الغرض</th>\n",
       "      <th>المدينة</th>\n",
       "      <th>الحي</th>\n",
       "      <th>الواجهة</th>\n",
       "      <th>المساحة</th>\n",
       "      <th>سعر المتر</th>\n",
       "      <th>السعر الإجمالي</th>\n",
       "    </tr>\n",
       "  </thead>\n",
       "  <tbody>\n",
       "  </tbody>\n",
       "</table>\n",
       "</div>"
      ],
      "text/plain": [
       "Empty DataFrame\n",
       "Columns: [نوع العقار, الغرض, المدينة, الحي, الواجهة, المساحة, سعر المتر, السعر الإجمالي]\n",
       "Index: []"
      ]
     },
     "execution_count": 52,
     "metadata": {},
     "output_type": "execute_result"
    }
   ],
   "source": [
    "Riyadh_Aqqar_Land[Riyadh_Aqqar_Land['المدينة'] == 13843]"
   ]
  },
  {
   "cell_type": "markdown",
   "id": "73757d76",
   "metadata": {},
   "source": [
    "# Riyadh_Aqqar_Villas dataset"
   ]
  },
  {
   "cell_type": "code",
   "execution_count": 53,
   "id": "b7aa370b",
   "metadata": {},
   "outputs": [
    {
     "data": {
      "text/html": [
       "<div>\n",
       "<style scoped>\n",
       "    .dataframe tbody tr th:only-of-type {\n",
       "        vertical-align: middle;\n",
       "    }\n",
       "\n",
       "    .dataframe tbody tr th {\n",
       "        vertical-align: top;\n",
       "    }\n",
       "\n",
       "    .dataframe thead th {\n",
       "        text-align: right;\n",
       "    }\n",
       "</style>\n",
       "<table border=\"1\" class=\"dataframe\">\n",
       "  <thead>\n",
       "    <tr style=\"text-align: right;\">\n",
       "      <th></th>\n",
       "      <th>نوع العقار</th>\n",
       "      <th>المدينة</th>\n",
       "      <th>الحي</th>\n",
       "      <th>الواجهة</th>\n",
       "      <th>عدد الغرف</th>\n",
       "      <th>عدد الصالات</th>\n",
       "      <th>عدد الحمامات</th>\n",
       "      <th>عرض الشارع</th>\n",
       "      <th>المساحة</th>\n",
       "      <th>درج صالة</th>\n",
       "      <th>مطبخ</th>\n",
       "      <th>غرفة خادمة</th>\n",
       "      <th>غرفة سائق</th>\n",
       "      <th>ملحق</th>\n",
       "      <th>حوش</th>\n",
       "      <th>مسبح</th>\n",
       "      <th>قبو</th>\n",
       "      <th>مدخل سيارة</th>\n",
       "      <th>مصعد</th>\n",
       "      <th>السعر الاجمالي</th>\n",
       "    </tr>\n",
       "  </thead>\n",
       "  <tbody>\n",
       "    <tr>\n",
       "      <th>0</th>\n",
       "      <td>فيلا</td>\n",
       "      <td>الرياض</td>\n",
       "      <td>العارض</td>\n",
       "      <td>جنوبية</td>\n",
       "      <td>6</td>\n",
       "      <td>3</td>\n",
       "      <td>5+</td>\n",
       "      <td>18.0</td>\n",
       "      <td>244.0</td>\n",
       "      <td>True</td>\n",
       "      <td>True</td>\n",
       "      <td>True</td>\n",
       "      <td>True</td>\n",
       "      <td>False</td>\n",
       "      <td>True</td>\n",
       "      <td>False</td>\n",
       "      <td>False</td>\n",
       "      <td>True</td>\n",
       "      <td>True</td>\n",
       "      <td>2300000</td>\n",
       "    </tr>\n",
       "    <tr>\n",
       "      <th>1</th>\n",
       "      <td>فيلا</td>\n",
       "      <td>الرياض</td>\n",
       "      <td>العارض</td>\n",
       "      <td>جنوبية</td>\n",
       "      <td>6</td>\n",
       "      <td>4</td>\n",
       "      <td>5+</td>\n",
       "      <td>18.0</td>\n",
       "      <td>322.0</td>\n",
       "      <td>True</td>\n",
       "      <td>True</td>\n",
       "      <td>True</td>\n",
       "      <td>True</td>\n",
       "      <td>True</td>\n",
       "      <td>True</td>\n",
       "      <td>False</td>\n",
       "      <td>False</td>\n",
       "      <td>True</td>\n",
       "      <td>True</td>\n",
       "      <td>3000000</td>\n",
       "    </tr>\n",
       "  </tbody>\n",
       "</table>\n",
       "</div>"
      ],
      "text/plain": [
       "  نوع العقار   المدينة    الحي الواجهة عدد الغرف عدد الصالات عدد الحمامات  \\\n",
       "0       فيلا   الرياض   العارض  جنوبية         6           3           5+   \n",
       "1       فيلا   الرياض   العارض  جنوبية         6           4           5+   \n",
       "\n",
       "   عرض الشارع  المساحة  درج صالة  مطبخ  غرفة خادمة  غرفة سائق   ملحق   حوش  \\\n",
       "0        18.0    244.0      True  True        True       True  False  True   \n",
       "1        18.0    322.0      True  True        True       True   True  True   \n",
       "\n",
       "    مسبح    قبو  مدخل سيارة  مصعد  السعر الاجمالي  \n",
       "0  False  False        True  True         2300000  \n",
       "1  False  False        True  True         3000000  "
      ]
     },
     "execution_count": 53,
     "metadata": {},
     "output_type": "execute_result"
    }
   ],
   "source": [
    "Riyadh_Aqqar_Villas.head(2)"
   ]
  },
  {
   "cell_type": "code",
   "execution_count": 54,
   "id": "4965550c",
   "metadata": {},
   "outputs": [
    {
     "data": {
      "text/plain": [
       "array(['جنوبية', 'غربية', 'شمالية', 'شرقية', 'شمالية غربية',\n",
       "       'شمالية شرقية', 'جنوبية شرقية', 'غير معروف', 'جنوبية غربية'],\n",
       "      dtype=object)"
      ]
     },
     "execution_count": 54,
     "metadata": {},
     "output_type": "execute_result"
    }
   ],
   "source": [
    "Riyadh_Aqqar_Villas['الواجهة'].unique()"
   ]
  },
  {
   "cell_type": "code",
   "execution_count": 55,
   "id": "b33fa69b",
   "metadata": {},
   "outputs": [
    {
     "data": {
      "text/plain": [
       "array(['العارض', 'النرجس', 'الملقا', 'النخيل', 'التعاون', 'الوادي',\n",
       "       'الرياض', 'جامعة الملك سعود', 'الربيع', 'العيينة', 'العقيق',\n",
       "       'الياسمين', 'العليا', 'النزهة', 'القيروان', 'النفل', 'الفلاح',\n",
       "       'القرينه', 'الرحمانية', 'المصيف', 'الندى', 'الصحافة', 'المحمدية',\n",
       "       'المروج', 'حطين', 'الملك فهد', 'صلاح الدين', 'شارع سعيد السلمي',\n",
       "       'المونسية', 'القدس', 'الخليج', 'الرمال', 'النسيم الغربي', 'الريان',\n",
       "       'الروضة', 'الحمراء', 'النسيم الشرقي', 'اشبيلية', 'النهضة',\n",
       "       'القادسية', 'قرطبة', 'اليرموك', 'الملك فيصل', 'الصفا', 'النظيم',\n",
       "       'شارع جبل مره', 'البيان', 'السعادة', 'الاندلس', 'غير معروف',\n",
       "       'الجنادرية', 'الازدهار', 'غرناطة', 'المعيزلة', 'الفيحاء',\n",
       "       'مطار الملك خالد الدولي', 'الملز', 'السلام', 'الشهداء', 'الروابي',\n",
       "       'المنار', 'ظهرة لبن', 'المهدية', 'العريجاء الغربي', 'طويق',\n",
       "       'ظهرة البديعة', 'نمار', 'الحزم', 'الزهرة', 'هجرة لبن', 'الرفيعة',\n",
       "       'العوالي', 'شبرا', 'لبن', 'العريجاء الوسطى', 'العريجاء الغربية',\n",
       "       'السويدي الغربي', 'طريق الامير مساعد بن عبدالرحمن بن فيصل',\n",
       "       'الطريق الدائري الغربي', 'عكاظ', 'الدار البيضاء', 'بدر', 'الشفا',\n",
       "       'طيبة', 'العزيزية', 'المناخ', 'احد', 'الاسكان', 'جرير', 'الربوة',\n",
       "       'الفاروق', 'الخالدية', 'الزهراء', 'الشرق', 'الندوة',\n",
       "       'الملك عبدالعزيز', 'المعيزيلة', 'شارع ابراهيم القيسي', 'الجزيرة',\n",
       "       'الملك عبد العزيز'], dtype=object)"
      ]
     },
     "execution_count": 55,
     "metadata": {},
     "output_type": "execute_result"
    }
   ],
   "source": [
    "Riyadh_Aqqar_Villas['الحي'].unique()"
   ]
  },
  {
   "cell_type": "markdown",
   "id": "9e19891d",
   "metadata": {},
   "source": [
    "# Riyadh_Aqqar_Apartments dataset"
   ]
  },
  {
   "cell_type": "code",
   "execution_count": 56,
   "id": "4a9fba3f",
   "metadata": {},
   "outputs": [
    {
     "data": {
      "text/html": [
       "<div>\n",
       "<style scoped>\n",
       "    .dataframe tbody tr th:only-of-type {\n",
       "        vertical-align: middle;\n",
       "    }\n",
       "\n",
       "    .dataframe tbody tr th {\n",
       "        vertical-align: top;\n",
       "    }\n",
       "\n",
       "    .dataframe thead th {\n",
       "        text-align: right;\n",
       "    }\n",
       "</style>\n",
       "<table border=\"1\" class=\"dataframe\">\n",
       "  <thead>\n",
       "    <tr style=\"text-align: right;\">\n",
       "      <th></th>\n",
       "      <th>نوع العقار</th>\n",
       "      <th>المدينة</th>\n",
       "      <th>الحي</th>\n",
       "      <th>الواجهة</th>\n",
       "      <th>عدد الغرف</th>\n",
       "      <th>عدد الصالات</th>\n",
       "      <th>عدد الحمامات</th>\n",
       "      <th>المساحة</th>\n",
       "      <th>مطبخ</th>\n",
       "      <th>مدخل سيارة</th>\n",
       "      <th>مصعد</th>\n",
       "      <th>الدور</th>\n",
       "      <th>عمر العقار</th>\n",
       "      <th>مؤثثة</th>\n",
       "      <th>السعر الاجمالي</th>\n",
       "    </tr>\n",
       "  </thead>\n",
       "  <tbody>\n",
       "    <tr>\n",
       "      <th>0</th>\n",
       "      <td>شقة</td>\n",
       "      <td>الرياض</td>\n",
       "      <td>حي المروج</td>\n",
       "      <td>جنوبية</td>\n",
       "      <td>4</td>\n",
       "      <td>1.0</td>\n",
       "      <td>3</td>\n",
       "      <td>249</td>\n",
       "      <td>1</td>\n",
       "      <td>0</td>\n",
       "      <td>1</td>\n",
       "      <td>3</td>\n",
       "      <td>0.0</td>\n",
       "      <td>0</td>\n",
       "      <td>1434000</td>\n",
       "    </tr>\n",
       "    <tr>\n",
       "      <th>1</th>\n",
       "      <td>شقة</td>\n",
       "      <td>الرياض</td>\n",
       "      <td>حي العارض</td>\n",
       "      <td>شمالية غربية</td>\n",
       "      <td>3</td>\n",
       "      <td>1.0</td>\n",
       "      <td>3</td>\n",
       "      <td>199</td>\n",
       "      <td>0</td>\n",
       "      <td>0</td>\n",
       "      <td>1</td>\n",
       "      <td>علوي</td>\n",
       "      <td>0.0</td>\n",
       "      <td>0</td>\n",
       "      <td>980000</td>\n",
       "    </tr>\n",
       "  </tbody>\n",
       "</table>\n",
       "</div>"
      ],
      "text/plain": [
       "  نوع العقار   المدينة         الحي       الواجهة  عدد الغرف  عدد الصالات  \\\n",
       "0        شقة   الرياض    حي المروج         جنوبية          4          1.0   \n",
       "1        شقة   الرياض    حي العارض   شمالية غربية          3          1.0   \n",
       "\n",
       "  عدد الحمامات  المساحة  مطبخ  مدخل سيارة  مصعد الدور  عمر العقار  مؤثثة  \\\n",
       "0            3      249     1           0     1     3         0.0      0   \n",
       "1            3      199     0           0     1  علوي         0.0      0   \n",
       "\n",
       "   السعر الاجمالي  \n",
       "0         1434000  \n",
       "1          980000  "
      ]
     },
     "execution_count": 56,
     "metadata": {},
     "output_type": "execute_result"
    }
   ],
   "source": [
    "Riyadh_Aqqar_Apartments.head(2)"
   ]
  },
  {
   "cell_type": "code",
   "execution_count": 57,
   "id": "5dd78410",
   "metadata": {},
   "outputs": [
    {
     "data": {
      "text/plain": [
       "array([3, 'علوي', 'أرضي', 'ثالث', nan, 4, 'ثاني', 'دور 59', 'ارضي', '20+',\n",
       "       'اول'], dtype=object)"
      ]
     },
     "execution_count": 57,
     "metadata": {},
     "output_type": "execute_result"
    }
   ],
   "source": [
    "Riyadh_Aqqar_Apartments['الدور'].unique()"
   ]
  },
  {
   "cell_type": "code",
   "execution_count": 58,
   "id": "2b9f0a70",
   "metadata": {},
   "outputs": [
    {
     "data": {
      "text/plain": [
       "array([' حي المروج ', ' حي العارض ', ' حي النرجس ', ' حي الياسمين ',\n",
       "       ' حي العقيق ', ' حي القيروان ', ' حي الملقا ', ' حي النخيل ',\n",
       "       ' الرياض ', ' حي الصحافة ', ' حي النفل ', ' حي حطين ',\n",
       "       ' حي الربيع ', ' حي المصيف ', ' حي العليا ', ' حي الفلاح ',\n",
       "       ' حي الندى ', ' حي الملك فهد ', ' حي الوادي ', ' حي التعاون ',\n",
       "       ' حي المغرزات ', ' حي المرسلات ', ' حي النزهة ', ' ',\n",
       "       ' شارع عبدالله بن العاص ', ' حي مطار الملك خالد الدولي '],\n",
       "      dtype=object)"
      ]
     },
     "execution_count": 58,
     "metadata": {},
     "output_type": "execute_result"
    }
   ],
   "source": [
    "Riyadh_Aqqar_Apartments['الحي'].unique()"
   ]
  },
  {
   "cell_type": "code",
   "execution_count": 59,
   "id": "7d2ba015",
   "metadata": {},
   "outputs": [
    {
     "data": {
      "text/plain": [
       "array(['جنوبية', 'شمالية غربية', nan, 'شمالية', 'شرقية', 'جنوبية شرقية',\n",
       "       'ثلاث شوارع', 'غربية', 'جنوبية غربية', 'شمالية شرقية'],\n",
       "      dtype=object)"
      ]
     },
     "execution_count": 59,
     "metadata": {},
     "output_type": "execute_result"
    }
   ],
   "source": [
    "Riyadh_Aqqar_Apartments['الواجهة'].unique()"
   ]
  },
  {
   "cell_type": "code",
   "execution_count": 60,
   "id": "539bc74c",
   "metadata": {},
   "outputs": [
    {
     "data": {
      "text/plain": [
       "array([' الرياض ', ' منطقة الرياض', ' امارة منطقة الرياض', ' الرياض',\n",
       "       ' حي العارض '], dtype=object)"
      ]
     },
     "execution_count": 60,
     "metadata": {},
     "output_type": "execute_result"
    }
   ],
   "source": [
    "Riyadh_Aqqar_Apartments['المدينة'].unique()"
   ]
  },
  {
   "cell_type": "code",
   "execution_count": 61,
   "id": "a4981236",
   "metadata": {},
   "outputs": [
    {
     "data": {
      "text/plain": [
       "array([0, 1])"
      ]
     },
     "execution_count": 61,
     "metadata": {},
     "output_type": "execute_result"
    }
   ],
   "source": [
    "Riyadh_Aqqar_Apartments['مؤثثة'].unique()"
   ]
  },
  {
   "cell_type": "code",
   "execution_count": 62,
   "id": "2cadad90",
   "metadata": {},
   "outputs": [
    {
     "data": {
      "text/plain": [
       "array([ 0.,  2., nan, 11.,  1.,  7.,  3., 10.,  9.,  5.,  4., 13.,  8.,\n",
       "       12.,  6.])"
      ]
     },
     "execution_count": 62,
     "metadata": {},
     "output_type": "execute_result"
    }
   ],
   "source": [
    "Riyadh_Aqqar_Apartments['عمر العقار'].unique()"
   ]
  },
  {
   "cell_type": "code",
   "execution_count": 63,
   "id": "76c719e1",
   "metadata": {},
   "outputs": [
    {
     "data": {
      "text/plain": [
       "array([3, 'علوي', 'أرضي', 'ثالث', nan, 4, 'ثاني', 'دور 59', 'ارضي', '20+',\n",
       "       'اول'], dtype=object)"
      ]
     },
     "execution_count": 63,
     "metadata": {},
     "output_type": "execute_result"
    }
   ],
   "source": [
    "Riyadh_Aqqar_Apartments['الدور'].unique()"
   ]
  },
  {
   "cell_type": "markdown",
   "id": "8d881c67",
   "metadata": {},
   "source": [
    "# Riyadh_VillasAqar dataset"
   ]
  },
  {
   "cell_type": "code",
   "execution_count": 64,
   "id": "6e86590a",
   "metadata": {},
   "outputs": [
    {
     "data": {
      "text/html": [
       "<div>\n",
       "<style scoped>\n",
       "    .dataframe tbody tr th:only-of-type {\n",
       "        vertical-align: middle;\n",
       "    }\n",
       "\n",
       "    .dataframe tbody tr th {\n",
       "        vertical-align: top;\n",
       "    }\n",
       "\n",
       "    .dataframe thead th {\n",
       "        text-align: right;\n",
       "    }\n",
       "</style>\n",
       "<table border=\"1\" class=\"dataframe\">\n",
       "  <thead>\n",
       "    <tr style=\"text-align: right;\">\n",
       "      <th></th>\n",
       "      <th>Unnamed: 0</th>\n",
       "      <th>front</th>\n",
       "      <th>rooms</th>\n",
       "      <th>lounges</th>\n",
       "      <th>bathrooms</th>\n",
       "      <th>streetWidth</th>\n",
       "      <th>stairs</th>\n",
       "      <th>propertyAge</th>\n",
       "      <th>driverRoom</th>\n",
       "      <th>tent</th>\n",
       "      <th>patio</th>\n",
       "      <th>kitchen</th>\n",
       "      <th>outdoorRoom</th>\n",
       "      <th>garage</th>\n",
       "      <th>duplex</th>\n",
       "      <th>space</th>\n",
       "      <th>apartments</th>\n",
       "      <th>maidRoom</th>\n",
       "      <th>elevator</th>\n",
       "      <th>furnihsed</th>\n",
       "      <th>pool</th>\n",
       "      <th>basement</th>\n",
       "      <th>neighbourhood</th>\n",
       "      <th>location</th>\n",
       "      <th>price</th>\n",
       "      <th>square price</th>\n",
       "    </tr>\n",
       "  </thead>\n",
       "  <tbody>\n",
       "    <tr>\n",
       "      <th>0</th>\n",
       "      <td>0</td>\n",
       "      <td>شرقية</td>\n",
       "      <td>5</td>\n",
       "      <td>4</td>\n",
       "      <td>5+</td>\n",
       "      <td>20.0</td>\n",
       "      <td>1</td>\n",
       "      <td>0</td>\n",
       "      <td>1</td>\n",
       "      <td>1</td>\n",
       "      <td>1</td>\n",
       "      <td>1</td>\n",
       "      <td>1</td>\n",
       "      <td>1</td>\n",
       "      <td>1</td>\n",
       "      <td>300</td>\n",
       "      <td>0</td>\n",
       "      <td>0</td>\n",
       "      <td>0</td>\n",
       "      <td>0</td>\n",
       "      <td>0</td>\n",
       "      <td>0</td>\n",
       "      <td>عكاظ</td>\n",
       "      <td>جنوب الرياض</td>\n",
       "      <td>1050000.0</td>\n",
       "      <td>3500.000000</td>\n",
       "    </tr>\n",
       "    <tr>\n",
       "      <th>1</th>\n",
       "      <td>1</td>\n",
       "      <td>غربية</td>\n",
       "      <td>4</td>\n",
       "      <td>3</td>\n",
       "      <td>5+</td>\n",
       "      <td>20.0</td>\n",
       "      <td>1</td>\n",
       "      <td>0</td>\n",
       "      <td>1</td>\n",
       "      <td>1</td>\n",
       "      <td>1</td>\n",
       "      <td>1</td>\n",
       "      <td>1</td>\n",
       "      <td>1</td>\n",
       "      <td>0</td>\n",
       "      <td>540</td>\n",
       "      <td>2</td>\n",
       "      <td>1</td>\n",
       "      <td>1</td>\n",
       "      <td>0</td>\n",
       "      <td>0</td>\n",
       "      <td>0</td>\n",
       "      <td>المهدية</td>\n",
       "      <td>غرب الرياض</td>\n",
       "      <td>3000000.0</td>\n",
       "      <td>5555.555556</td>\n",
       "    </tr>\n",
       "  </tbody>\n",
       "</table>\n",
       "</div>"
      ],
      "text/plain": [
       "   Unnamed: 0  front  rooms lounges bathrooms  streetWidth  stairs  \\\n",
       "0           0  شرقية      5       4        5+         20.0       1   \n",
       "1           1  غربية      4       3        5+         20.0       1   \n",
       "\n",
       "   propertyAge  driverRoom  tent  patio  kitchen  outdoorRoom  garage  duplex  \\\n",
       "0            0           1     1      1        1            1       1       1   \n",
       "1            0           1     1      1        1            1       1       0   \n",
       "\n",
       "   space apartments  maidRoom  elevator  furnihsed  pool  basement  \\\n",
       "0    300          0         0         0          0     0         0   \n",
       "1    540          2         1         1          0     0         0   \n",
       "\n",
       "  neighbourhood     location      price  square price  \n",
       "0         عكاظ   جنوب الرياض  1050000.0   3500.000000  \n",
       "1      المهدية    غرب الرياض  3000000.0   5555.555556  "
      ]
     },
     "execution_count": 64,
     "metadata": {},
     "output_type": "execute_result"
    }
   ],
   "source": [
    "Riyadh_VillasAqar.head(2)"
   ]
  },
  {
   "cell_type": "code",
   "execution_count": 65,
   "id": "5fff2ef2",
   "metadata": {},
   "outputs": [
    {
     "data": {
      "text/plain": [
       "(46826, 26)"
      ]
     },
     "execution_count": 65,
     "metadata": {},
     "output_type": "execute_result"
    }
   ],
   "source": [
    "Riyadh_VillasAqar.shape"
   ]
  },
  {
   "cell_type": "code",
   "execution_count": 66,
   "id": "357dfa8a",
   "metadata": {},
   "outputs": [
    {
     "data": {
      "text/plain": [
       "array(['شرقية', 'غربية', 'جنوبية شرقية', 'شمالية', 'شمالية شرقية',\n",
       "       'جنوبية', 'جنوبية غربية', 'شمالية غربية', 'ثلاث شوارع',\n",
       "       'أربع شوارع'], dtype=object)"
      ]
     },
     "execution_count": 66,
     "metadata": {},
     "output_type": "execute_result"
    }
   ],
   "source": [
    "Riyadh_VillasAqar['front'].unique()"
   ]
  },
  {
   "cell_type": "code",
   "execution_count": 67,
   "id": "d390bc3a",
   "metadata": {},
   "outputs": [
    {
     "data": {
      "text/plain": [
       "array(['جنوب الرياض', 'غرب الرياض', 'شرق الرياض', 'شمال الرياض',\n",
       "       'وسط الرياض'], dtype=object)"
      ]
     },
     "execution_count": 67,
     "metadata": {},
     "output_type": "execute_result"
    }
   ],
   "source": [
    "Riyadh_VillasAqar['location'].unique()"
   ]
  },
  {
   "cell_type": "code",
   "execution_count": 68,
   "id": "b7660ed2",
   "metadata": {},
   "outputs": [
    {
     "data": {
      "text/plain": [
       "array([' عكاظ ', ' المهدية ', ' الشفا ', ' ظهرة لبن ', ' قرطبة ',\n",
       "       ' السويدي ', ' الروضة ', ' القادسية ', ' بدر ',\n",
       "       ' المدينة الصناعية الجديدة ', ' الجنادرية ', ' الفاخرية ',\n",
       "       ' الشرق ', ' العارض ', ' الدار البيضاء ', ' الحمراء ', ' طويق ',\n",
       "       ' احد ', ' النهضة ', ' الخليج ', ' اشبيلية ', ' الملك فيصل ',\n",
       "       ' النسيم الغربي ', ' الرمال ', ' حطين ', ' الريان ', ' النرجس ',\n",
       "       ' الحزم ', ' السلام ', ' طيبة ', 'ان مولى قريش ', ' الصحافة ',\n",
       "       ' العزيزية ', ' الفلاح ', ' الملقا ', ' الرحمانية ', ' النرجس',\n",
       "       ' الندوة ', ' نمار ', ' ديراب ', ' المعيزيلة ', ' ظهرة نمار ',\n",
       "       ' مطار الملك خالد الدولي ', ' الغدير ', 'ه بن خليفه ',\n",
       "       ' القيروان ', ' العوالي ', ' المونسية ', ' العريجاء الغربية ',\n",
       "       'ى العصامي ', ' الياسمين ', ' أم الحمام الغربي ', 'ة نمار ',\n",
       "       ' الربوة ', ' الملك فهد ', ' النخيل ', ' اليمامة ', ' اليرموك ',\n",
       "       ' الدريهمية ', ' ظهرة البديعة ', 'ى الفرضي ', 'ى بن مسعود ',\n",
       "       ' عريض ', ' النفل ', ' الاندلس ', ' المعذر ', ' الزهرة ',\n",
       "       ' السلي ', ' البيان ', ' الندى ', ' الخير ', ' الروابي ',\n",
       "       ' العقيق ', 'م بن عساكر ', ' سلطانة ', ' السعادة ', ' الجزيرة ',\n",
       "       'م قاضي ', ' الواحة ', ' العليا ', ' المروة ', 'ان بن عبدالله ',\n",
       "       ' السويدي الغربي ', ' غرناطة ', ' الازدهار ', ' السليمانية ',\n",
       "       ' عرقة ', 'ي الدين البغوي ', ' الفاروق ', 'ى السديد ',\n",
       "       ' الفيصلية ', ' الرمال', ' النسيم الشرقي ', ' الفيحاء ', ' الملز ',\n",
       "       ' الانسي ', ' شبرا ', ' الربيع ', ' غبيرة ', 'ة ', ' عليشة ',\n",
       "       'ده بن معاويه ', ' الحائر ', ' النظيم ', ' المنار ',\n",
       "       ' صلاح الدين ', ' الورود ', 'ة بن خليفة الكلبي ', ' أحد ',\n",
       "       ' الرائد ', 'م بن الفرس ', ' المنصورة ', ' الهدا ', ' المربع ',\n",
       "       ' المصيف ', ' القدس ', 'مي ', ' الخزامى ', ' منفوحة الجديدة ',\n",
       "       ' المرسلات ', ' النزهة ', ' العريجاء الوسطى ', 'ى بن عبيد ',\n",
       "       ' بدر', ' التعاون ', ' عتيقة ', 'ط ', ' ابو خضير ', 'د ',\n",
       "       ' القيروان', 'ى بن جزلة ', 'ى المعلمي ', ' عكاظ', 'م الحريمي ',\n",
       "       ' المنصورية ', 'ى بن ابراهيم الطالبي ', ' الوادي ', ' أحمد السف ',\n",
       "       'م الكناني ', ' اسكان وزارة الداخلية ', 'صن ', ' المحمدية ',\n",
       "       'رات ', 'ى الأزدي ', 'ى ', 'مية ', 'ى الطبري ', 'ه ', ' المروج ',\n",
       "       ' المغرزات ', 'ى الطائي ', 'ى السعدي ', ' خشم العان ',\n",
       "       'م بن القابلة ', 'ى المدني ', ' الحزم', ' عقرباء ', 'ى المفتي ',\n",
       "       ' بن عمر الملتوني ', ' كمال ', 'ى بن عدى ', 'ى الانباري ',\n",
       "       'ى مؤذن ', 'ى بن اكثم ', ' الوشام ', 'سيه ', ' هجرة لبن ',\n",
       "       ' الكتاني ', ' البديعة ', 'ي بن عدي ', ' الشهداء ', ' المرقب ',\n",
       "       'ى بن عبدالله ', 'ى بن خالد البرمكي ', 'ى بن البناء ',\n",
       "       'ى الواسطي ', 'ري ', ' الملك عبدالله ', ' الغنامية ',\n",
       "       'ى الصنهاجي ', ' الخالدية ', ' الضباط ', 'ى بن يى القرطبي ',\n",
       "       'ى بن محمد الغرناطي ', ' السلمانية ', 'م ', ' المصانع ', 'اني ',\n",
       "       'ى بن قزعة القرشي ', ' لبن ', 'ى الذماري ', 'اه ',\n",
       "       'ى بن عبدالعزيز ', ' الشرفية ', 'ى الجفصي ', ' الاسكان ', 'ان ',\n",
       "       'ى بن أبي بكر ', 'ى الوراق ', 'ى الزبيدي ', 'ى السلمي ', 'ل ',\n",
       "       'وة بن شريح ', ' منفوحة ', ' الرفيعة ', 'ى بن القاسم ', ' الصفا ',\n",
       "       ' العمل ', 'سية ', 'اء ', ' جرير ', ' الزهراء ', 'ى الكوفي ',\n",
       "       ' المعذر الشمالي ', 'ى محمد الب ', 'ي الدين النيسابوري ',\n",
       "       'م المغربي ', 'ميات ', 'ي بن محمد الغرناطي ', 'ذيف ', ' البرية ',\n",
       "       'فات ', 'ى الشاذلي ', 'رة ', 'ى الطالبي ', 'اء البغدادية ',\n",
       "       'ى - الجبيلة ', 'ى الطائفي ', 'ى بن عبدالرحمن ', 'ى بن إسماعيل ',\n",
       "       'ى بن قاسم ', ' لقاح', 'ى الانسي ', 'ى التيمي ', 'دره التونسي ',\n",
       "       ' ثليم ', 'باني ', ' ام سليم ', ' المعيزلة ', 'ف العنبري ', 'ون ',\n",
       "       'ى الرازي ', 'ى بن بكير ', ' العود ', ' العريجاء الغربي ',\n",
       "       'ى بن المقداد ', 'ى الغرناطي ', 'درة بن علي ', ' أبي خضير ',\n",
       "       ' أم الحمام الشرقي ', 'ى بن خلدون ', ' المونسية', ' المعذر',\n",
       "       'ى القفصي ', 'مد ', ' المدينة الصناعية الثانية ', 'ى الأنسي ',\n",
       "       'رة فان ', 'ى محمد يى الش ', 'ن ', 'رة النوبة ',\n",
       "       ' الملك عبدالعزيز ', ' المجد', 'م الصديقي ', 'ى بن صديق ',\n",
       "       ' العريجاء ', ' رفه ', 'اض بن قيس بن الأعور ', 'ى بن عميرة ',\n",
       "       ' المناخ ', ' بنبان ', 'ي بن خالد البرمكي ', ' الوزارات ',\n",
       "       ' الجرداء', 'ى التنوخي ', 'ى بن غيهب ', ' السدوسي ', 'ى امان ',\n",
       "       'ى البرمكي ', 'م الخزرجي ', ' ام الشعال ', ' قرطبة',\n",
       "       ' محمد سحاري ', 'ويه ', 'مة ', 'ى الانطاكي ', 'ي بن المبارك ',\n",
       "       'وس ', 'ى الغماري ', ' الجرادية ', ' الربيع الشرقي ٢ ', ' التقوى ',\n",
       "       'فا ', 'ا ', 'اص '], dtype=object)"
      ]
     },
     "execution_count": 68,
     "metadata": {},
     "output_type": "execute_result"
    }
   ],
   "source": [
    "Riyadh_VillasAqar['neighbourhood'].unique()"
   ]
  },
  {
   "cell_type": "markdown",
   "id": "0f5e3a2a-bbb7-4d06-8220-c93277b70146",
   "metadata": {},
   "source": [
    "#### 5. Uniqueness: \n",
    "Check for and remove duplicate records to prevent skewed analysis results.\n"
   ]
  },
  {
   "cell_type": "markdown",
   "id": "b09e4fa1",
   "metadata": {},
   "source": [
    "# Real_Estate dataset"
   ]
  },
  {
   "cell_type": "code",
   "execution_count": 69,
   "id": "a509a7aa-58f4-4d39-8eb8-e8298a21f2a7",
   "metadata": {},
   "outputs": [
    {
     "data": {
      "text/html": [
       "<div>\n",
       "<style scoped>\n",
       "    .dataframe tbody tr th:only-of-type {\n",
       "        vertical-align: middle;\n",
       "    }\n",
       "\n",
       "    .dataframe tbody tr th {\n",
       "        vertical-align: top;\n",
       "    }\n",
       "\n",
       "    .dataframe thead th {\n",
       "        text-align: right;\n",
       "    }\n",
       "</style>\n",
       "<table border=\"1\" class=\"dataframe\">\n",
       "  <thead>\n",
       "    <tr style=\"text-align: right;\">\n",
       "      <th></th>\n",
       "      <th>price</th>\n",
       "      <th>beds</th>\n",
       "      <th>livings</th>\n",
       "      <th>wc</th>\n",
       "      <th>area</th>\n",
       "      <th>street_width</th>\n",
       "      <th>age</th>\n",
       "      <th>last_update</th>\n",
       "      <th>kitchen</th>\n",
       "      <th>ac</th>\n",
       "      <th>furnished</th>\n",
       "      <th>location</th>\n",
       "      <th>district</th>\n",
       "      <th>advertiser_type</th>\n",
       "      <th>create_time</th>\n",
       "      <th>review</th>\n",
       "      <th>UserName</th>\n",
       "      <th>iam_verified</th>\n",
       "      <th>onMarket</th>\n",
       "      <th>IsRent</th>\n",
       "      <th>latitude</th>\n",
       "      <th>longitude</th>\n",
       "    </tr>\n",
       "  </thead>\n",
       "  <tbody>\n",
       "  </tbody>\n",
       "</table>\n",
       "</div>"
      ],
      "text/plain": [
       "Empty DataFrame\n",
       "Columns: [price, beds, livings, wc, area, street_width, age, last_update, kitchen, ac, furnished, location, district, advertiser_type, create_time, review, UserName, iam_verified, onMarket, IsRent, latitude, longitude]\n",
       "Index: []"
      ]
     },
     "execution_count": 69,
     "metadata": {},
     "output_type": "execute_result"
    }
   ],
   "source": [
    "Real_Estate[Real_Estate.duplicated()]  # To find any duplicate rows"
   ]
  },
  {
   "cell_type": "markdown",
   "id": "bd349226",
   "metadata": {},
   "source": [
    "# Riyadh_Aqqar_Land dataset"
   ]
  },
  {
   "cell_type": "code",
   "execution_count": 70,
   "id": "b1327953",
   "metadata": {},
   "outputs": [
    {
     "data": {
      "text/html": [
       "<div>\n",
       "<style scoped>\n",
       "    .dataframe tbody tr th:only-of-type {\n",
       "        vertical-align: middle;\n",
       "    }\n",
       "\n",
       "    .dataframe tbody tr th {\n",
       "        vertical-align: top;\n",
       "    }\n",
       "\n",
       "    .dataframe thead th {\n",
       "        text-align: right;\n",
       "    }\n",
       "</style>\n",
       "<table border=\"1\" class=\"dataframe\">\n",
       "  <thead>\n",
       "    <tr style=\"text-align: right;\">\n",
       "      <th></th>\n",
       "      <th>نوع العقار</th>\n",
       "      <th>الغرض</th>\n",
       "      <th>المدينة</th>\n",
       "      <th>الحي</th>\n",
       "      <th>الواجهة</th>\n",
       "      <th>المساحة</th>\n",
       "      <th>سعر المتر</th>\n",
       "      <th>السعر الإجمالي</th>\n",
       "    </tr>\n",
       "  </thead>\n",
       "  <tbody>\n",
       "    <tr>\n",
       "      <th>12</th>\n",
       "      <td>أرض</td>\n",
       "      <td>تجاري وسكني</td>\n",
       "      <td>الرياض</td>\n",
       "      <td>اليرموك</td>\n",
       "      <td>جنوبية</td>\n",
       "      <td>1089</td>\n",
       "      <td>3300.0</td>\n",
       "      <td>3593700</td>\n",
       "    </tr>\n",
       "    <tr>\n",
       "      <th>18</th>\n",
       "      <td>أرض</td>\n",
       "      <td>تجاري وسكني</td>\n",
       "      <td>الرياض</td>\n",
       "      <td>اليرموك</td>\n",
       "      <td>جنوبية</td>\n",
       "      <td>1089</td>\n",
       "      <td>3200.0</td>\n",
       "      <td>3484800</td>\n",
       "    </tr>\n",
       "    <tr>\n",
       "      <th>38</th>\n",
       "      <td>أرض</td>\n",
       "      <td>سكني</td>\n",
       "      <td>الرياض</td>\n",
       "      <td>الحمراء</td>\n",
       "      <td>جنوبية</td>\n",
       "      <td>1000</td>\n",
       "      <td>6000.0</td>\n",
       "      <td>6000000</td>\n",
       "    </tr>\n",
       "    <tr>\n",
       "      <th>47</th>\n",
       "      <td>أرض</td>\n",
       "      <td>سكني</td>\n",
       "      <td>الرياض</td>\n",
       "      <td>الشهداء</td>\n",
       "      <td>جنوبية</td>\n",
       "      <td>320</td>\n",
       "      <td>5300.0</td>\n",
       "      <td>1696000</td>\n",
       "    </tr>\n",
       "    <tr>\n",
       "      <th>50</th>\n",
       "      <td>أرض</td>\n",
       "      <td>سكني</td>\n",
       "      <td>الرياض</td>\n",
       "      <td>غرناطة</td>\n",
       "      <td>شمالية</td>\n",
       "      <td>800</td>\n",
       "      <td>4800.0</td>\n",
       "      <td>3840000</td>\n",
       "    </tr>\n",
       "    <tr>\n",
       "      <th>...</th>\n",
       "      <td>...</td>\n",
       "      <td>...</td>\n",
       "      <td>...</td>\n",
       "      <td>...</td>\n",
       "      <td>...</td>\n",
       "      <td>...</td>\n",
       "      <td>...</td>\n",
       "      <td>...</td>\n",
       "    </tr>\n",
       "    <tr>\n",
       "      <th>1338</th>\n",
       "      <td>أرض</td>\n",
       "      <td>سكني</td>\n",
       "      <td>الرياض</td>\n",
       "      <td>الرياض</td>\n",
       "      <td>شرقية</td>\n",
       "      <td>2450</td>\n",
       "      <td>2400.0</td>\n",
       "      <td>5880000</td>\n",
       "    </tr>\n",
       "    <tr>\n",
       "      <th>1357</th>\n",
       "      <td>أرض</td>\n",
       "      <td>سكني</td>\n",
       "      <td>الرياض</td>\n",
       "      <td>الروضة</td>\n",
       "      <td>جنوبية</td>\n",
       "      <td>627</td>\n",
       "      <td>4200.0</td>\n",
       "      <td>2633400</td>\n",
       "    </tr>\n",
       "    <tr>\n",
       "      <th>1367</th>\n",
       "      <td>أرض</td>\n",
       "      <td>سكني</td>\n",
       "      <td>الرياض</td>\n",
       "      <td>العارض</td>\n",
       "      <td>غير معروف</td>\n",
       "      <td>5450</td>\n",
       "      <td>4600.0</td>\n",
       "      <td>25070000</td>\n",
       "    </tr>\n",
       "    <tr>\n",
       "      <th>1372</th>\n",
       "      <td>أرض</td>\n",
       "      <td>تجاري</td>\n",
       "      <td>الرياض</td>\n",
       "      <td>المهدية</td>\n",
       "      <td>جنوبية</td>\n",
       "      <td>900</td>\n",
       "      <td>7600.0</td>\n",
       "      <td>6840000</td>\n",
       "    </tr>\n",
       "    <tr>\n",
       "      <th>1380</th>\n",
       "      <td>أرض</td>\n",
       "      <td>سكني</td>\n",
       "      <td>حريملاء</td>\n",
       "      <td>الرياض</td>\n",
       "      <td>غربية</td>\n",
       "      <td>750</td>\n",
       "      <td>2000.0</td>\n",
       "      <td>1500000</td>\n",
       "    </tr>\n",
       "  </tbody>\n",
       "</table>\n",
       "<p>179 rows × 8 columns</p>\n",
       "</div>"
      ],
      "text/plain": [
       "     نوع العقار        الغرض  المدينة     الحي    الواجهة  المساحة  سعر المتر  \\\n",
       "12          أرض  تجاري وسكني   الرياض  اليرموك     جنوبية     1089     3300.0   \n",
       "18          أرض  تجاري وسكني   الرياض  اليرموك     جنوبية     1089     3200.0   \n",
       "38          أرض         سكني   الرياض  الحمراء     جنوبية     1000     6000.0   \n",
       "47          أرض         سكني   الرياض  الشهداء     جنوبية      320     5300.0   \n",
       "50          أرض         سكني   الرياض   غرناطة     شمالية      800     4800.0   \n",
       "...         ...          ...      ...      ...        ...      ...        ...   \n",
       "1338        أرض         سكني   الرياض   الرياض      شرقية     2450     2400.0   \n",
       "1357        أرض         سكني   الرياض   الروضة     جنوبية      627     4200.0   \n",
       "1367        أرض         سكني   الرياض   العارض  غير معروف     5450     4600.0   \n",
       "1372        أرض        تجاري   الرياض  المهدية     جنوبية      900     7600.0   \n",
       "1380        أرض         سكني  حريملاء   الرياض      غربية      750     2000.0   \n",
       "\n",
       "      السعر الإجمالي  \n",
       "12           3593700  \n",
       "18           3484800  \n",
       "38           6000000  \n",
       "47           1696000  \n",
       "50           3840000  \n",
       "...              ...  \n",
       "1338         5880000  \n",
       "1357         2633400  \n",
       "1367        25070000  \n",
       "1372         6840000  \n",
       "1380         1500000  \n",
       "\n",
       "[179 rows x 8 columns]"
      ]
     },
     "execution_count": 70,
     "metadata": {},
     "output_type": "execute_result"
    }
   ],
   "source": [
    "Riyadh_Aqqar_Land[Riyadh_Aqqar_Land.duplicated()]  # To find any duplicate rows"
   ]
  },
  {
   "cell_type": "code",
   "execution_count": 71,
   "id": "f454e755",
   "metadata": {},
   "outputs": [
    {
     "data": {
      "text/html": [
       "<div>\n",
       "<style scoped>\n",
       "    .dataframe tbody tr th:only-of-type {\n",
       "        vertical-align: middle;\n",
       "    }\n",
       "\n",
       "    .dataframe tbody tr th {\n",
       "        vertical-align: top;\n",
       "    }\n",
       "\n",
       "    .dataframe thead th {\n",
       "        text-align: right;\n",
       "    }\n",
       "</style>\n",
       "<table border=\"1\" class=\"dataframe\">\n",
       "  <thead>\n",
       "    <tr style=\"text-align: right;\">\n",
       "      <th></th>\n",
       "      <th>نوع العقار</th>\n",
       "      <th>الغرض</th>\n",
       "      <th>المدينة</th>\n",
       "      <th>الحي</th>\n",
       "      <th>الواجهة</th>\n",
       "      <th>المساحة</th>\n",
       "      <th>سعر المتر</th>\n",
       "      <th>السعر الإجمالي</th>\n",
       "    </tr>\n",
       "  </thead>\n",
       "  <tbody>\n",
       "    <tr>\n",
       "      <th>3</th>\n",
       "      <td>أرض</td>\n",
       "      <td>سكني</td>\n",
       "      <td>الرياض</td>\n",
       "      <td>اليرموك</td>\n",
       "      <td>غير معروف</td>\n",
       "      <td>1650</td>\n",
       "      <td>4800.0</td>\n",
       "      <td>7920000</td>\n",
       "    </tr>\n",
       "    <tr>\n",
       "      <th>5</th>\n",
       "      <td>أرض</td>\n",
       "      <td>تجاري وسكني</td>\n",
       "      <td>الرياض</td>\n",
       "      <td>الرمال</td>\n",
       "      <td>جنوبية</td>\n",
       "      <td>2400</td>\n",
       "      <td>3300.0</td>\n",
       "      <td>7920000</td>\n",
       "    </tr>\n",
       "    <tr>\n",
       "      <th>11</th>\n",
       "      <td>أرض</td>\n",
       "      <td>تجاري وسكني</td>\n",
       "      <td>الرياض</td>\n",
       "      <td>الرمال</td>\n",
       "      <td>شرقية</td>\n",
       "      <td>450</td>\n",
       "      <td>3500.0</td>\n",
       "      <td>1575000</td>\n",
       "    </tr>\n",
       "    <tr>\n",
       "      <th>12</th>\n",
       "      <td>أرض</td>\n",
       "      <td>تجاري وسكني</td>\n",
       "      <td>الرياض</td>\n",
       "      <td>اليرموك</td>\n",
       "      <td>جنوبية</td>\n",
       "      <td>1089</td>\n",
       "      <td>3300.0</td>\n",
       "      <td>3593700</td>\n",
       "    </tr>\n",
       "    <tr>\n",
       "      <th>13</th>\n",
       "      <td>أرض</td>\n",
       "      <td>تجاري وسكني</td>\n",
       "      <td>الرياض</td>\n",
       "      <td>الرياض</td>\n",
       "      <td>جنوبية</td>\n",
       "      <td>1089</td>\n",
       "      <td>3300.0</td>\n",
       "      <td>3593700</td>\n",
       "    </tr>\n",
       "    <tr>\n",
       "      <th>...</th>\n",
       "      <td>...</td>\n",
       "      <td>...</td>\n",
       "      <td>...</td>\n",
       "      <td>...</td>\n",
       "      <td>...</td>\n",
       "      <td>...</td>\n",
       "      <td>...</td>\n",
       "      <td>...</td>\n",
       "    </tr>\n",
       "    <tr>\n",
       "      <th>1380</th>\n",
       "      <td>أرض</td>\n",
       "      <td>سكني</td>\n",
       "      <td>حريملاء</td>\n",
       "      <td>الرياض</td>\n",
       "      <td>غربية</td>\n",
       "      <td>750</td>\n",
       "      <td>2000.0</td>\n",
       "      <td>1500000</td>\n",
       "    </tr>\n",
       "    <tr>\n",
       "      <th>1382</th>\n",
       "      <td>أرض</td>\n",
       "      <td>سكني</td>\n",
       "      <td>الرياض</td>\n",
       "      <td>بنبان</td>\n",
       "      <td>جنوبية شرقية</td>\n",
       "      <td>10000</td>\n",
       "      <td>1000.0</td>\n",
       "      <td>10000000</td>\n",
       "    </tr>\n",
       "    <tr>\n",
       "      <th>1383</th>\n",
       "      <td>أرض</td>\n",
       "      <td>سكني</td>\n",
       "      <td>حريملاء</td>\n",
       "      <td>ملهم</td>\n",
       "      <td>جنوبية شرقية</td>\n",
       "      <td>10000</td>\n",
       "      <td>1000.0</td>\n",
       "      <td>10000000</td>\n",
       "    </tr>\n",
       "    <tr>\n",
       "      <th>1384</th>\n",
       "      <td>أرض</td>\n",
       "      <td>سكني</td>\n",
       "      <td>الرياض</td>\n",
       "      <td>الحمراء</td>\n",
       "      <td>شمالية</td>\n",
       "      <td>1125</td>\n",
       "      <td>5000.0</td>\n",
       "      <td>5625000</td>\n",
       "    </tr>\n",
       "    <tr>\n",
       "      <th>1386</th>\n",
       "      <td>أرض</td>\n",
       "      <td>تجاري وسكني</td>\n",
       "      <td>الرياض</td>\n",
       "      <td>النظيم</td>\n",
       "      <td>جنوبية شرقية</td>\n",
       "      <td>2500</td>\n",
       "      <td>2000.0</td>\n",
       "      <td>5000000</td>\n",
       "    </tr>\n",
       "  </tbody>\n",
       "</table>\n",
       "<p>616 rows × 8 columns</p>\n",
       "</div>"
      ],
      "text/plain": [
       "     نوع العقار        الغرض  المدينة     الحي       الواجهة  المساحة  \\\n",
       "3           أرض         سكني   الرياض  اليرموك     غير معروف     1650   \n",
       "5           أرض  تجاري وسكني   الرياض   الرمال        جنوبية     2400   \n",
       "11          أرض  تجاري وسكني   الرياض   الرمال         شرقية      450   \n",
       "12          أرض  تجاري وسكني   الرياض  اليرموك        جنوبية     1089   \n",
       "13          أرض  تجاري وسكني   الرياض   الرياض        جنوبية     1089   \n",
       "...         ...          ...      ...      ...           ...      ...   \n",
       "1380        أرض         سكني  حريملاء   الرياض         غربية      750   \n",
       "1382        أرض         سكني   الرياض    بنبان  جنوبية شرقية    10000   \n",
       "1383        أرض         سكني  حريملاء     ملهم  جنوبية شرقية    10000   \n",
       "1384        أرض         سكني   الرياض  الحمراء        شمالية     1125   \n",
       "1386        أرض  تجاري وسكني   الرياض   النظيم  جنوبية شرقية     2500   \n",
       "\n",
       "      سعر المتر  السعر الإجمالي  \n",
       "3        4800.0         7920000  \n",
       "5        3300.0         7920000  \n",
       "11       3500.0         1575000  \n",
       "12       3300.0         3593700  \n",
       "13       3300.0         3593700  \n",
       "...         ...             ...  \n",
       "1380     2000.0         1500000  \n",
       "1382     1000.0        10000000  \n",
       "1383     1000.0        10000000  \n",
       "1384     5000.0         5625000  \n",
       "1386     2000.0         5000000  \n",
       "\n",
       "[616 rows x 8 columns]"
      ]
     },
     "execution_count": 71,
     "metadata": {},
     "output_type": "execute_result"
    }
   ],
   "source": [
    "Riyadh_Aqqar_Land[Riyadh_Aqqar_Land['السعر الإجمالي'].duplicated()]"
   ]
  },
  {
   "cell_type": "markdown",
   "id": "614267a9",
   "metadata": {},
   "source": [
    "# Riyadh_Aqqar_Villas dataset"
   ]
  },
  {
   "cell_type": "code",
   "execution_count": 72,
   "id": "ec278f1c",
   "metadata": {},
   "outputs": [
    {
     "data": {
      "text/html": [
       "<div>\n",
       "<style scoped>\n",
       "    .dataframe tbody tr th:only-of-type {\n",
       "        vertical-align: middle;\n",
       "    }\n",
       "\n",
       "    .dataframe tbody tr th {\n",
       "        vertical-align: top;\n",
       "    }\n",
       "\n",
       "    .dataframe thead th {\n",
       "        text-align: right;\n",
       "    }\n",
       "</style>\n",
       "<table border=\"1\" class=\"dataframe\">\n",
       "  <thead>\n",
       "    <tr style=\"text-align: right;\">\n",
       "      <th></th>\n",
       "      <th>نوع العقار</th>\n",
       "      <th>المدينة</th>\n",
       "      <th>الحي</th>\n",
       "      <th>الواجهة</th>\n",
       "      <th>عدد الغرف</th>\n",
       "      <th>عدد الصالات</th>\n",
       "      <th>عدد الحمامات</th>\n",
       "      <th>عرض الشارع</th>\n",
       "      <th>المساحة</th>\n",
       "      <th>درج صالة</th>\n",
       "      <th>مطبخ</th>\n",
       "      <th>غرفة خادمة</th>\n",
       "      <th>غرفة سائق</th>\n",
       "      <th>ملحق</th>\n",
       "      <th>حوش</th>\n",
       "      <th>مسبح</th>\n",
       "      <th>قبو</th>\n",
       "      <th>مدخل سيارة</th>\n",
       "      <th>مصعد</th>\n",
       "      <th>السعر الاجمالي</th>\n",
       "    </tr>\n",
       "  </thead>\n",
       "  <tbody>\n",
       "    <tr>\n",
       "      <th>248</th>\n",
       "      <td>فيلا</td>\n",
       "      <td>امارة منطقة الرياض</td>\n",
       "      <td>الرياض</td>\n",
       "      <td>شرقية</td>\n",
       "      <td>4</td>\n",
       "      <td>1</td>\n",
       "      <td>3</td>\n",
       "      <td>18.0</td>\n",
       "      <td>180.0</td>\n",
       "      <td>False</td>\n",
       "      <td>True</td>\n",
       "      <td>False</td>\n",
       "      <td>False</td>\n",
       "      <td>False</td>\n",
       "      <td>False</td>\n",
       "      <td>False</td>\n",
       "      <td>False</td>\n",
       "      <td>True</td>\n",
       "      <td>False</td>\n",
       "      <td>1100000</td>\n",
       "    </tr>\n",
       "    <tr>\n",
       "      <th>251</th>\n",
       "      <td>فيلا</td>\n",
       "      <td>الرياض</td>\n",
       "      <td>المونسية</td>\n",
       "      <td>غربية</td>\n",
       "      <td>4</td>\n",
       "      <td>2</td>\n",
       "      <td>5+</td>\n",
       "      <td>18.0</td>\n",
       "      <td>300.0</td>\n",
       "      <td>True</td>\n",
       "      <td>True</td>\n",
       "      <td>True</td>\n",
       "      <td>False</td>\n",
       "      <td>True</td>\n",
       "      <td>True</td>\n",
       "      <td>False</td>\n",
       "      <td>False</td>\n",
       "      <td>True</td>\n",
       "      <td>True</td>\n",
       "      <td>2200000</td>\n",
       "    </tr>\n",
       "    <tr>\n",
       "      <th>253</th>\n",
       "      <td>فيلا</td>\n",
       "      <td>الرياض</td>\n",
       "      <td>القدس</td>\n",
       "      <td>شمالية</td>\n",
       "      <td>5</td>\n",
       "      <td>5</td>\n",
       "      <td>5+</td>\n",
       "      <td>18.0</td>\n",
       "      <td>900.0</td>\n",
       "      <td>True</td>\n",
       "      <td>True</td>\n",
       "      <td>False</td>\n",
       "      <td>False</td>\n",
       "      <td>True</td>\n",
       "      <td>True</td>\n",
       "      <td>True</td>\n",
       "      <td>False</td>\n",
       "      <td>True</td>\n",
       "      <td>False</td>\n",
       "      <td>4700000</td>\n",
       "    </tr>\n",
       "    <tr>\n",
       "      <th>254</th>\n",
       "      <td>فيلا</td>\n",
       "      <td>الرياض</td>\n",
       "      <td>الخليج</td>\n",
       "      <td>غربية</td>\n",
       "      <td>5</td>\n",
       "      <td>2</td>\n",
       "      <td>4</td>\n",
       "      <td>18.0</td>\n",
       "      <td>324.0</td>\n",
       "      <td>True</td>\n",
       "      <td>True</td>\n",
       "      <td>True</td>\n",
       "      <td>True</td>\n",
       "      <td>True</td>\n",
       "      <td>True</td>\n",
       "      <td>False</td>\n",
       "      <td>False</td>\n",
       "      <td>True</td>\n",
       "      <td>False</td>\n",
       "      <td>2200000</td>\n",
       "    </tr>\n",
       "    <tr>\n",
       "      <th>255</th>\n",
       "      <td>فيلا</td>\n",
       "      <td>الرياض</td>\n",
       "      <td>الرمال</td>\n",
       "      <td>شمالية</td>\n",
       "      <td>7+</td>\n",
       "      <td>1</td>\n",
       "      <td>5+</td>\n",
       "      <td>18.0</td>\n",
       "      <td>281.0</td>\n",
       "      <td>False</td>\n",
       "      <td>False</td>\n",
       "      <td>False</td>\n",
       "      <td>False</td>\n",
       "      <td>False</td>\n",
       "      <td>False</td>\n",
       "      <td>False</td>\n",
       "      <td>False</td>\n",
       "      <td>False</td>\n",
       "      <td>False</td>\n",
       "      <td>1400000</td>\n",
       "    </tr>\n",
       "    <tr>\n",
       "      <th>...</th>\n",
       "      <td>...</td>\n",
       "      <td>...</td>\n",
       "      <td>...</td>\n",
       "      <td>...</td>\n",
       "      <td>...</td>\n",
       "      <td>...</td>\n",
       "      <td>...</td>\n",
       "      <td>...</td>\n",
       "      <td>...</td>\n",
       "      <td>...</td>\n",
       "      <td>...</td>\n",
       "      <td>...</td>\n",
       "      <td>...</td>\n",
       "      <td>...</td>\n",
       "      <td>...</td>\n",
       "      <td>...</td>\n",
       "      <td>...</td>\n",
       "      <td>...</td>\n",
       "      <td>...</td>\n",
       "      <td>...</td>\n",
       "    </tr>\n",
       "    <tr>\n",
       "      <th>1047</th>\n",
       "      <td>فيلا</td>\n",
       "      <td>الرياض</td>\n",
       "      <td>المونسية</td>\n",
       "      <td>غير معروف</td>\n",
       "      <td>غير معروف</td>\n",
       "      <td>غير معروف</td>\n",
       "      <td>غير معروف</td>\n",
       "      <td>18.0</td>\n",
       "      <td>0.0</td>\n",
       "      <td>False</td>\n",
       "      <td>False</td>\n",
       "      <td>False</td>\n",
       "      <td>False</td>\n",
       "      <td>False</td>\n",
       "      <td>False</td>\n",
       "      <td>False</td>\n",
       "      <td>False</td>\n",
       "      <td>False</td>\n",
       "      <td>False</td>\n",
       "      <td>2300000</td>\n",
       "    </tr>\n",
       "    <tr>\n",
       "      <th>1058</th>\n",
       "      <td>فيلا</td>\n",
       "      <td>الرياض</td>\n",
       "      <td>المونسية</td>\n",
       "      <td>غير معروف</td>\n",
       "      <td>غير معروف</td>\n",
       "      <td>غير معروف</td>\n",
       "      <td>غير معروف</td>\n",
       "      <td>18.0</td>\n",
       "      <td>0.0</td>\n",
       "      <td>False</td>\n",
       "      <td>False</td>\n",
       "      <td>False</td>\n",
       "      <td>False</td>\n",
       "      <td>False</td>\n",
       "      <td>False</td>\n",
       "      <td>False</td>\n",
       "      <td>False</td>\n",
       "      <td>False</td>\n",
       "      <td>False</td>\n",
       "      <td>2300000</td>\n",
       "    </tr>\n",
       "    <tr>\n",
       "      <th>1059</th>\n",
       "      <td>فيلا</td>\n",
       "      <td>امارة منطقة الرياض</td>\n",
       "      <td>الرياض</td>\n",
       "      <td>شرقية</td>\n",
       "      <td>5</td>\n",
       "      <td>3</td>\n",
       "      <td>5+</td>\n",
       "      <td>18.0</td>\n",
       "      <td>375.0</td>\n",
       "      <td>True</td>\n",
       "      <td>True</td>\n",
       "      <td>True</td>\n",
       "      <td>False</td>\n",
       "      <td>True</td>\n",
       "      <td>True</td>\n",
       "      <td>False</td>\n",
       "      <td>False</td>\n",
       "      <td>True</td>\n",
       "      <td>True</td>\n",
       "      <td>3650000</td>\n",
       "    </tr>\n",
       "    <tr>\n",
       "      <th>1075</th>\n",
       "      <td>فيلا</td>\n",
       "      <td>امارة منطقة الرياض</td>\n",
       "      <td>الرياض</td>\n",
       "      <td>غربية</td>\n",
       "      <td>5</td>\n",
       "      <td>1</td>\n",
       "      <td>5+</td>\n",
       "      <td>18.0</td>\n",
       "      <td>250.0</td>\n",
       "      <td>True</td>\n",
       "      <td>True</td>\n",
       "      <td>True</td>\n",
       "      <td>False</td>\n",
       "      <td>False</td>\n",
       "      <td>False</td>\n",
       "      <td>False</td>\n",
       "      <td>False</td>\n",
       "      <td>False</td>\n",
       "      <td>False</td>\n",
       "      <td>1450000</td>\n",
       "    </tr>\n",
       "    <tr>\n",
       "      <th>1080</th>\n",
       "      <td>فيلا</td>\n",
       "      <td>الرياض</td>\n",
       "      <td>الرياض</td>\n",
       "      <td>جنوبية</td>\n",
       "      <td>5</td>\n",
       "      <td>2</td>\n",
       "      <td>5+</td>\n",
       "      <td>15.0</td>\n",
       "      <td>300.0</td>\n",
       "      <td>True</td>\n",
       "      <td>True</td>\n",
       "      <td>True</td>\n",
       "      <td>False</td>\n",
       "      <td>True</td>\n",
       "      <td>False</td>\n",
       "      <td>False</td>\n",
       "      <td>False</td>\n",
       "      <td>True</td>\n",
       "      <td>False</td>\n",
       "      <td>1400000</td>\n",
       "    </tr>\n",
       "  </tbody>\n",
       "</table>\n",
       "<p>250 rows × 20 columns</p>\n",
       "</div>"
      ],
      "text/plain": [
       "     نوع العقار              المدينة      الحي    الواجهة  عدد الغرف  \\\n",
       "248        فيلا   امارة منطقة الرياض    الرياض      شرقية          4   \n",
       "251        فيلا              الرياض   المونسية      غربية          4   \n",
       "253        فيلا              الرياض      القدس     شمالية          5   \n",
       "254        فيلا              الرياض     الخليج      غربية          5   \n",
       "255        فيلا              الرياض     الرمال     شمالية         7+   \n",
       "...         ...                  ...       ...        ...        ...   \n",
       "1047       فيلا              الرياض   المونسية  غير معروف  غير معروف   \n",
       "1058       فيلا              الرياض   المونسية  غير معروف  غير معروف   \n",
       "1059       فيلا   امارة منطقة الرياض    الرياض      شرقية          5   \n",
       "1075       فيلا   امارة منطقة الرياض    الرياض      غربية          5   \n",
       "1080       فيلا               الرياض    الرياض     جنوبية          5   \n",
       "\n",
       "     عدد الصالات عدد الحمامات  عرض الشارع  المساحة  درج صالة   مطبخ  \\\n",
       "248            1            3        18.0    180.0     False   True   \n",
       "251            2           5+        18.0    300.0      True   True   \n",
       "253            5           5+        18.0    900.0      True   True   \n",
       "254            2            4        18.0    324.0      True   True   \n",
       "255            1           5+        18.0    281.0     False  False   \n",
       "...          ...          ...         ...      ...       ...    ...   \n",
       "1047   غير معروف    غير معروف        18.0      0.0     False  False   \n",
       "1058   غير معروف    غير معروف        18.0      0.0     False  False   \n",
       "1059           3           5+        18.0    375.0      True   True   \n",
       "1075           1           5+        18.0    250.0      True   True   \n",
       "1080           2           5+        15.0    300.0      True   True   \n",
       "\n",
       "      غرفة خادمة  غرفة سائق   ملحق    حوش   مسبح    قبو  مدخل سيارة   مصعد  \\\n",
       "248        False      False  False  False  False  False        True  False   \n",
       "251         True      False   True   True  False  False        True   True   \n",
       "253        False      False   True   True   True  False        True  False   \n",
       "254         True       True   True   True  False  False        True  False   \n",
       "255        False      False  False  False  False  False       False  False   \n",
       "...          ...        ...    ...    ...    ...    ...         ...    ...   \n",
       "1047       False      False  False  False  False  False       False  False   \n",
       "1058       False      False  False  False  False  False       False  False   \n",
       "1059        True      False   True   True  False  False        True   True   \n",
       "1075        True      False  False  False  False  False       False  False   \n",
       "1080        True      False   True  False  False  False        True  False   \n",
       "\n",
       "      السعر الاجمالي  \n",
       "248          1100000  \n",
       "251          2200000  \n",
       "253          4700000  \n",
       "254          2200000  \n",
       "255          1400000  \n",
       "...              ...  \n",
       "1047         2300000  \n",
       "1058         2300000  \n",
       "1059         3650000  \n",
       "1075         1450000  \n",
       "1080         1400000  \n",
       "\n",
       "[250 rows x 20 columns]"
      ]
     },
     "execution_count": 72,
     "metadata": {},
     "output_type": "execute_result"
    }
   ],
   "source": [
    "Riyadh_Aqqar_Villas[Riyadh_Aqqar_Villas.duplicated(keep=False)]"
   ]
  },
  {
   "cell_type": "code",
   "execution_count": 73,
   "id": "4542c238",
   "metadata": {},
   "outputs": [
    {
     "data": {
      "text/html": [
       "<div>\n",
       "<style scoped>\n",
       "    .dataframe tbody tr th:only-of-type {\n",
       "        vertical-align: middle;\n",
       "    }\n",
       "\n",
       "    .dataframe tbody tr th {\n",
       "        vertical-align: top;\n",
       "    }\n",
       "\n",
       "    .dataframe thead th {\n",
       "        text-align: right;\n",
       "    }\n",
       "</style>\n",
       "<table border=\"1\" class=\"dataframe\">\n",
       "  <thead>\n",
       "    <tr style=\"text-align: right;\">\n",
       "      <th></th>\n",
       "      <th>نوع العقار</th>\n",
       "      <th>المدينة</th>\n",
       "      <th>الحي</th>\n",
       "      <th>الواجهة</th>\n",
       "      <th>عدد الغرف</th>\n",
       "      <th>عدد الصالات</th>\n",
       "      <th>عدد الحمامات</th>\n",
       "      <th>عرض الشارع</th>\n",
       "      <th>المساحة</th>\n",
       "      <th>درج صالة</th>\n",
       "      <th>مطبخ</th>\n",
       "      <th>غرفة خادمة</th>\n",
       "      <th>غرفة سائق</th>\n",
       "      <th>ملحق</th>\n",
       "      <th>حوش</th>\n",
       "      <th>مسبح</th>\n",
       "      <th>قبو</th>\n",
       "      <th>مدخل سيارة</th>\n",
       "      <th>مصعد</th>\n",
       "      <th>السعر الاجمالي</th>\n",
       "    </tr>\n",
       "  </thead>\n",
       "  <tbody>\n",
       "    <tr>\n",
       "      <th>0</th>\n",
       "      <td>فيلا</td>\n",
       "      <td>الرياض</td>\n",
       "      <td>العارض</td>\n",
       "      <td>جنوبية</td>\n",
       "      <td>6</td>\n",
       "      <td>3</td>\n",
       "      <td>5+</td>\n",
       "      <td>18.0</td>\n",
       "      <td>244.0</td>\n",
       "      <td>True</td>\n",
       "      <td>True</td>\n",
       "      <td>True</td>\n",
       "      <td>True</td>\n",
       "      <td>False</td>\n",
       "      <td>True</td>\n",
       "      <td>False</td>\n",
       "      <td>False</td>\n",
       "      <td>True</td>\n",
       "      <td>True</td>\n",
       "      <td>2300000</td>\n",
       "    </tr>\n",
       "    <tr>\n",
       "      <th>1</th>\n",
       "      <td>فيلا</td>\n",
       "      <td>الرياض</td>\n",
       "      <td>العارض</td>\n",
       "      <td>جنوبية</td>\n",
       "      <td>6</td>\n",
       "      <td>4</td>\n",
       "      <td>5+</td>\n",
       "      <td>18.0</td>\n",
       "      <td>322.0</td>\n",
       "      <td>True</td>\n",
       "      <td>True</td>\n",
       "      <td>True</td>\n",
       "      <td>True</td>\n",
       "      <td>True</td>\n",
       "      <td>True</td>\n",
       "      <td>False</td>\n",
       "      <td>False</td>\n",
       "      <td>True</td>\n",
       "      <td>True</td>\n",
       "      <td>3000000</td>\n",
       "    </tr>\n",
       "    <tr>\n",
       "      <th>2</th>\n",
       "      <td>فيلا</td>\n",
       "      <td>الرياض</td>\n",
       "      <td>العارض</td>\n",
       "      <td>جنوبية</td>\n",
       "      <td>3</td>\n",
       "      <td>2</td>\n",
       "      <td>5+</td>\n",
       "      <td>18.0</td>\n",
       "      <td>350.0</td>\n",
       "      <td>True</td>\n",
       "      <td>False</td>\n",
       "      <td>True</td>\n",
       "      <td>False</td>\n",
       "      <td>True</td>\n",
       "      <td>False</td>\n",
       "      <td>False</td>\n",
       "      <td>True</td>\n",
       "      <td>True</td>\n",
       "      <td>True</td>\n",
       "      <td>2600000</td>\n",
       "    </tr>\n",
       "    <tr>\n",
       "      <th>3</th>\n",
       "      <td>فيلا</td>\n",
       "      <td>الرياض</td>\n",
       "      <td>النرجس</td>\n",
       "      <td>جنوبية</td>\n",
       "      <td>4</td>\n",
       "      <td>4</td>\n",
       "      <td>4</td>\n",
       "      <td>18.0</td>\n",
       "      <td>350.0</td>\n",
       "      <td>True</td>\n",
       "      <td>True</td>\n",
       "      <td>True</td>\n",
       "      <td>False</td>\n",
       "      <td>False</td>\n",
       "      <td>True</td>\n",
       "      <td>False</td>\n",
       "      <td>True</td>\n",
       "      <td>True</td>\n",
       "      <td>True</td>\n",
       "      <td>2600000</td>\n",
       "    </tr>\n",
       "    <tr>\n",
       "      <th>4</th>\n",
       "      <td>فيلا</td>\n",
       "      <td>الرياض</td>\n",
       "      <td>العارض</td>\n",
       "      <td>غربية</td>\n",
       "      <td>4</td>\n",
       "      <td>1</td>\n",
       "      <td>5+</td>\n",
       "      <td>18.0</td>\n",
       "      <td>270.0</td>\n",
       "      <td>True</td>\n",
       "      <td>True</td>\n",
       "      <td>True</td>\n",
       "      <td>True</td>\n",
       "      <td>False</td>\n",
       "      <td>False</td>\n",
       "      <td>False</td>\n",
       "      <td>False</td>\n",
       "      <td>True</td>\n",
       "      <td>False</td>\n",
       "      <td>2800000</td>\n",
       "    </tr>\n",
       "    <tr>\n",
       "      <th>...</th>\n",
       "      <td>...</td>\n",
       "      <td>...</td>\n",
       "      <td>...</td>\n",
       "      <td>...</td>\n",
       "      <td>...</td>\n",
       "      <td>...</td>\n",
       "      <td>...</td>\n",
       "      <td>...</td>\n",
       "      <td>...</td>\n",
       "      <td>...</td>\n",
       "      <td>...</td>\n",
       "      <td>...</td>\n",
       "      <td>...</td>\n",
       "      <td>...</td>\n",
       "      <td>...</td>\n",
       "      <td>...</td>\n",
       "      <td>...</td>\n",
       "      <td>...</td>\n",
       "      <td>...</td>\n",
       "      <td>...</td>\n",
       "    </tr>\n",
       "    <tr>\n",
       "      <th>1082</th>\n",
       "      <td>فيلا</td>\n",
       "      <td>الرياض</td>\n",
       "      <td>الازدهار</td>\n",
       "      <td>جنوبية شرقية</td>\n",
       "      <td>7+</td>\n",
       "      <td>5</td>\n",
       "      <td>5+</td>\n",
       "      <td>18.0</td>\n",
       "      <td>720.0</td>\n",
       "      <td>True</td>\n",
       "      <td>True</td>\n",
       "      <td>True</td>\n",
       "      <td>True</td>\n",
       "      <td>True</td>\n",
       "      <td>True</td>\n",
       "      <td>False</td>\n",
       "      <td>True</td>\n",
       "      <td>True</td>\n",
       "      <td>False</td>\n",
       "      <td>3900000</td>\n",
       "    </tr>\n",
       "    <tr>\n",
       "      <th>1083</th>\n",
       "      <td>فيلا</td>\n",
       "      <td>امارة منطقة الرياض</td>\n",
       "      <td>الرياض</td>\n",
       "      <td>جنوبية</td>\n",
       "      <td>غير معروف</td>\n",
       "      <td>غير معروف</td>\n",
       "      <td>غير معروف</td>\n",
       "      <td>18.0</td>\n",
       "      <td>320.0</td>\n",
       "      <td>False</td>\n",
       "      <td>False</td>\n",
       "      <td>False</td>\n",
       "      <td>False</td>\n",
       "      <td>False</td>\n",
       "      <td>False</td>\n",
       "      <td>False</td>\n",
       "      <td>False</td>\n",
       "      <td>False</td>\n",
       "      <td>False</td>\n",
       "      <td>1550000</td>\n",
       "    </tr>\n",
       "    <tr>\n",
       "      <th>1084</th>\n",
       "      <td>فيلا</td>\n",
       "      <td>الرياض</td>\n",
       "      <td>النسيم الغربي</td>\n",
       "      <td>شرقية</td>\n",
       "      <td>4</td>\n",
       "      <td>1</td>\n",
       "      <td>3</td>\n",
       "      <td>18.0</td>\n",
       "      <td>450.0</td>\n",
       "      <td>False</td>\n",
       "      <td>False</td>\n",
       "      <td>False</td>\n",
       "      <td>False</td>\n",
       "      <td>False</td>\n",
       "      <td>True</td>\n",
       "      <td>False</td>\n",
       "      <td>False</td>\n",
       "      <td>True</td>\n",
       "      <td>False</td>\n",
       "      <td>1500000</td>\n",
       "    </tr>\n",
       "    <tr>\n",
       "      <th>1085</th>\n",
       "      <td>فيلا</td>\n",
       "      <td>الرياض</td>\n",
       "      <td>الاندلس</td>\n",
       "      <td>شرقية</td>\n",
       "      <td>5</td>\n",
       "      <td>1</td>\n",
       "      <td>5+</td>\n",
       "      <td>18.0</td>\n",
       "      <td>632.0</td>\n",
       "      <td>False</td>\n",
       "      <td>True</td>\n",
       "      <td>True</td>\n",
       "      <td>False</td>\n",
       "      <td>True</td>\n",
       "      <td>True</td>\n",
       "      <td>False</td>\n",
       "      <td>False</td>\n",
       "      <td>True</td>\n",
       "      <td>False</td>\n",
       "      <td>2400000</td>\n",
       "    </tr>\n",
       "    <tr>\n",
       "      <th>1086</th>\n",
       "      <td>فيلا</td>\n",
       "      <td>الرياض</td>\n",
       "      <td>القدس</td>\n",
       "      <td>جنوبية</td>\n",
       "      <td>5</td>\n",
       "      <td>2</td>\n",
       "      <td>5+</td>\n",
       "      <td>18.0</td>\n",
       "      <td>435.0</td>\n",
       "      <td>False</td>\n",
       "      <td>True</td>\n",
       "      <td>True</td>\n",
       "      <td>False</td>\n",
       "      <td>True</td>\n",
       "      <td>True</td>\n",
       "      <td>False</td>\n",
       "      <td>False</td>\n",
       "      <td>True</td>\n",
       "      <td>False</td>\n",
       "      <td>2500000</td>\n",
       "    </tr>\n",
       "  </tbody>\n",
       "</table>\n",
       "<p>1022 rows × 20 columns</p>\n",
       "</div>"
      ],
      "text/plain": [
       "     نوع العقار              المدينة           الحي       الواجهة  عدد الغرف  \\\n",
       "0          فيلا              الرياض          العارض        جنوبية          6   \n",
       "1          فيلا              الرياض          العارض        جنوبية          6   \n",
       "2          فيلا              الرياض          العارض        جنوبية          3   \n",
       "3          فيلا              الرياض          النرجس        جنوبية          4   \n",
       "4          فيلا              الرياض          العارض         غربية          4   \n",
       "...         ...                  ...            ...           ...        ...   \n",
       "1082       فيلا              الرياض        الازدهار  جنوبية شرقية         7+   \n",
       "1083       فيلا   امارة منطقة الرياض         الرياض        جنوبية  غير معروف   \n",
       "1084       فيلا              الرياض   النسيم الغربي         شرقية          4   \n",
       "1085       فيلا              الرياض         الاندلس         شرقية          5   \n",
       "1086       فيلا              الرياض           القدس        جنوبية          5   \n",
       "\n",
       "     عدد الصالات عدد الحمامات  عرض الشارع  المساحة  درج صالة   مطبخ  \\\n",
       "0              3           5+        18.0    244.0      True   True   \n",
       "1              4           5+        18.0    322.0      True   True   \n",
       "2              2           5+        18.0    350.0      True  False   \n",
       "3              4            4        18.0    350.0      True   True   \n",
       "4              1           5+        18.0    270.0      True   True   \n",
       "...          ...          ...         ...      ...       ...    ...   \n",
       "1082           5           5+        18.0    720.0      True   True   \n",
       "1083   غير معروف    غير معروف        18.0    320.0     False  False   \n",
       "1084           1            3        18.0    450.0     False  False   \n",
       "1085           1           5+        18.0    632.0     False   True   \n",
       "1086           2           5+        18.0    435.0     False   True   \n",
       "\n",
       "      غرفة خادمة  غرفة سائق   ملحق    حوش   مسبح    قبو  مدخل سيارة   مصعد  \\\n",
       "0           True       True  False   True  False  False        True   True   \n",
       "1           True       True   True   True  False  False        True   True   \n",
       "2           True      False   True  False  False   True        True   True   \n",
       "3           True      False  False   True  False   True        True   True   \n",
       "4           True       True  False  False  False  False        True  False   \n",
       "...          ...        ...    ...    ...    ...    ...         ...    ...   \n",
       "1082        True       True   True   True  False   True        True  False   \n",
       "1083       False      False  False  False  False  False       False  False   \n",
       "1084       False      False  False   True  False  False        True  False   \n",
       "1085        True      False   True   True  False  False        True  False   \n",
       "1086        True      False   True   True  False  False        True  False   \n",
       "\n",
       "      السعر الاجمالي  \n",
       "0            2300000  \n",
       "1            3000000  \n",
       "2            2600000  \n",
       "3            2600000  \n",
       "4            2800000  \n",
       "...              ...  \n",
       "1082         3900000  \n",
       "1083         1550000  \n",
       "1084         1500000  \n",
       "1085         2400000  \n",
       "1086         2500000  \n",
       "\n",
       "[1022 rows x 20 columns]"
      ]
     },
     "execution_count": 73,
     "metadata": {},
     "output_type": "execute_result"
    }
   ],
   "source": [
    "Riyadh_Aqqar_Villas[Riyadh_Aqqar_Villas['السعر الاجمالي'].duplicated(keep=False)]"
   ]
  },
  {
   "cell_type": "markdown",
   "id": "78b7d8c4",
   "metadata": {},
   "source": [
    "# Riyadh_Aqqar_Apartments dataset"
   ]
  },
  {
   "cell_type": "code",
   "execution_count": 74,
   "id": "b8cd5c62",
   "metadata": {},
   "outputs": [
    {
     "data": {
      "text/html": [
       "<div>\n",
       "<style scoped>\n",
       "    .dataframe tbody tr th:only-of-type {\n",
       "        vertical-align: middle;\n",
       "    }\n",
       "\n",
       "    .dataframe tbody tr th {\n",
       "        vertical-align: top;\n",
       "    }\n",
       "\n",
       "    .dataframe thead th {\n",
       "        text-align: right;\n",
       "    }\n",
       "</style>\n",
       "<table border=\"1\" class=\"dataframe\">\n",
       "  <thead>\n",
       "    <tr style=\"text-align: right;\">\n",
       "      <th></th>\n",
       "      <th>نوع العقار</th>\n",
       "      <th>المدينة</th>\n",
       "      <th>الحي</th>\n",
       "      <th>الواجهة</th>\n",
       "      <th>عدد الغرف</th>\n",
       "      <th>عدد الصالات</th>\n",
       "      <th>عدد الحمامات</th>\n",
       "      <th>المساحة</th>\n",
       "      <th>مطبخ</th>\n",
       "      <th>مدخل سيارة</th>\n",
       "      <th>مصعد</th>\n",
       "      <th>الدور</th>\n",
       "      <th>عمر العقار</th>\n",
       "      <th>مؤثثة</th>\n",
       "      <th>السعر الاجمالي</th>\n",
       "    </tr>\n",
       "  </thead>\n",
       "  <tbody>\n",
       "    <tr>\n",
       "      <th>0</th>\n",
       "      <td>شقة</td>\n",
       "      <td>الرياض</td>\n",
       "      <td>حي المروج</td>\n",
       "      <td>جنوبية</td>\n",
       "      <td>4</td>\n",
       "      <td>1.0</td>\n",
       "      <td>3</td>\n",
       "      <td>249</td>\n",
       "      <td>1</td>\n",
       "      <td>0</td>\n",
       "      <td>1</td>\n",
       "      <td>3</td>\n",
       "      <td>0.0</td>\n",
       "      <td>0</td>\n",
       "      <td>1434000</td>\n",
       "    </tr>\n",
       "    <tr>\n",
       "      <th>1</th>\n",
       "      <td>شقة</td>\n",
       "      <td>الرياض</td>\n",
       "      <td>حي العارض</td>\n",
       "      <td>شمالية غربية</td>\n",
       "      <td>3</td>\n",
       "      <td>1.0</td>\n",
       "      <td>3</td>\n",
       "      <td>199</td>\n",
       "      <td>0</td>\n",
       "      <td>0</td>\n",
       "      <td>1</td>\n",
       "      <td>علوي</td>\n",
       "      <td>0.0</td>\n",
       "      <td>0</td>\n",
       "      <td>980000</td>\n",
       "    </tr>\n",
       "    <tr>\n",
       "      <th>4</th>\n",
       "      <td>شقة</td>\n",
       "      <td>الرياض</td>\n",
       "      <td>حي الياسمين</td>\n",
       "      <td>شرقية</td>\n",
       "      <td>4</td>\n",
       "      <td>1.0</td>\n",
       "      <td>3</td>\n",
       "      <td>147</td>\n",
       "      <td>1</td>\n",
       "      <td>0</td>\n",
       "      <td>1</td>\n",
       "      <td>علوي</td>\n",
       "      <td>2.0</td>\n",
       "      <td>1</td>\n",
       "      <td>1200000</td>\n",
       "    </tr>\n",
       "    <tr>\n",
       "      <th>7</th>\n",
       "      <td>شقة</td>\n",
       "      <td>الرياض</td>\n",
       "      <td>حي النرجس</td>\n",
       "      <td>شرقية</td>\n",
       "      <td>2</td>\n",
       "      <td>1.0</td>\n",
       "      <td>3</td>\n",
       "      <td>100</td>\n",
       "      <td>1</td>\n",
       "      <td>0</td>\n",
       "      <td>1</td>\n",
       "      <td>3</td>\n",
       "      <td>0.0</td>\n",
       "      <td>0</td>\n",
       "      <td>1200000</td>\n",
       "    </tr>\n",
       "    <tr>\n",
       "      <th>9</th>\n",
       "      <td>شقة</td>\n",
       "      <td>الرياض</td>\n",
       "      <td>حي العقيق</td>\n",
       "      <td>NaN</td>\n",
       "      <td>3</td>\n",
       "      <td>1.0</td>\n",
       "      <td>3</td>\n",
       "      <td>115</td>\n",
       "      <td>0</td>\n",
       "      <td>1</td>\n",
       "      <td>1</td>\n",
       "      <td>NaN</td>\n",
       "      <td>11.0</td>\n",
       "      <td>0</td>\n",
       "      <td>1100000</td>\n",
       "    </tr>\n",
       "    <tr>\n",
       "      <th>...</th>\n",
       "      <td>...</td>\n",
       "      <td>...</td>\n",
       "      <td>...</td>\n",
       "      <td>...</td>\n",
       "      <td>...</td>\n",
       "      <td>...</td>\n",
       "      <td>...</td>\n",
       "      <td>...</td>\n",
       "      <td>...</td>\n",
       "      <td>...</td>\n",
       "      <td>...</td>\n",
       "      <td>...</td>\n",
       "      <td>...</td>\n",
       "      <td>...</td>\n",
       "      <td>...</td>\n",
       "    </tr>\n",
       "    <tr>\n",
       "      <th>523</th>\n",
       "      <td>شقة</td>\n",
       "      <td>الرياض</td>\n",
       "      <td>حي العارض</td>\n",
       "      <td>جنوبية</td>\n",
       "      <td>3</td>\n",
       "      <td>2.0</td>\n",
       "      <td>3</td>\n",
       "      <td>147</td>\n",
       "      <td>1</td>\n",
       "      <td>1</td>\n",
       "      <td>1</td>\n",
       "      <td>NaN</td>\n",
       "      <td>0.0</td>\n",
       "      <td>0</td>\n",
       "      <td>959000</td>\n",
       "    </tr>\n",
       "    <tr>\n",
       "      <th>525</th>\n",
       "      <td>شقة</td>\n",
       "      <td>الرياض</td>\n",
       "      <td>حي النرجس</td>\n",
       "      <td>شرقية</td>\n",
       "      <td>3</td>\n",
       "      <td>1.0</td>\n",
       "      <td>4</td>\n",
       "      <td>178</td>\n",
       "      <td>1</td>\n",
       "      <td>0</td>\n",
       "      <td>1</td>\n",
       "      <td>أرضي</td>\n",
       "      <td>0.0</td>\n",
       "      <td>0</td>\n",
       "      <td>900000</td>\n",
       "    </tr>\n",
       "    <tr>\n",
       "      <th>527</th>\n",
       "      <td>شقة</td>\n",
       "      <td>منطقة الرياض</td>\n",
       "      <td>الرياض</td>\n",
       "      <td>شمالية</td>\n",
       "      <td>3</td>\n",
       "      <td>1.0</td>\n",
       "      <td>2</td>\n",
       "      <td>104</td>\n",
       "      <td>0</td>\n",
       "      <td>1</td>\n",
       "      <td>1</td>\n",
       "      <td>3</td>\n",
       "      <td>1.0</td>\n",
       "      <td>0</td>\n",
       "      <td>715000</td>\n",
       "    </tr>\n",
       "    <tr>\n",
       "      <th>528</th>\n",
       "      <td>شقة</td>\n",
       "      <td>الرياض</td>\n",
       "      <td>حي الربيع</td>\n",
       "      <td>جنوبية</td>\n",
       "      <td>3</td>\n",
       "      <td>1.0</td>\n",
       "      <td>3</td>\n",
       "      <td>114</td>\n",
       "      <td>1</td>\n",
       "      <td>0</td>\n",
       "      <td>1</td>\n",
       "      <td>أرضي</td>\n",
       "      <td>0.0</td>\n",
       "      <td>0</td>\n",
       "      <td>1000000</td>\n",
       "    </tr>\n",
       "    <tr>\n",
       "      <th>529</th>\n",
       "      <td>شقة</td>\n",
       "      <td>الرياض</td>\n",
       "      <td>حي النرجس</td>\n",
       "      <td>NaN</td>\n",
       "      <td>2</td>\n",
       "      <td>2.0</td>\n",
       "      <td>3</td>\n",
       "      <td>164</td>\n",
       "      <td>1</td>\n",
       "      <td>0</td>\n",
       "      <td>1</td>\n",
       "      <td>علوي</td>\n",
       "      <td>0.0</td>\n",
       "      <td>0</td>\n",
       "      <td>1200000</td>\n",
       "    </tr>\n",
       "  </tbody>\n",
       "</table>\n",
       "<p>261 rows × 15 columns</p>\n",
       "</div>"
      ],
      "text/plain": [
       "    نوع العقار        المدينة           الحي       الواجهة  عدد الغرف  \\\n",
       "0          شقة        الرياض      حي المروج         جنوبية          4   \n",
       "1          شقة        الرياض      حي العارض   شمالية غربية          3   \n",
       "4          شقة        الرياض    حي الياسمين          شرقية          4   \n",
       "7          شقة        الرياض      حي النرجس          شرقية          2   \n",
       "9          شقة        الرياض      حي العقيق            NaN          3   \n",
       "..         ...            ...            ...           ...        ...   \n",
       "523        شقة        الرياض      حي العارض         جنوبية          3   \n",
       "525        شقة        الرياض      حي النرجس          شرقية          3   \n",
       "527        شقة   منطقة الرياض        الرياض         شمالية          3   \n",
       "528        شقة        الرياض      حي الربيع         جنوبية          3   \n",
       "529        شقة        الرياض      حي النرجس            NaN          2   \n",
       "\n",
       "     عدد الصالات عدد الحمامات  المساحة  مطبخ  مدخل سيارة  مصعد الدور  \\\n",
       "0            1.0            3      249     1           0     1     3   \n",
       "1            1.0            3      199     0           0     1  علوي   \n",
       "4            1.0            3      147     1           0     1  علوي   \n",
       "7            1.0            3      100     1           0     1     3   \n",
       "9            1.0            3      115     0           1     1   NaN   \n",
       "..           ...          ...      ...   ...         ...   ...   ...   \n",
       "523          2.0            3      147     1           1     1   NaN   \n",
       "525          1.0            4      178     1           0     1  أرضي   \n",
       "527          1.0            2      104     0           1     1     3   \n",
       "528          1.0            3      114     1           0     1  أرضي   \n",
       "529          2.0            3      164     1           0     1  علوي   \n",
       "\n",
       "     عمر العقار  مؤثثة  السعر الاجمالي  \n",
       "0           0.0      0         1434000  \n",
       "1           0.0      0          980000  \n",
       "4           2.0      1         1200000  \n",
       "7           0.0      0         1200000  \n",
       "9          11.0      0         1100000  \n",
       "..          ...    ...             ...  \n",
       "523         0.0      0          959000  \n",
       "525         0.0      0          900000  \n",
       "527         1.0      0          715000  \n",
       "528         0.0      0         1000000  \n",
       "529         0.0      0         1200000  \n",
       "\n",
       "[261 rows x 15 columns]"
      ]
     },
     "execution_count": 74,
     "metadata": {},
     "output_type": "execute_result"
    }
   ],
   "source": [
    "Riyadh_Aqqar_Apartments[Riyadh_Aqqar_Apartments.duplicated(keep=False)]"
   ]
  },
  {
   "cell_type": "code",
   "execution_count": 75,
   "id": "ea51fe99",
   "metadata": {},
   "outputs": [
    {
     "data": {
      "text/html": [
       "<div>\n",
       "<style scoped>\n",
       "    .dataframe tbody tr th:only-of-type {\n",
       "        vertical-align: middle;\n",
       "    }\n",
       "\n",
       "    .dataframe tbody tr th {\n",
       "        vertical-align: top;\n",
       "    }\n",
       "\n",
       "    .dataframe thead th {\n",
       "        text-align: right;\n",
       "    }\n",
       "</style>\n",
       "<table border=\"1\" class=\"dataframe\">\n",
       "  <thead>\n",
       "    <tr style=\"text-align: right;\">\n",
       "      <th></th>\n",
       "      <th>نوع العقار</th>\n",
       "      <th>المدينة</th>\n",
       "      <th>الحي</th>\n",
       "      <th>الواجهة</th>\n",
       "      <th>عدد الغرف</th>\n",
       "      <th>عدد الصالات</th>\n",
       "      <th>عدد الحمامات</th>\n",
       "      <th>المساحة</th>\n",
       "      <th>مطبخ</th>\n",
       "      <th>مدخل سيارة</th>\n",
       "      <th>مصعد</th>\n",
       "      <th>الدور</th>\n",
       "      <th>عمر العقار</th>\n",
       "      <th>مؤثثة</th>\n",
       "      <th>السعر الاجمالي</th>\n",
       "    </tr>\n",
       "  </thead>\n",
       "  <tbody>\n",
       "    <tr>\n",
       "      <th>0</th>\n",
       "      <td>شقة</td>\n",
       "      <td>الرياض</td>\n",
       "      <td>حي المروج</td>\n",
       "      <td>جنوبية</td>\n",
       "      <td>4</td>\n",
       "      <td>1.0</td>\n",
       "      <td>3</td>\n",
       "      <td>249</td>\n",
       "      <td>1</td>\n",
       "      <td>0</td>\n",
       "      <td>1</td>\n",
       "      <td>3</td>\n",
       "      <td>0.0</td>\n",
       "      <td>0</td>\n",
       "      <td>1434000</td>\n",
       "    </tr>\n",
       "    <tr>\n",
       "      <th>1</th>\n",
       "      <td>شقة</td>\n",
       "      <td>الرياض</td>\n",
       "      <td>حي العارض</td>\n",
       "      <td>شمالية غربية</td>\n",
       "      <td>3</td>\n",
       "      <td>1.0</td>\n",
       "      <td>3</td>\n",
       "      <td>199</td>\n",
       "      <td>0</td>\n",
       "      <td>0</td>\n",
       "      <td>1</td>\n",
       "      <td>علوي</td>\n",
       "      <td>0.0</td>\n",
       "      <td>0</td>\n",
       "      <td>980000</td>\n",
       "    </tr>\n",
       "    <tr>\n",
       "      <th>2</th>\n",
       "      <td>شقة</td>\n",
       "      <td>الرياض</td>\n",
       "      <td>حي النرجس</td>\n",
       "      <td>NaN</td>\n",
       "      <td>3</td>\n",
       "      <td>1.0</td>\n",
       "      <td>3</td>\n",
       "      <td>145</td>\n",
       "      <td>1</td>\n",
       "      <td>0</td>\n",
       "      <td>1</td>\n",
       "      <td>أرضي</td>\n",
       "      <td>2.0</td>\n",
       "      <td>0</td>\n",
       "      <td>1050000</td>\n",
       "    </tr>\n",
       "    <tr>\n",
       "      <th>3</th>\n",
       "      <td>شقة</td>\n",
       "      <td>الرياض</td>\n",
       "      <td>حي النرجس</td>\n",
       "      <td>شمالية</td>\n",
       "      <td>3</td>\n",
       "      <td>1.0</td>\n",
       "      <td>3</td>\n",
       "      <td>101</td>\n",
       "      <td>1</td>\n",
       "      <td>0</td>\n",
       "      <td>0</td>\n",
       "      <td>أرضي</td>\n",
       "      <td>0.0</td>\n",
       "      <td>1</td>\n",
       "      <td>1200000</td>\n",
       "    </tr>\n",
       "    <tr>\n",
       "      <th>4</th>\n",
       "      <td>شقة</td>\n",
       "      <td>الرياض</td>\n",
       "      <td>حي الياسمين</td>\n",
       "      <td>شرقية</td>\n",
       "      <td>4</td>\n",
       "      <td>1.0</td>\n",
       "      <td>3</td>\n",
       "      <td>147</td>\n",
       "      <td>1</td>\n",
       "      <td>0</td>\n",
       "      <td>1</td>\n",
       "      <td>علوي</td>\n",
       "      <td>2.0</td>\n",
       "      <td>1</td>\n",
       "      <td>1200000</td>\n",
       "    </tr>\n",
       "    <tr>\n",
       "      <th>...</th>\n",
       "      <td>...</td>\n",
       "      <td>...</td>\n",
       "      <td>...</td>\n",
       "      <td>...</td>\n",
       "      <td>...</td>\n",
       "      <td>...</td>\n",
       "      <td>...</td>\n",
       "      <td>...</td>\n",
       "      <td>...</td>\n",
       "      <td>...</td>\n",
       "      <td>...</td>\n",
       "      <td>...</td>\n",
       "      <td>...</td>\n",
       "      <td>...</td>\n",
       "      <td>...</td>\n",
       "    </tr>\n",
       "    <tr>\n",
       "      <th>544</th>\n",
       "      <td>شقة</td>\n",
       "      <td>الرياض</td>\n",
       "      <td>حي الملقا</td>\n",
       "      <td>شمالية</td>\n",
       "      <td>3</td>\n",
       "      <td>1.0</td>\n",
       "      <td>2</td>\n",
       "      <td>139</td>\n",
       "      <td>1</td>\n",
       "      <td>0</td>\n",
       "      <td>1</td>\n",
       "      <td>علوي</td>\n",
       "      <td>8.0</td>\n",
       "      <td>1</td>\n",
       "      <td>850000</td>\n",
       "    </tr>\n",
       "    <tr>\n",
       "      <th>545</th>\n",
       "      <td>شقة</td>\n",
       "      <td>الرياض</td>\n",
       "      <td>حي النرجس</td>\n",
       "      <td>غربية</td>\n",
       "      <td>2</td>\n",
       "      <td>1.0</td>\n",
       "      <td>3</td>\n",
       "      <td>100</td>\n",
       "      <td>1</td>\n",
       "      <td>0</td>\n",
       "      <td>1</td>\n",
       "      <td>3</td>\n",
       "      <td>0.0</td>\n",
       "      <td>1</td>\n",
       "      <td>1150000</td>\n",
       "    </tr>\n",
       "    <tr>\n",
       "      <th>546</th>\n",
       "      <td>شقة</td>\n",
       "      <td>الرياض</td>\n",
       "      <td>حي الصحافة</td>\n",
       "      <td>NaN</td>\n",
       "      <td>3</td>\n",
       "      <td>1.0</td>\n",
       "      <td>3</td>\n",
       "      <td>201</td>\n",
       "      <td>1</td>\n",
       "      <td>0</td>\n",
       "      <td>1</td>\n",
       "      <td>علوي</td>\n",
       "      <td>9.0</td>\n",
       "      <td>0</td>\n",
       "      <td>1100000</td>\n",
       "    </tr>\n",
       "    <tr>\n",
       "      <th>547</th>\n",
       "      <td>شقة</td>\n",
       "      <td>الرياض</td>\n",
       "      <td>حي المروج</td>\n",
       "      <td>NaN</td>\n",
       "      <td>3</td>\n",
       "      <td>1.0</td>\n",
       "      <td>3</td>\n",
       "      <td>127</td>\n",
       "      <td>1</td>\n",
       "      <td>0</td>\n",
       "      <td>1</td>\n",
       "      <td>3</td>\n",
       "      <td>0.0</td>\n",
       "      <td>1</td>\n",
       "      <td>1600000</td>\n",
       "    </tr>\n",
       "    <tr>\n",
       "      <th>550</th>\n",
       "      <td>شقة</td>\n",
       "      <td>الرياض</td>\n",
       "      <td>حي الملقا</td>\n",
       "      <td>شمالية</td>\n",
       "      <td>4</td>\n",
       "      <td>1.0</td>\n",
       "      <td>3</td>\n",
       "      <td>104</td>\n",
       "      <td>1</td>\n",
       "      <td>0</td>\n",
       "      <td>0</td>\n",
       "      <td>أرضي</td>\n",
       "      <td>0.0</td>\n",
       "      <td>0</td>\n",
       "      <td>1100000</td>\n",
       "    </tr>\n",
       "  </tbody>\n",
       "</table>\n",
       "<p>501 rows × 15 columns</p>\n",
       "</div>"
      ],
      "text/plain": [
       "    نوع العقار   المدينة           الحي       الواجهة  عدد الغرف  عدد الصالات  \\\n",
       "0          شقة   الرياض      حي المروج         جنوبية          4          1.0   \n",
       "1          شقة   الرياض      حي العارض   شمالية غربية          3          1.0   \n",
       "2          شقة   الرياض      حي النرجس            NaN          3          1.0   \n",
       "3          شقة   الرياض      حي النرجس         شمالية          3          1.0   \n",
       "4          شقة   الرياض    حي الياسمين          شرقية          4          1.0   \n",
       "..         ...       ...            ...           ...        ...          ...   \n",
       "544        شقة   الرياض      حي الملقا         شمالية          3          1.0   \n",
       "545        شقة   الرياض      حي النرجس          غربية          2          1.0   \n",
       "546        شقة   الرياض     حي الصحافة            NaN          3          1.0   \n",
       "547        شقة   الرياض      حي المروج            NaN          3          1.0   \n",
       "550        شقة   الرياض      حي الملقا         شمالية          4          1.0   \n",
       "\n",
       "    عدد الحمامات  المساحة  مطبخ  مدخل سيارة  مصعد الدور  عمر العقار  مؤثثة  \\\n",
       "0              3      249     1           0     1     3         0.0      0   \n",
       "1              3      199     0           0     1  علوي         0.0      0   \n",
       "2              3      145     1           0     1  أرضي         2.0      0   \n",
       "3              3      101     1           0     0  أرضي         0.0      1   \n",
       "4              3      147     1           0     1  علوي         2.0      1   \n",
       "..           ...      ...   ...         ...   ...   ...         ...    ...   \n",
       "544            2      139     1           0     1  علوي         8.0      1   \n",
       "545            3      100     1           0     1     3         0.0      1   \n",
       "546            3      201     1           0     1  علوي         9.0      0   \n",
       "547            3      127     1           0     1     3         0.0      1   \n",
       "550            3      104     1           0     0  أرضي         0.0      0   \n",
       "\n",
       "     السعر الاجمالي  \n",
       "0           1434000  \n",
       "1            980000  \n",
       "2           1050000  \n",
       "3           1200000  \n",
       "4           1200000  \n",
       "..              ...  \n",
       "544          850000  \n",
       "545         1150000  \n",
       "546         1100000  \n",
       "547         1600000  \n",
       "550         1100000  \n",
       "\n",
       "[501 rows x 15 columns]"
      ]
     },
     "execution_count": 75,
     "metadata": {},
     "output_type": "execute_result"
    }
   ],
   "source": [
    "Riyadh_Aqqar_Apartments[Riyadh_Aqqar_Apartments['السعر الاجمالي'].duplicated(keep=False)]"
   ]
  },
  {
   "cell_type": "code",
   "execution_count": 76,
   "id": "fd74c211",
   "metadata": {},
   "outputs": [
    {
     "data": {
      "text/html": [
       "<div>\n",
       "<style scoped>\n",
       "    .dataframe tbody tr th:only-of-type {\n",
       "        vertical-align: middle;\n",
       "    }\n",
       "\n",
       "    .dataframe tbody tr th {\n",
       "        vertical-align: top;\n",
       "    }\n",
       "\n",
       "    .dataframe thead th {\n",
       "        text-align: right;\n",
       "    }\n",
       "</style>\n",
       "<table border=\"1\" class=\"dataframe\">\n",
       "  <thead>\n",
       "    <tr style=\"text-align: right;\">\n",
       "      <th></th>\n",
       "      <th>نوع العقار</th>\n",
       "      <th>المدينة</th>\n",
       "      <th>الحي</th>\n",
       "      <th>الواجهة</th>\n",
       "      <th>عدد الغرف</th>\n",
       "      <th>عدد الصالات</th>\n",
       "      <th>عدد الحمامات</th>\n",
       "      <th>المساحة</th>\n",
       "      <th>مطبخ</th>\n",
       "      <th>مدخل سيارة</th>\n",
       "      <th>مصعد</th>\n",
       "      <th>الدور</th>\n",
       "      <th>عمر العقار</th>\n",
       "      <th>مؤثثة</th>\n",
       "      <th>السعر الاجمالي</th>\n",
       "    </tr>\n",
       "  </thead>\n",
       "  <tbody>\n",
       "    <tr>\n",
       "      <th>193</th>\n",
       "      <td>شقة</td>\n",
       "      <td>الرياض</td>\n",
       "      <td>حي العقيق</td>\n",
       "      <td>شمالية غربية</td>\n",
       "      <td>3</td>\n",
       "      <td>1.0</td>\n",
       "      <td>3</td>\n",
       "      <td>162</td>\n",
       "      <td>1</td>\n",
       "      <td>1</td>\n",
       "      <td>1</td>\n",
       "      <td>3</td>\n",
       "      <td>0.0</td>\n",
       "      <td>0</td>\n",
       "      <td>700000</td>\n",
       "    </tr>\n",
       "    <tr>\n",
       "      <th>260</th>\n",
       "      <td>شقة</td>\n",
       "      <td>الرياض</td>\n",
       "      <td>حي العقيق</td>\n",
       "      <td>شمالية غربية</td>\n",
       "      <td>3</td>\n",
       "      <td>1.0</td>\n",
       "      <td>3</td>\n",
       "      <td>162</td>\n",
       "      <td>1</td>\n",
       "      <td>1</td>\n",
       "      <td>1</td>\n",
       "      <td>3</td>\n",
       "      <td>0.0</td>\n",
       "      <td>0</td>\n",
       "      <td>700000</td>\n",
       "    </tr>\n",
       "    <tr>\n",
       "      <th>374</th>\n",
       "      <td>شقة</td>\n",
       "      <td>الرياض</td>\n",
       "      <td>حي العقيق</td>\n",
       "      <td>شمالية غربية</td>\n",
       "      <td>3</td>\n",
       "      <td>1.0</td>\n",
       "      <td>3</td>\n",
       "      <td>162</td>\n",
       "      <td>1</td>\n",
       "      <td>1</td>\n",
       "      <td>1</td>\n",
       "      <td>3</td>\n",
       "      <td>0.0</td>\n",
       "      <td>0</td>\n",
       "      <td>700000</td>\n",
       "    </tr>\n",
       "    <tr>\n",
       "      <th>488</th>\n",
       "      <td>شقة</td>\n",
       "      <td>الرياض</td>\n",
       "      <td>حي العقيق</td>\n",
       "      <td>NaN</td>\n",
       "      <td>3</td>\n",
       "      <td>2.0</td>\n",
       "      <td>3</td>\n",
       "      <td>123</td>\n",
       "      <td>1</td>\n",
       "      <td>0</td>\n",
       "      <td>1</td>\n",
       "      <td>أرضي</td>\n",
       "      <td>11.0</td>\n",
       "      <td>0</td>\n",
       "      <td>700000</td>\n",
       "    </tr>\n",
       "  </tbody>\n",
       "</table>\n",
       "</div>"
      ],
      "text/plain": [
       "    نوع العقار   المدينة         الحي       الواجهة  عدد الغرف  عدد الصالات  \\\n",
       "193        شقة   الرياض    حي العقيق   شمالية غربية          3          1.0   \n",
       "260        شقة   الرياض    حي العقيق   شمالية غربية          3          1.0   \n",
       "374        شقة   الرياض    حي العقيق   شمالية غربية          3          1.0   \n",
       "488        شقة   الرياض    حي العقيق            NaN          3          2.0   \n",
       "\n",
       "    عدد الحمامات  المساحة  مطبخ  مدخل سيارة  مصعد الدور  عمر العقار  مؤثثة  \\\n",
       "193            3      162     1           1     1     3         0.0      0   \n",
       "260            3      162     1           1     1     3         0.0      0   \n",
       "374            3      162     1           1     1     3         0.0      0   \n",
       "488            3      123     1           0     1  أرضي        11.0      0   \n",
       "\n",
       "     السعر الاجمالي  \n",
       "193          700000  \n",
       "260          700000  \n",
       "374          700000  \n",
       "488          700000  "
      ]
     },
     "execution_count": 76,
     "metadata": {},
     "output_type": "execute_result"
    }
   ],
   "source": [
    "Riyadh_Aqqar_Apartments[Riyadh_Aqqar_Apartments['السعر الاجمالي']== 700000]"
   ]
  },
  {
   "cell_type": "markdown",
   "id": "1acce27b",
   "metadata": {},
   "source": [
    "# Riyadh_VillasAqar dataset"
   ]
  },
  {
   "cell_type": "code",
   "execution_count": 77,
   "id": "203f4318",
   "metadata": {},
   "outputs": [
    {
     "data": {
      "text/html": [
       "<div>\n",
       "<style scoped>\n",
       "    .dataframe tbody tr th:only-of-type {\n",
       "        vertical-align: middle;\n",
       "    }\n",
       "\n",
       "    .dataframe tbody tr th {\n",
       "        vertical-align: top;\n",
       "    }\n",
       "\n",
       "    .dataframe thead th {\n",
       "        text-align: right;\n",
       "    }\n",
       "</style>\n",
       "<table border=\"1\" class=\"dataframe\">\n",
       "  <thead>\n",
       "    <tr style=\"text-align: right;\">\n",
       "      <th></th>\n",
       "      <th>Unnamed: 0</th>\n",
       "      <th>front</th>\n",
       "      <th>rooms</th>\n",
       "      <th>lounges</th>\n",
       "      <th>bathrooms</th>\n",
       "      <th>streetWidth</th>\n",
       "      <th>stairs</th>\n",
       "      <th>propertyAge</th>\n",
       "      <th>driverRoom</th>\n",
       "      <th>tent</th>\n",
       "      <th>patio</th>\n",
       "      <th>kitchen</th>\n",
       "      <th>outdoorRoom</th>\n",
       "      <th>garage</th>\n",
       "      <th>duplex</th>\n",
       "      <th>space</th>\n",
       "      <th>apartments</th>\n",
       "      <th>maidRoom</th>\n",
       "      <th>elevator</th>\n",
       "      <th>furnihsed</th>\n",
       "      <th>pool</th>\n",
       "      <th>basement</th>\n",
       "      <th>neighbourhood</th>\n",
       "      <th>location</th>\n",
       "      <th>price</th>\n",
       "      <th>square price</th>\n",
       "    </tr>\n",
       "  </thead>\n",
       "  <tbody>\n",
       "  </tbody>\n",
       "</table>\n",
       "</div>"
      ],
      "text/plain": [
       "Empty DataFrame\n",
       "Columns: [Unnamed: 0, front, rooms, lounges, bathrooms, streetWidth, stairs, propertyAge, driverRoom, tent, patio, kitchen, outdoorRoom, garage, duplex, space, apartments, maidRoom, elevator, furnihsed, pool, basement, neighbourhood, location, price, square price]\n",
       "Index: []"
      ]
     },
     "execution_count": 77,
     "metadata": {},
     "output_type": "execute_result"
    }
   ],
   "source": [
    "Riyadh_VillasAqar[Riyadh_VillasAqar.duplicated(keep=False)]"
   ]
  },
  {
   "cell_type": "code",
   "execution_count": 78,
   "id": "681d7610",
   "metadata": {},
   "outputs": [
    {
     "data": {
      "text/plain": [
       "(46826, 26)"
      ]
     },
     "execution_count": 78,
     "metadata": {},
     "output_type": "execute_result"
    }
   ],
   "source": [
    "Riyadh_VillasAqar.shape"
   ]
  },
  {
   "cell_type": "code",
   "execution_count": 79,
   "id": "a47bd3aa",
   "metadata": {},
   "outputs": [
    {
     "data": {
      "text/html": [
       "<div>\n",
       "<style scoped>\n",
       "    .dataframe tbody tr th:only-of-type {\n",
       "        vertical-align: middle;\n",
       "    }\n",
       "\n",
       "    .dataframe tbody tr th {\n",
       "        vertical-align: top;\n",
       "    }\n",
       "\n",
       "    .dataframe thead th {\n",
       "        text-align: right;\n",
       "    }\n",
       "</style>\n",
       "<table border=\"1\" class=\"dataframe\">\n",
       "  <thead>\n",
       "    <tr style=\"text-align: right;\">\n",
       "      <th></th>\n",
       "      <th>Unnamed: 0</th>\n",
       "      <th>front</th>\n",
       "      <th>rooms</th>\n",
       "      <th>lounges</th>\n",
       "      <th>bathrooms</th>\n",
       "      <th>streetWidth</th>\n",
       "      <th>stairs</th>\n",
       "      <th>propertyAge</th>\n",
       "      <th>driverRoom</th>\n",
       "      <th>tent</th>\n",
       "      <th>patio</th>\n",
       "      <th>kitchen</th>\n",
       "      <th>outdoorRoom</th>\n",
       "      <th>garage</th>\n",
       "      <th>duplex</th>\n",
       "      <th>space</th>\n",
       "      <th>apartments</th>\n",
       "      <th>maidRoom</th>\n",
       "      <th>elevator</th>\n",
       "      <th>furnihsed</th>\n",
       "      <th>pool</th>\n",
       "      <th>basement</th>\n",
       "      <th>neighbourhood</th>\n",
       "      <th>location</th>\n",
       "      <th>price</th>\n",
       "      <th>square price</th>\n",
       "    </tr>\n",
       "  </thead>\n",
       "  <tbody>\n",
       "    <tr>\n",
       "      <th>11</th>\n",
       "      <td>11</td>\n",
       "      <td>جنوبية</td>\n",
       "      <td>5</td>\n",
       "      <td>4</td>\n",
       "      <td>5+</td>\n",
       "      <td>21.0</td>\n",
       "      <td>1</td>\n",
       "      <td>0</td>\n",
       "      <td>0</td>\n",
       "      <td>1</td>\n",
       "      <td>1</td>\n",
       "      <td>1</td>\n",
       "      <td>1</td>\n",
       "      <td>1</td>\n",
       "      <td>1</td>\n",
       "      <td>300</td>\n",
       "      <td>0</td>\n",
       "      <td>0</td>\n",
       "      <td>0</td>\n",
       "      <td>0</td>\n",
       "      <td>0</td>\n",
       "      <td>0</td>\n",
       "      <td>بدر</td>\n",
       "      <td>جنوب الرياض</td>\n",
       "      <td>1050000.0</td>\n",
       "      <td>3500.000000</td>\n",
       "    </tr>\n",
       "    <tr>\n",
       "      <th>15</th>\n",
       "      <td>16</td>\n",
       "      <td>شمالية</td>\n",
       "      <td>5</td>\n",
       "      <td>2</td>\n",
       "      <td>5+</td>\n",
       "      <td>15.0</td>\n",
       "      <td>1</td>\n",
       "      <td>0</td>\n",
       "      <td>0</td>\n",
       "      <td>0</td>\n",
       "      <td>1</td>\n",
       "      <td>1</td>\n",
       "      <td>1</td>\n",
       "      <td>1</td>\n",
       "      <td>0</td>\n",
       "      <td>300</td>\n",
       "      <td>0</td>\n",
       "      <td>1</td>\n",
       "      <td>0</td>\n",
       "      <td>0</td>\n",
       "      <td>0</td>\n",
       "      <td>0</td>\n",
       "      <td>عكاظ</td>\n",
       "      <td>جنوب الرياض</td>\n",
       "      <td>1050000.0</td>\n",
       "      <td>3500.000000</td>\n",
       "    </tr>\n",
       "    <tr>\n",
       "      <th>16</th>\n",
       "      <td>17</td>\n",
       "      <td>شرقية</td>\n",
       "      <td>5</td>\n",
       "      <td>5</td>\n",
       "      <td>5+</td>\n",
       "      <td>20.0</td>\n",
       "      <td>1</td>\n",
       "      <td>0</td>\n",
       "      <td>0</td>\n",
       "      <td>0</td>\n",
       "      <td>1</td>\n",
       "      <td>1</td>\n",
       "      <td>1</td>\n",
       "      <td>1</td>\n",
       "      <td>1</td>\n",
       "      <td>300</td>\n",
       "      <td>0</td>\n",
       "      <td>1</td>\n",
       "      <td>0</td>\n",
       "      <td>0</td>\n",
       "      <td>0</td>\n",
       "      <td>0</td>\n",
       "      <td>عكاظ</td>\n",
       "      <td>جنوب الرياض</td>\n",
       "      <td>1100000.0</td>\n",
       "      <td>3666.666667</td>\n",
       "    </tr>\n",
       "    <tr>\n",
       "      <th>18</th>\n",
       "      <td>19</td>\n",
       "      <td>شمالية</td>\n",
       "      <td>5</td>\n",
       "      <td>2</td>\n",
       "      <td>4</td>\n",
       "      <td>15.0</td>\n",
       "      <td>0</td>\n",
       "      <td>23</td>\n",
       "      <td>1</td>\n",
       "      <td>0</td>\n",
       "      <td>0</td>\n",
       "      <td>1</td>\n",
       "      <td>0</td>\n",
       "      <td>1</td>\n",
       "      <td>0</td>\n",
       "      <td>552</td>\n",
       "      <td>2</td>\n",
       "      <td>1</td>\n",
       "      <td>0</td>\n",
       "      <td>0</td>\n",
       "      <td>0</td>\n",
       "      <td>0</td>\n",
       "      <td>الفاخرية</td>\n",
       "      <td>غرب الرياض</td>\n",
       "      <td>1200000.0</td>\n",
       "      <td>2173.913043</td>\n",
       "    </tr>\n",
       "    <tr>\n",
       "      <th>19</th>\n",
       "      <td>20</td>\n",
       "      <td>شرقية</td>\n",
       "      <td>7</td>\n",
       "      <td>2</td>\n",
       "      <td>5+</td>\n",
       "      <td>20.0</td>\n",
       "      <td>1</td>\n",
       "      <td>0</td>\n",
       "      <td>1</td>\n",
       "      <td>1</td>\n",
       "      <td>1</td>\n",
       "      <td>1</td>\n",
       "      <td>1</td>\n",
       "      <td>1</td>\n",
       "      <td>0</td>\n",
       "      <td>375</td>\n",
       "      <td>2</td>\n",
       "      <td>1</td>\n",
       "      <td>1</td>\n",
       "      <td>0</td>\n",
       "      <td>1</td>\n",
       "      <td>0</td>\n",
       "      <td>الشرق</td>\n",
       "      <td>شرق الرياض</td>\n",
       "      <td>2000000.0</td>\n",
       "      <td>5333.333333</td>\n",
       "    </tr>\n",
       "    <tr>\n",
       "      <th>...</th>\n",
       "      <td>...</td>\n",
       "      <td>...</td>\n",
       "      <td>...</td>\n",
       "      <td>...</td>\n",
       "      <td>...</td>\n",
       "      <td>...</td>\n",
       "      <td>...</td>\n",
       "      <td>...</td>\n",
       "      <td>...</td>\n",
       "      <td>...</td>\n",
       "      <td>...</td>\n",
       "      <td>...</td>\n",
       "      <td>...</td>\n",
       "      <td>...</td>\n",
       "      <td>...</td>\n",
       "      <td>...</td>\n",
       "      <td>...</td>\n",
       "      <td>...</td>\n",
       "      <td>...</td>\n",
       "      <td>...</td>\n",
       "      <td>...</td>\n",
       "      <td>...</td>\n",
       "      <td>...</td>\n",
       "      <td>...</td>\n",
       "      <td>...</td>\n",
       "      <td>...</td>\n",
       "    </tr>\n",
       "    <tr>\n",
       "      <th>46821</th>\n",
       "      <td>51840</td>\n",
       "      <td>جنوبية</td>\n",
       "      <td>5</td>\n",
       "      <td>2</td>\n",
       "      <td>5+</td>\n",
       "      <td>20.0</td>\n",
       "      <td>1</td>\n",
       "      <td>0</td>\n",
       "      <td>0</td>\n",
       "      <td>1</td>\n",
       "      <td>1</td>\n",
       "      <td>1</td>\n",
       "      <td>1</td>\n",
       "      <td>1</td>\n",
       "      <td>0</td>\n",
       "      <td>385</td>\n",
       "      <td>1</td>\n",
       "      <td>1</td>\n",
       "      <td>1</td>\n",
       "      <td>0</td>\n",
       "      <td>0</td>\n",
       "      <td>0</td>\n",
       "      <td>المونسية</td>\n",
       "      <td>شرق الرياض</td>\n",
       "      <td>2250000.0</td>\n",
       "      <td>5844.155844</td>\n",
       "    </tr>\n",
       "    <tr>\n",
       "      <th>46822</th>\n",
       "      <td>51841</td>\n",
       "      <td>غربية</td>\n",
       "      <td>7</td>\n",
       "      <td>2</td>\n",
       "      <td>5+</td>\n",
       "      <td>12.0</td>\n",
       "      <td>1</td>\n",
       "      <td>0</td>\n",
       "      <td>0</td>\n",
       "      <td>1</td>\n",
       "      <td>1</td>\n",
       "      <td>1</td>\n",
       "      <td>1</td>\n",
       "      <td>1</td>\n",
       "      <td>0</td>\n",
       "      <td>500</td>\n",
       "      <td>0</td>\n",
       "      <td>1</td>\n",
       "      <td>0</td>\n",
       "      <td>0</td>\n",
       "      <td>0</td>\n",
       "      <td>0</td>\n",
       "      <td>ظهرة البديعة</td>\n",
       "      <td>غرب الرياض</td>\n",
       "      <td>1050000.0</td>\n",
       "      <td>2100.000000</td>\n",
       "    </tr>\n",
       "    <tr>\n",
       "      <th>46823</th>\n",
       "      <td>51842</td>\n",
       "      <td>غربية</td>\n",
       "      <td>5</td>\n",
       "      <td>3</td>\n",
       "      <td>5+</td>\n",
       "      <td>20.0</td>\n",
       "      <td>0</td>\n",
       "      <td>0</td>\n",
       "      <td>0</td>\n",
       "      <td>1</td>\n",
       "      <td>1</td>\n",
       "      <td>1</td>\n",
       "      <td>1</td>\n",
       "      <td>1</td>\n",
       "      <td>1</td>\n",
       "      <td>200</td>\n",
       "      <td>0</td>\n",
       "      <td>1</td>\n",
       "      <td>0</td>\n",
       "      <td>0</td>\n",
       "      <td>0</td>\n",
       "      <td>0</td>\n",
       "      <td>طويق</td>\n",
       "      <td>غرب الرياض</td>\n",
       "      <td>1000000.0</td>\n",
       "      <td>5000.000000</td>\n",
       "    </tr>\n",
       "    <tr>\n",
       "      <th>46824</th>\n",
       "      <td>51843</td>\n",
       "      <td>جنوبية غربية</td>\n",
       "      <td>1</td>\n",
       "      <td>NaN</td>\n",
       "      <td>1</td>\n",
       "      <td>15.0</td>\n",
       "      <td>0</td>\n",
       "      <td>0</td>\n",
       "      <td>0</td>\n",
       "      <td>0</td>\n",
       "      <td>0</td>\n",
       "      <td>1</td>\n",
       "      <td>0</td>\n",
       "      <td>0</td>\n",
       "      <td>0</td>\n",
       "      <td>405</td>\n",
       "      <td>2</td>\n",
       "      <td>0</td>\n",
       "      <td>0</td>\n",
       "      <td>0</td>\n",
       "      <td>0</td>\n",
       "      <td>0</td>\n",
       "      <td>النهضة</td>\n",
       "      <td>شرق الرياض</td>\n",
       "      <td>2300000.0</td>\n",
       "      <td>5679.012346</td>\n",
       "    </tr>\n",
       "    <tr>\n",
       "      <th>46825</th>\n",
       "      <td>51844</td>\n",
       "      <td>شمالية</td>\n",
       "      <td>6</td>\n",
       "      <td>2</td>\n",
       "      <td>5+</td>\n",
       "      <td>15.0</td>\n",
       "      <td>1</td>\n",
       "      <td>0</td>\n",
       "      <td>0</td>\n",
       "      <td>1</td>\n",
       "      <td>1</td>\n",
       "      <td>1</td>\n",
       "      <td>1</td>\n",
       "      <td>1</td>\n",
       "      <td>0</td>\n",
       "      <td>750</td>\n",
       "      <td>2</td>\n",
       "      <td>1</td>\n",
       "      <td>0</td>\n",
       "      <td>0</td>\n",
       "      <td>0</td>\n",
       "      <td>0</td>\n",
       "      <td>المونسية</td>\n",
       "      <td>شرق الرياض</td>\n",
       "      <td>4100000.0</td>\n",
       "      <td>5466.666667</td>\n",
       "    </tr>\n",
       "  </tbody>\n",
       "</table>\n",
       "<p>46153 rows × 26 columns</p>\n",
       "</div>"
      ],
      "text/plain": [
       "       Unnamed: 0         front  rooms lounges bathrooms  streetWidth  stairs  \\\n",
       "11             11        جنوبية      5       4        5+         21.0       1   \n",
       "15             16        شمالية      5       2        5+         15.0       1   \n",
       "16             17         شرقية      5       5        5+         20.0       1   \n",
       "18             19        شمالية      5       2         4         15.0       0   \n",
       "19             20         شرقية      7       2        5+         20.0       1   \n",
       "...           ...           ...    ...     ...       ...          ...     ...   \n",
       "46821       51840        جنوبية      5       2        5+         20.0       1   \n",
       "46822       51841         غربية      7       2        5+         12.0       1   \n",
       "46823       51842         غربية      5       3        5+         20.0       0   \n",
       "46824       51843  جنوبية غربية      1     NaN         1         15.0       0   \n",
       "46825       51844        شمالية      6       2        5+         15.0       1   \n",
       "\n",
       "       propertyAge  driverRoom  tent  patio  kitchen  outdoorRoom  garage  \\\n",
       "11               0           0     1      1        1            1       1   \n",
       "15               0           0     0      1        1            1       1   \n",
       "16               0           0     0      1        1            1       1   \n",
       "18              23           1     0      0        1            0       1   \n",
       "19               0           1     1      1        1            1       1   \n",
       "...            ...         ...   ...    ...      ...          ...     ...   \n",
       "46821            0           0     1      1        1            1       1   \n",
       "46822            0           0     1      1        1            1       1   \n",
       "46823            0           0     1      1        1            1       1   \n",
       "46824            0           0     0      0        1            0       0   \n",
       "46825            0           0     1      1        1            1       1   \n",
       "\n",
       "       duplex  space apartments  maidRoom  elevator  furnihsed  pool  \\\n",
       "11          1    300          0         0         0          0     0   \n",
       "15          0    300          0         1         0          0     0   \n",
       "16          1    300          0         1         0          0     0   \n",
       "18          0    552          2         1         0          0     0   \n",
       "19          0    375          2         1         1          0     1   \n",
       "...       ...    ...        ...       ...       ...        ...   ...   \n",
       "46821       0    385          1         1         1          0     0   \n",
       "46822       0    500          0         1         0          0     0   \n",
       "46823       1    200          0         1         0          0     0   \n",
       "46824       0    405          2         0         0          0     0   \n",
       "46825       0    750          2         1         0          0     0   \n",
       "\n",
       "       basement   neighbourhood     location      price  square price  \n",
       "11            0            بدر   جنوب الرياض  1050000.0   3500.000000  \n",
       "15            0           عكاظ   جنوب الرياض  1050000.0   3500.000000  \n",
       "16            0           عكاظ   جنوب الرياض  1100000.0   3666.666667  \n",
       "18            0       الفاخرية    غرب الرياض  1200000.0   2173.913043  \n",
       "19            0          الشرق    شرق الرياض  2000000.0   5333.333333  \n",
       "...         ...             ...          ...        ...           ...  \n",
       "46821         0       المونسية    شرق الرياض  2250000.0   5844.155844  \n",
       "46822         0   ظهرة البديعة    غرب الرياض  1050000.0   2100.000000  \n",
       "46823         0           طويق    غرب الرياض  1000000.0   5000.000000  \n",
       "46824         0         النهضة    شرق الرياض  2300000.0   5679.012346  \n",
       "46825         0       المونسية    شرق الرياض  4100000.0   5466.666667  \n",
       "\n",
       "[46153 rows x 26 columns]"
      ]
     },
     "execution_count": 79,
     "metadata": {},
     "output_type": "execute_result"
    }
   ],
   "source": [
    "Riyadh_VillasAqar[Riyadh_VillasAqar['price'].duplicated()]"
   ]
  },
  {
   "cell_type": "code",
   "execution_count": 80,
   "id": "974dfd37",
   "metadata": {},
   "outputs": [
    {
     "data": {
      "text/html": [
       "<div>\n",
       "<style scoped>\n",
       "    .dataframe tbody tr th:only-of-type {\n",
       "        vertical-align: middle;\n",
       "    }\n",
       "\n",
       "    .dataframe tbody tr th {\n",
       "        vertical-align: top;\n",
       "    }\n",
       "\n",
       "    .dataframe thead th {\n",
       "        text-align: right;\n",
       "    }\n",
       "</style>\n",
       "<table border=\"1\" class=\"dataframe\">\n",
       "  <thead>\n",
       "    <tr style=\"text-align: right;\">\n",
       "      <th></th>\n",
       "      <th>Unnamed: 0</th>\n",
       "      <th>front</th>\n",
       "      <th>rooms</th>\n",
       "      <th>lounges</th>\n",
       "      <th>bathrooms</th>\n",
       "      <th>streetWidth</th>\n",
       "      <th>stairs</th>\n",
       "      <th>propertyAge</th>\n",
       "      <th>driverRoom</th>\n",
       "      <th>tent</th>\n",
       "      <th>patio</th>\n",
       "      <th>kitchen</th>\n",
       "      <th>outdoorRoom</th>\n",
       "      <th>garage</th>\n",
       "      <th>duplex</th>\n",
       "      <th>space</th>\n",
       "      <th>apartments</th>\n",
       "      <th>maidRoom</th>\n",
       "      <th>elevator</th>\n",
       "      <th>furnihsed</th>\n",
       "      <th>pool</th>\n",
       "      <th>basement</th>\n",
       "      <th>neighbourhood</th>\n",
       "      <th>location</th>\n",
       "      <th>price</th>\n",
       "      <th>square price</th>\n",
       "    </tr>\n",
       "  </thead>\n",
       "  <tbody>\n",
       "    <tr>\n",
       "      <th>3848</th>\n",
       "      <td>4248</td>\n",
       "      <td>غربية</td>\n",
       "      <td>1</td>\n",
       "      <td>2</td>\n",
       "      <td>5+</td>\n",
       "      <td>20.0</td>\n",
       "      <td>0</td>\n",
       "      <td>0</td>\n",
       "      <td>0</td>\n",
       "      <td>0</td>\n",
       "      <td>0</td>\n",
       "      <td>1</td>\n",
       "      <td>0</td>\n",
       "      <td>0</td>\n",
       "      <td>0</td>\n",
       "      <td>315</td>\n",
       "      <td>0</td>\n",
       "      <td>0</td>\n",
       "      <td>0</td>\n",
       "      <td>0</td>\n",
       "      <td>0</td>\n",
       "      <td>0</td>\n",
       "      <td>عكاظ</td>\n",
       "      <td>جنوب الرياض</td>\n",
       "      <td>1080.0</td>\n",
       "      <td>3.428571</td>\n",
       "    </tr>\n",
       "    <tr>\n",
       "      <th>13490</th>\n",
       "      <td>14873</td>\n",
       "      <td>غربية</td>\n",
       "      <td>1</td>\n",
       "      <td>2</td>\n",
       "      <td>5+</td>\n",
       "      <td>20.0</td>\n",
       "      <td>0</td>\n",
       "      <td>0</td>\n",
       "      <td>0</td>\n",
       "      <td>0</td>\n",
       "      <td>0</td>\n",
       "      <td>1</td>\n",
       "      <td>0</td>\n",
       "      <td>0</td>\n",
       "      <td>0</td>\n",
       "      <td>315</td>\n",
       "      <td>0</td>\n",
       "      <td>0</td>\n",
       "      <td>0</td>\n",
       "      <td>0</td>\n",
       "      <td>0</td>\n",
       "      <td>0</td>\n",
       "      <td>عكاظ</td>\n",
       "      <td>جنوب الرياض</td>\n",
       "      <td>1080.0</td>\n",
       "      <td>3.428571</td>\n",
       "    </tr>\n",
       "    <tr>\n",
       "      <th>42889</th>\n",
       "      <td>47517</td>\n",
       "      <td>غربية</td>\n",
       "      <td>1</td>\n",
       "      <td>2</td>\n",
       "      <td>5+</td>\n",
       "      <td>20.0</td>\n",
       "      <td>0</td>\n",
       "      <td>0</td>\n",
       "      <td>0</td>\n",
       "      <td>0</td>\n",
       "      <td>0</td>\n",
       "      <td>1</td>\n",
       "      <td>0</td>\n",
       "      <td>0</td>\n",
       "      <td>0</td>\n",
       "      <td>315</td>\n",
       "      <td>0</td>\n",
       "      <td>0</td>\n",
       "      <td>0</td>\n",
       "      <td>0</td>\n",
       "      <td>0</td>\n",
       "      <td>0</td>\n",
       "      <td>عكاظ</td>\n",
       "      <td>جنوب الرياض</td>\n",
       "      <td>1080.0</td>\n",
       "      <td>3.428571</td>\n",
       "    </tr>\n",
       "  </tbody>\n",
       "</table>\n",
       "</div>"
      ],
      "text/plain": [
       "       Unnamed: 0  front  rooms lounges bathrooms  streetWidth  stairs  \\\n",
       "3848         4248  غربية      1       2        5+         20.0       0   \n",
       "13490       14873  غربية      1       2        5+         20.0       0   \n",
       "42889       47517  غربية      1       2        5+         20.0       0   \n",
       "\n",
       "       propertyAge  driverRoom  tent  patio  kitchen  outdoorRoom  garage  \\\n",
       "3848             0           0     0      0        1            0       0   \n",
       "13490            0           0     0      0        1            0       0   \n",
       "42889            0           0     0      0        1            0       0   \n",
       "\n",
       "       duplex  space apartments  maidRoom  elevator  furnihsed  pool  \\\n",
       "3848        0    315          0         0         0          0     0   \n",
       "13490       0    315          0         0         0          0     0   \n",
       "42889       0    315          0         0         0          0     0   \n",
       "\n",
       "       basement neighbourhood     location   price  square price  \n",
       "3848          0         عكاظ   جنوب الرياض  1080.0      3.428571  \n",
       "13490         0         عكاظ   جنوب الرياض  1080.0      3.428571  \n",
       "42889         0         عكاظ   جنوب الرياض  1080.0      3.428571  "
      ]
     },
     "execution_count": 80,
     "metadata": {},
     "output_type": "execute_result"
    }
   ],
   "source": [
    "Riyadh_VillasAqar[Riyadh_VillasAqar['price'] == 1080 ]"
   ]
  },
  {
   "cell_type": "code",
   "execution_count": 81,
   "id": "04c62559-3b48-48cf-a4e9-857e2e0ff416",
   "metadata": {},
   "outputs": [],
   "source": [
    "# go to delete duplicates columns"
   ]
  },
  {
   "cell_type": "markdown",
   "id": "c7724ac2-4ea2-4cf4-a9e0-e64368f87b92",
   "metadata": {},
   "source": [
    "#### 6. Completeness: \n",
    "Ensure that no critical data is missing. This might mean checking for null values or required fields that are empty.\n",
    "\n",
    "We will start by checking the dataset for missing or null values. For this, we can use the isna() method which returns a dataframe of boolean values indicating if a field is null or not. To group all missing values by column, we can include the sum() method."
   ]
  },
  {
   "cell_type": "code",
   "execution_count": 82,
   "id": "48a4de54-a344-4b94-9908-9528c15c13f7",
   "metadata": {},
   "outputs": [
    {
     "data": {
      "text/plain": [
       "price              0\n",
       "beds               0\n",
       "livings            0\n",
       "wc                 0\n",
       "area               0\n",
       "street_width       0\n",
       "age                0\n",
       "last_update        0\n",
       "kitchen            0\n",
       "ac                 0\n",
       "furnished          0\n",
       "location           0\n",
       "district           0\n",
       "advertiser_type    0\n",
       "create_time        0\n",
       "review             0\n",
       "UserName           0\n",
       "iam_verified       0\n",
       "onMarket           0\n",
       "IsRent             0\n",
       "latitude           0\n",
       "longitude          0\n",
       "dtype: int64"
      ]
     },
     "execution_count": 82,
     "metadata": {},
     "output_type": "execute_result"
    }
   ],
   "source": [
    "Real_Estate.isnull().sum().sort_values(ascending = False)"
   ]
  },
  {
   "cell_type": "code",
   "execution_count": 83,
   "id": "f05db790",
   "metadata": {},
   "outputs": [
    {
     "data": {
      "text/plain": [
       "نوع العقار        0\n",
       "الغرض             0\n",
       "المدينة           0\n",
       "الحي              0\n",
       "الواجهة           0\n",
       "المساحة           0\n",
       "سعر المتر         0\n",
       "السعر الإجمالي    0\n",
       "dtype: int64"
      ]
     },
     "execution_count": 83,
     "metadata": {},
     "output_type": "execute_result"
    }
   ],
   "source": [
    "Riyadh_Aqqar_Land.isnull().sum().sort_values(ascending = False)"
   ]
  },
  {
   "cell_type": "code",
   "execution_count": 84,
   "id": "acc9582c",
   "metadata": {},
   "outputs": [
    {
     "data": {
      "text/plain": [
       "نوع العقار        0\n",
       "المدينة           0\n",
       "الحي              0\n",
       "الواجهة           0\n",
       "عدد الغرف         0\n",
       "عدد الصالات       0\n",
       "عدد الحمامات      0\n",
       "عرض الشارع        0\n",
       "المساحة           0\n",
       "درج صالة          0\n",
       "مطبخ              0\n",
       "غرفة خادمة        0\n",
       "غرفة سائق         0\n",
       "ملحق              0\n",
       "حوش               0\n",
       "مسبح              0\n",
       "قبو               0\n",
       "مدخل سيارة        0\n",
       "مصعد              0\n",
       "السعر الاجمالي    0\n",
       "dtype: int64"
      ]
     },
     "execution_count": 84,
     "metadata": {},
     "output_type": "execute_result"
    }
   ],
   "source": [
    "Riyadh_Aqqar_Villas.isnull().sum().sort_values(ascending = False)"
   ]
  },
  {
   "cell_type": "code",
   "execution_count": 85,
   "id": "8c471839",
   "metadata": {},
   "outputs": [
    {
     "data": {
      "text/plain": [
       "الواجهة           162\n",
       "الدور              74\n",
       "عدد الصالات        10\n",
       "عمر العقار          1\n",
       "المدينة             0\n",
       "الحي                0\n",
       "نوع العقار          0\n",
       "عدد الحمامات        0\n",
       "عدد الغرف           0\n",
       "المساحة             0\n",
       "مطبخ                0\n",
       "مصعد                0\n",
       "مدخل سيارة          0\n",
       "مؤثثة               0\n",
       "السعر الاجمالي      0\n",
       "dtype: int64"
      ]
     },
     "execution_count": 85,
     "metadata": {},
     "output_type": "execute_result"
    }
   ],
   "source": [
    "Riyadh_Aqqar_Apartments.isnull().sum().sort_values(ascending = False)"
   ]
  },
  {
   "cell_type": "code",
   "execution_count": 86,
   "id": "1a5cb882",
   "metadata": {},
   "outputs": [
    {
     "data": {
      "text/plain": [
       "lounges          1118\n",
       "streetWidth       190\n",
       "price               2\n",
       "square price        2\n",
       "front               0\n",
       "Unnamed: 0          0\n",
       "stairs              0\n",
       "propertyAge         0\n",
       "rooms               0\n",
       "bathrooms           0\n",
       "tent                0\n",
       "driverRoom          0\n",
       "patio               0\n",
       "kitchen             0\n",
       "duplex              0\n",
       "space               0\n",
       "outdoorRoom         0\n",
       "garage              0\n",
       "maidRoom            0\n",
       "apartments          0\n",
       "elevator            0\n",
       "furnihsed           0\n",
       "basement            0\n",
       "pool                0\n",
       "location            0\n",
       "neighbourhood       0\n",
       "dtype: int64"
      ]
     },
     "execution_count": 86,
     "metadata": {},
     "output_type": "execute_result"
    }
   ],
   "source": [
    "Riyadh_VillasAqar.isnull().sum().sort_values(ascending = False)"
   ]
  },
  {
   "cell_type": "code",
   "execution_count": 87,
   "id": "abec31c4-0904-4b73-8cee-b7bc14ab1e67",
   "metadata": {},
   "outputs": [],
   "source": [
    "# go to clean them "
   ]
  },
  {
   "cell_type": "markdown",
   "id": "b40de63c-5a1d-49ed-a87e-c5229ee08bbe",
   "metadata": {},
   "source": [
    "#### 7. Check Accuracy:\n",
    "\n",
    "Verify that the data is correct and precise. This could involve comparing data samples with known sources or using validation rules.\n",
    "\n",
    "**The process includes:**\n",
    "1. Validating the appropriateness of data types for the dataset.\n",
    "2. Identifying outliers  using established validation  rule"
   ]
  },
  {
   "cell_type": "code",
   "execution_count": 88,
   "id": "68be5334-ae10-4abd-8097-3259fe5e72c8",
   "metadata": {},
   "outputs": [
    {
     "data": {
      "text/plain": [
       "price                int64\n",
       "beds                 int64\n",
       "livings              int64\n",
       "wc                   int64\n",
       "area               float64\n",
       "street_width       float64\n",
       "age                float64\n",
       "last_update         object\n",
       "kitchen             object\n",
       "ac                  object\n",
       "furnished           object\n",
       "location            object\n",
       "district            object\n",
       "advertiser_type     object\n",
       "create_time         object\n",
       "review             float64\n",
       "UserName            object\n",
       "iam_verified        object\n",
       "onMarket             int64\n",
       "IsRent                bool\n",
       "latitude           float64\n",
       "longitude          float64\n",
       "dtype: object"
      ]
     },
     "execution_count": 88,
     "metadata": {},
     "output_type": "execute_result"
    }
   ],
   "source": [
    "Real_Estate.dtypes"
   ]
  },
  {
   "cell_type": "code",
   "execution_count": 89,
   "id": "9635c644",
   "metadata": {},
   "outputs": [
    {
     "data": {
      "text/plain": [
       "نوع العقار         object\n",
       "الغرض              object\n",
       "المدينة            object\n",
       "الحي               object\n",
       "الواجهة            object\n",
       "المساحة             int64\n",
       "سعر المتر         float64\n",
       "السعر الإجمالي      int64\n",
       "dtype: object"
      ]
     },
     "execution_count": 89,
     "metadata": {},
     "output_type": "execute_result"
    }
   ],
   "source": [
    "Riyadh_Aqqar_Land.dtypes"
   ]
  },
  {
   "cell_type": "code",
   "execution_count": 90,
   "id": "783b3ee7",
   "metadata": {},
   "outputs": [
    {
     "data": {
      "text/plain": [
       "نوع العقار         object\n",
       "المدينة            object\n",
       "الحي               object\n",
       "الواجهة            object\n",
       "عدد الغرف          object\n",
       "عدد الصالات        object\n",
       "عدد الحمامات       object\n",
       "عرض الشارع        float64\n",
       "المساحة           float64\n",
       "درج صالة             bool\n",
       "مطبخ                 bool\n",
       "غرفة خادمة           bool\n",
       "غرفة سائق            bool\n",
       "ملحق                 bool\n",
       "حوش                  bool\n",
       "مسبح                 bool\n",
       "قبو                  bool\n",
       "مدخل سيارة           bool\n",
       "مصعد                 bool\n",
       "السعر الاجمالي      int64\n",
       "dtype: object"
      ]
     },
     "execution_count": 90,
     "metadata": {},
     "output_type": "execute_result"
    }
   ],
   "source": [
    "Riyadh_Aqqar_Villas.dtypes"
   ]
  },
  {
   "cell_type": "code",
   "execution_count": 91,
   "id": "99ebf284",
   "metadata": {},
   "outputs": [
    {
     "data": {
      "text/plain": [
       "نوع العقار         object\n",
       "المدينة            object\n",
       "الحي               object\n",
       "الواجهة            object\n",
       "عدد الغرف           int64\n",
       "عدد الصالات       float64\n",
       "عدد الحمامات       object\n",
       "المساحة             int64\n",
       "مطبخ                int64\n",
       "مدخل سيارة          int64\n",
       "مصعد                int64\n",
       "الدور              object\n",
       "عمر العقار        float64\n",
       "مؤثثة               int64\n",
       "السعر الاجمالي      int64\n",
       "dtype: object"
      ]
     },
     "execution_count": 91,
     "metadata": {},
     "output_type": "execute_result"
    }
   ],
   "source": [
    "Riyadh_Aqqar_Apartments.dtypes"
   ]
  },
  {
   "cell_type": "code",
   "execution_count": 92,
   "id": "48e731d9",
   "metadata": {},
   "outputs": [
    {
     "data": {
      "text/plain": [
       "Unnamed: 0         int64\n",
       "front             object\n",
       "rooms              int64\n",
       "lounges           object\n",
       "bathrooms         object\n",
       "streetWidth      float64\n",
       "stairs             int64\n",
       "propertyAge        int64\n",
       "driverRoom         int64\n",
       "tent               int64\n",
       "patio              int64\n",
       "kitchen            int64\n",
       "outdoorRoom        int64\n",
       "garage             int64\n",
       "duplex             int64\n",
       "space              int64\n",
       "apartments        object\n",
       "maidRoom           int64\n",
       "elevator           int64\n",
       "furnihsed          int64\n",
       "pool               int64\n",
       "basement           int64\n",
       "neighbourhood     object\n",
       "location          object\n",
       "price            float64\n",
       "square price     float64\n",
       "dtype: object"
      ]
     },
     "execution_count": 92,
     "metadata": {},
     "output_type": "execute_result"
    }
   ],
   "source": [
    "Riyadh_VillasAqar.dtypes"
   ]
  },
  {
   "cell_type": "code",
   "execution_count": 93,
   "id": "2ee790ba-dcc0-45f1-b6f8-0133e913e149",
   "metadata": {},
   "outputs": [],
   "source": [
    "# go to clean them "
   ]
  },
  {
   "cell_type": "code",
   "execution_count": 94,
   "id": "c69b303a-5459-45f9-a28e-fcee45c21c05",
   "metadata": {},
   "outputs": [],
   "source": [
    "# check outliers "
   ]
  },
  {
   "cell_type": "markdown",
   "id": "4aca9d42-add6-45db-92cf-1f6dae5f277b",
   "metadata": {},
   "source": [
    "**What is an Outlier?** \n",
    "Outlier is an row/observation that appears far away and diverges from an overall pattern in a sample.\n",
    "\n",
    "**What are the types of Outliers?**\n",
    "1. Univariate: These outliers can be found when we look at distribution of a single variable\n",
    "2. Multivariate: are outliers in an n-dimensional space. In order to find them, you have to look at distributions in multi-dimensions. example (hight=100, weight=100) for a person\n",
    "\n",
    "**What causes Outliers?**\n",
    "Whenever we come across outliers, the ideal way to tackle them is to find out the reason of having these outliers. The method to deal with them would then depend on the reason of their occurrence.\n",
    "\n",
    "Let’s understand various types of outliers:\n",
    "\n",
    "1. Data Entry Errors:- Human errors such as errors caused during data collection, recording, or entry can cause outliers in data.\n",
    "2. Measurement Error: It is the most common source of outliers. This is caused when the measurement instrument used turns out to be faulty.\n",
    "3. Data Processing Error: Whenever we perform data mining, we extract data from multiple sources. It is possible that some manipulation or extraction errors may lead to outliers in the dataset.\n",
    "4. Sampling error: For instance, we have to measure the height of athletes. By mistake, we include a few basketball players in the sample. This inclusion is likely to cause outliers in the dataset.\n",
    "5. Natural Outlier: When an outlier is not artificial (due to error), it is a natural outlier. For instance: In my last assignment with one of the renowned insurance company, I noticed that the performance of top 50 financial advisors was far higher than rest of the population. Surprisingly, it was not due to any error. Hence, whenever we perform any data mining activity with advisors, we used to treat this segment separately.\n",
    "\n",
    "\n",
    "**What is the impact of Outliers on a dataset?**\n",
    "\n",
    "\n",
    "![image.png](https://www.analyticsvidhya.com/wp-content/uploads/2015/02/Outlier_31.png)\n",
    "\n",
    "\n",
    "\n",
    "**How to detect Outliers?**\n",
    "\n",
    "1. Most commonly used method to detect outliers is visualization (Univariate Graphical Analysis).\n",
    "\n",
    "We use 3 common visualization methods:\n",
    ">- Box-plot: A box plot is a method for graphically depicting groups of numerical data through their quartiles. The box extends from the Q1 to Q3 quartile values of the data, with a line at the median (Q2). The whiskers extend from the edges of the box to show the range of the data. Outlier points are those past the end of the whiskers. Box plots show robust measures of location and spread as well as providing information about symmetry and outliers.\n",
    ">\n",
    ">  \n",
    ">![image.png](https://miro.medium.com/v2/resize:fit:698/format:webp/1*VK5iHA2AB28HSZwWwUbNYg.png)\n",
    ">\n",
    ">\n",
    ">- Histogram\n",
    ">- Scatter Plot: A scatter plot is a mathematical diagram using Cartesian coordinates to display values for two variables for a set of data. The data are displayed as a collection of points, each having the value of one variable determining the position on the horizontal axis and the value of the other variable determining the position on the vertical axis. The points that are far from the population can be termed as an outlier.\n",
    ">\n",
    ">  \n",
    ">![image.png](https://miro.medium.com/v2/resize:fit:4800/format:webp/1*Ov6aH-8yIwNoUxtMFwgx4g.png)\n",
    ">\n",
    ">\n",
    "\n",
    "2. Using statistical method (Univariate Non-Graphical analysis):\n",
    ">- Any value, which is beyond the range of -1.5 x IQR to 1.5 x IQR\n",
    " \n",
    "![image.png](https://www.whatissixsigma.net/wp-content/uploads/2015/07/Box-Plot-Diagram-to-identify-Outliers-figure-1.png)\n",
    "\n",
    ">- Use capping methods. Any value which out of range of 5th and 95th percentile can be considered as outlier\n",
    ">- Data points, three or more standard deviation away from mean are considered outlier: The Z-score is the signed number of standard deviations by which the value of an observation or data point is above the mean value of what is being observed or measured. While calculating the Z-score we re-scale and center the data and look for data points that are too far from zero. These data points which are way too far from zero will be treated as the outliers. In most of the cases, a threshold of 3 or -3 is used i.e if the Z-score value is greater than or less than 3 or -3 respectively, that data point will be identified as outliers.\n",
    "> - Outlier detection is merely a special case of the examination of data for influential data points and it also depends on the business understanding\n"
   ]
  },
  {
   "cell_type": "code",
   "execution_count": 95,
   "id": "74ea6194-cc01-45d8-be38-c4543eb1714e",
   "metadata": {},
   "outputs": [],
   "source": [
    "# go to univariate graphical analysis\n",
    "# go to lesson : data visualisation 1 - chart type section\n",
    "# then go to univariate graphical analysis\n",
    "# detect outliers using graphs varbaly"
   ]
  },
  {
   "cell_type": "code",
   "execution_count": 96,
   "id": "48ecf77b-480c-4f64-9485-95be805bc357",
   "metadata": {},
   "outputs": [],
   "source": [
    "# go to lesson: statistics 1 then statistics 3\n",
    "# then go to univariate Non graphical analysis\n",
    "# detect outliers using numerical statistics "
   ]
  },
  {
   "cell_type": "code",
   "execution_count": null,
   "id": "ee200da8-62b0-492d-b118-f4d665a1fb16",
   "metadata": {},
   "outputs": [],
   "source": []
  },
  {
   "cell_type": "code",
   "execution_count": 97,
   "id": "4e66d611-6958-4860-8522-9ada7fce40b0",
   "metadata": {},
   "outputs": [],
   "source": [
    "# go to delete ouliers"
   ]
  },
  {
   "attachments": {},
   "cell_type": "markdown",
   "id": "4e886ec7-388c-414b-ada7-803c2fb1f2cb",
   "metadata": {},
   "source": [
    "## 2. Data Cleaning: \n",
    "\n",
    "Preliminary findings from data profiling can lead to cleaning the data by:\n",
    "- Handling missing values\n",
    "- Correcting errors.\n",
    "- Dealing with outliers.\n",
    "\n",
    "-------------------\n",
    "\n"
   ]
  },
  {
   "cell_type": "markdown",
   "id": "21876b48-f5ec-4970-85a9-0520d45d8841",
   "metadata": {},
   "source": [
    "### Handling missing values:"
   ]
  },
  {
   "cell_type": "markdown",
   "id": "c890d5a2-2a65-4090-9427-f89c0f011d3f",
   "metadata": {},
   "source": [
    "**Why my data has missing values?**\n",
    "They may occur at two stages:\n",
    "1. Data Extraction: It is possible that there are problems with extraction process. Errors at data extraction stage are typically easy to find and can be corrected easily as well.\n",
    "2. Data collection: These errors occur at time of data collection and are harder to correct.\n",
    "\n",
    "**Why do we need to handle the missing data?**\n",
    "To avoid:\n",
    "- Bias the conclusions.\n",
    "- Leading the business to make wrong decisions.\n",
    "\n",
    "**Which are the methods to treat missing values ?**\n",
    "1. Deletion: we delete rows where any of the variable is missing. Simplicity is one of the major advantage of this method, but this method reduces the power of model because it reduces the sample size.\n",
    "\n",
    "2. Imputation: is a method to fill in the missing values with estimated ones. This imputation is one of the most frequently used methods.\n",
    "\n",
    "    2.1. Mean/ Mode/ Median Imputation: It consists of replacing the missing data for a given attribute by the mean or median (quantitative attribute) or mode (qualitative attribute) of all known values of that variable.\n",
    "    > It can be of two types:\n",
    "    > - Generalized Imputation: In this case, we calculate the mean or median for all non missing values of that variable then replace missing value with mean or median.\n",
    "    > - Similar case Imputation: In this case, we calculate average for each group individually of non missing values then replace the missing value based on the group.\n",
    "\n",
    "    2.2. Constant Value\n",
    "   \n",
    "    2.3. Forward Filling\n",
    "   \n",
    "    2.4. Backward Filling\n",
    "\n",
    "6. Prediction Model:  Prediction model is one of the sophisticated method for handling missing data. Here, we create a predictive model to estimate values that will substitute the missing data.  In this case, we divide our data set into two sets: One set with no missing values for the variable and another one with missing values. First data set become training data set of the model while second data set with missing values is test data set and variable with missing values is treated as target variable. Next, we create a model to predict target variable based on other attributes of the training data set and populate missing values of test data set.\n",
    "\n",
    "> There are 2 drawbacks for this approach:\n",
    "> - The model estimated values are usually more well-behaved than the true values\n",
    "> - If there are no relationships with attributes in the data set and the attribute with missing values, then the model will not be precise for estimating missing values.\n",
    "\n",
    "9. KNN Imputation: In this method of imputation, the missing values of an attribute are imputed using the given number of attributes that are most similar to the attribute whose values are missing. The similarity of two attributes is determined using a distance function. It is also known to have certain advantage & disadvantages.\n",
    "\n",
    "   > **Advantages:**\n",
    "   > - k-nearest neighbour can predict both qualitative & quantitative attributes\n",
    "   > - Creation of predictive model for each attribute with missing data is not required\n",
    "   > - Attributes with multiple missing values can be easily treated\n",
    "   > - Correlation structure of the data is taken into consideration\n",
    "\n",
    "   > **Disadvantage:**\n",
    "   > - KNN algorithm is very time-consuming in analyzing large database. It searches through all the dataset looking for the most similar instances.\n",
    "   > - Choice of k-value is very critical. Higher value of k would include attributes which are significantly different from what we need whereas lower value of k implies missing out of significant attributes.\n",
    "\n",
    "--------------------\n"
   ]
  },
  {
   "cell_type": "markdown",
   "id": "2e1eb491",
   "metadata": {},
   "source": [
    "# Real_Estate dataset Cleaning"
   ]
  },
  {
   "cell_type": "code",
   "execution_count": 98,
   "id": "57e741fb-71c1-46ad-a526-d8f0b1564dc3",
   "metadata": {},
   "outputs": [
    {
     "ename": "KeyError",
     "evalue": "\"['user_id', 'id', 'content', 'imgs', 'refresh', 'profileImg', 'path', 'title'] not found in axis\"",
     "output_type": "error",
     "traceback": [
      "\u001b[1;31m---------------------------------------------------------------------------\u001b[0m",
      "\u001b[1;31mKeyError\u001b[0m                                  Traceback (most recent call last)",
      "Cell \u001b[1;32mIn[98], line 2\u001b[0m\n\u001b[0;32m      1\u001b[0m \u001b[38;5;66;03m# we droped these unrelvanets columns in Real_Estate dataset\u001b[39;00m\n\u001b[1;32m----> 2\u001b[0m \u001b[43mReal_Estate\u001b[49m\u001b[38;5;241;43m.\u001b[39;49m\u001b[43mdrop\u001b[49m\u001b[43m(\u001b[49m\u001b[43m[\u001b[49m\u001b[38;5;124;43m'\u001b[39;49m\u001b[38;5;124;43muser_id\u001b[39;49m\u001b[38;5;124;43m'\u001b[39;49m\u001b[43m,\u001b[49m\u001b[43m \u001b[49m\u001b[38;5;124;43m'\u001b[39;49m\u001b[38;5;124;43mid\u001b[39;49m\u001b[38;5;124;43m'\u001b[39;49m\u001b[43m,\u001b[49m\u001b[43m \u001b[49m\u001b[38;5;124;43m'\u001b[39;49m\u001b[38;5;124;43mcontent\u001b[39;49m\u001b[38;5;124;43m'\u001b[39;49m\u001b[43m,\u001b[49m\u001b[43m \u001b[49m\u001b[38;5;124;43m'\u001b[39;49m\u001b[38;5;124;43mimgs\u001b[39;49m\u001b[38;5;124;43m'\u001b[39;49m\u001b[43m,\u001b[49m\u001b[43m \u001b[49m\u001b[38;5;124;43m'\u001b[39;49m\u001b[38;5;124;43mrefresh\u001b[39;49m\u001b[38;5;124;43m'\u001b[39;49m\u001b[43m,\u001b[49m\u001b[43m \u001b[49m\u001b[38;5;124;43m'\u001b[39;49m\u001b[38;5;124;43mprofileImg\u001b[39;49m\u001b[38;5;124;43m'\u001b[39;49m\u001b[43m,\u001b[49m\u001b[38;5;124;43m'\u001b[39;49m\u001b[38;5;124;43mpath\u001b[39;49m\u001b[38;5;124;43m'\u001b[39;49m\u001b[43m,\u001b[49m\u001b[38;5;124;43m'\u001b[39;49m\u001b[38;5;124;43mtitle\u001b[39;49m\u001b[38;5;124;43m'\u001b[39;49m\u001b[43m]\u001b[49m\u001b[43m,\u001b[49m\u001b[43maxis\u001b[49m\u001b[38;5;241;43m=\u001b[39;49m\u001b[38;5;241;43m1\u001b[39;49m\u001b[43m,\u001b[49m\u001b[43m \u001b[49m\u001b[43minplace\u001b[49m\u001b[38;5;241;43m=\u001b[39;49m\u001b[38;5;28;43;01mTrue\u001b[39;49;00m\u001b[43m)\u001b[49m\n",
      "File \u001b[1;32mc:\\Users\\Suliman\\AppData\\Local\\Programs\\Python\\Python313\\Lib\\site-packages\\pandas\\core\\frame.py:5581\u001b[0m, in \u001b[0;36mDataFrame.drop\u001b[1;34m(self, labels, axis, index, columns, level, inplace, errors)\u001b[0m\n\u001b[0;32m   5433\u001b[0m \u001b[38;5;28;01mdef\u001b[39;00m\u001b[38;5;250m \u001b[39m\u001b[38;5;21mdrop\u001b[39m(\n\u001b[0;32m   5434\u001b[0m     \u001b[38;5;28mself\u001b[39m,\n\u001b[0;32m   5435\u001b[0m     labels: IndexLabel \u001b[38;5;241m|\u001b[39m \u001b[38;5;28;01mNone\u001b[39;00m \u001b[38;5;241m=\u001b[39m \u001b[38;5;28;01mNone\u001b[39;00m,\n\u001b[1;32m   (...)\u001b[0m\n\u001b[0;32m   5442\u001b[0m     errors: IgnoreRaise \u001b[38;5;241m=\u001b[39m \u001b[38;5;124m\"\u001b[39m\u001b[38;5;124mraise\u001b[39m\u001b[38;5;124m\"\u001b[39m,\n\u001b[0;32m   5443\u001b[0m ) \u001b[38;5;241m-\u001b[39m\u001b[38;5;241m>\u001b[39m DataFrame \u001b[38;5;241m|\u001b[39m \u001b[38;5;28;01mNone\u001b[39;00m:\n\u001b[0;32m   5444\u001b[0m \u001b[38;5;250m    \u001b[39m\u001b[38;5;124;03m\"\"\"\u001b[39;00m\n\u001b[0;32m   5445\u001b[0m \u001b[38;5;124;03m    Drop specified labels from rows or columns.\u001b[39;00m\n\u001b[0;32m   5446\u001b[0m \n\u001b[1;32m   (...)\u001b[0m\n\u001b[0;32m   5579\u001b[0m \u001b[38;5;124;03m            weight  1.0     0.8\u001b[39;00m\n\u001b[0;32m   5580\u001b[0m \u001b[38;5;124;03m    \"\"\"\u001b[39;00m\n\u001b[1;32m-> 5581\u001b[0m     \u001b[38;5;28;01mreturn\u001b[39;00m \u001b[38;5;28;43msuper\u001b[39;49m\u001b[43m(\u001b[49m\u001b[43m)\u001b[49m\u001b[38;5;241;43m.\u001b[39;49m\u001b[43mdrop\u001b[49m\u001b[43m(\u001b[49m\n\u001b[0;32m   5582\u001b[0m \u001b[43m        \u001b[49m\u001b[43mlabels\u001b[49m\u001b[38;5;241;43m=\u001b[39;49m\u001b[43mlabels\u001b[49m\u001b[43m,\u001b[49m\n\u001b[0;32m   5583\u001b[0m \u001b[43m        \u001b[49m\u001b[43maxis\u001b[49m\u001b[38;5;241;43m=\u001b[39;49m\u001b[43maxis\u001b[49m\u001b[43m,\u001b[49m\n\u001b[0;32m   5584\u001b[0m \u001b[43m        \u001b[49m\u001b[43mindex\u001b[49m\u001b[38;5;241;43m=\u001b[39;49m\u001b[43mindex\u001b[49m\u001b[43m,\u001b[49m\n\u001b[0;32m   5585\u001b[0m \u001b[43m        \u001b[49m\u001b[43mcolumns\u001b[49m\u001b[38;5;241;43m=\u001b[39;49m\u001b[43mcolumns\u001b[49m\u001b[43m,\u001b[49m\n\u001b[0;32m   5586\u001b[0m \u001b[43m        \u001b[49m\u001b[43mlevel\u001b[49m\u001b[38;5;241;43m=\u001b[39;49m\u001b[43mlevel\u001b[49m\u001b[43m,\u001b[49m\n\u001b[0;32m   5587\u001b[0m \u001b[43m        \u001b[49m\u001b[43minplace\u001b[49m\u001b[38;5;241;43m=\u001b[39;49m\u001b[43minplace\u001b[49m\u001b[43m,\u001b[49m\n\u001b[0;32m   5588\u001b[0m \u001b[43m        \u001b[49m\u001b[43merrors\u001b[49m\u001b[38;5;241;43m=\u001b[39;49m\u001b[43merrors\u001b[49m\u001b[43m,\u001b[49m\n\u001b[0;32m   5589\u001b[0m \u001b[43m    \u001b[49m\u001b[43m)\u001b[49m\n",
      "File \u001b[1;32mc:\\Users\\Suliman\\AppData\\Local\\Programs\\Python\\Python313\\Lib\\site-packages\\pandas\\core\\generic.py:4788\u001b[0m, in \u001b[0;36mNDFrame.drop\u001b[1;34m(self, labels, axis, index, columns, level, inplace, errors)\u001b[0m\n\u001b[0;32m   4786\u001b[0m \u001b[38;5;28;01mfor\u001b[39;00m axis, labels \u001b[38;5;129;01min\u001b[39;00m axes\u001b[38;5;241m.\u001b[39mitems():\n\u001b[0;32m   4787\u001b[0m     \u001b[38;5;28;01mif\u001b[39;00m labels \u001b[38;5;129;01mis\u001b[39;00m \u001b[38;5;129;01mnot\u001b[39;00m \u001b[38;5;28;01mNone\u001b[39;00m:\n\u001b[1;32m-> 4788\u001b[0m         obj \u001b[38;5;241m=\u001b[39m \u001b[43mobj\u001b[49m\u001b[38;5;241;43m.\u001b[39;49m\u001b[43m_drop_axis\u001b[49m\u001b[43m(\u001b[49m\u001b[43mlabels\u001b[49m\u001b[43m,\u001b[49m\u001b[43m \u001b[49m\u001b[43maxis\u001b[49m\u001b[43m,\u001b[49m\u001b[43m \u001b[49m\u001b[43mlevel\u001b[49m\u001b[38;5;241;43m=\u001b[39;49m\u001b[43mlevel\u001b[49m\u001b[43m,\u001b[49m\u001b[43m \u001b[49m\u001b[43merrors\u001b[49m\u001b[38;5;241;43m=\u001b[39;49m\u001b[43merrors\u001b[49m\u001b[43m)\u001b[49m\n\u001b[0;32m   4790\u001b[0m \u001b[38;5;28;01mif\u001b[39;00m inplace:\n\u001b[0;32m   4791\u001b[0m     \u001b[38;5;28mself\u001b[39m\u001b[38;5;241m.\u001b[39m_update_inplace(obj)\n",
      "File \u001b[1;32mc:\\Users\\Suliman\\AppData\\Local\\Programs\\Python\\Python313\\Lib\\site-packages\\pandas\\core\\generic.py:4830\u001b[0m, in \u001b[0;36mNDFrame._drop_axis\u001b[1;34m(self, labels, axis, level, errors, only_slice)\u001b[0m\n\u001b[0;32m   4828\u001b[0m         new_axis \u001b[38;5;241m=\u001b[39m axis\u001b[38;5;241m.\u001b[39mdrop(labels, level\u001b[38;5;241m=\u001b[39mlevel, errors\u001b[38;5;241m=\u001b[39merrors)\n\u001b[0;32m   4829\u001b[0m     \u001b[38;5;28;01melse\u001b[39;00m:\n\u001b[1;32m-> 4830\u001b[0m         new_axis \u001b[38;5;241m=\u001b[39m \u001b[43maxis\u001b[49m\u001b[38;5;241;43m.\u001b[39;49m\u001b[43mdrop\u001b[49m\u001b[43m(\u001b[49m\u001b[43mlabels\u001b[49m\u001b[43m,\u001b[49m\u001b[43m \u001b[49m\u001b[43merrors\u001b[49m\u001b[38;5;241;43m=\u001b[39;49m\u001b[43merrors\u001b[49m\u001b[43m)\u001b[49m\n\u001b[0;32m   4831\u001b[0m     indexer \u001b[38;5;241m=\u001b[39m axis\u001b[38;5;241m.\u001b[39mget_indexer(new_axis)\n\u001b[0;32m   4833\u001b[0m \u001b[38;5;66;03m# Case for non-unique axis\u001b[39;00m\n\u001b[0;32m   4834\u001b[0m \u001b[38;5;28;01melse\u001b[39;00m:\n",
      "File \u001b[1;32mc:\\Users\\Suliman\\AppData\\Local\\Programs\\Python\\Python313\\Lib\\site-packages\\pandas\\core\\indexes\\base.py:7070\u001b[0m, in \u001b[0;36mIndex.drop\u001b[1;34m(self, labels, errors)\u001b[0m\n\u001b[0;32m   7068\u001b[0m \u001b[38;5;28;01mif\u001b[39;00m mask\u001b[38;5;241m.\u001b[39many():\n\u001b[0;32m   7069\u001b[0m     \u001b[38;5;28;01mif\u001b[39;00m errors \u001b[38;5;241m!=\u001b[39m \u001b[38;5;124m\"\u001b[39m\u001b[38;5;124mignore\u001b[39m\u001b[38;5;124m\"\u001b[39m:\n\u001b[1;32m-> 7070\u001b[0m         \u001b[38;5;28;01mraise\u001b[39;00m \u001b[38;5;167;01mKeyError\u001b[39;00m(\u001b[38;5;124mf\u001b[39m\u001b[38;5;124m\"\u001b[39m\u001b[38;5;132;01m{\u001b[39;00mlabels[mask]\u001b[38;5;241m.\u001b[39mtolist()\u001b[38;5;132;01m}\u001b[39;00m\u001b[38;5;124m not found in axis\u001b[39m\u001b[38;5;124m\"\u001b[39m)\n\u001b[0;32m   7071\u001b[0m     indexer \u001b[38;5;241m=\u001b[39m indexer[\u001b[38;5;241m~\u001b[39mmask]\n\u001b[0;32m   7072\u001b[0m \u001b[38;5;28;01mreturn\u001b[39;00m \u001b[38;5;28mself\u001b[39m\u001b[38;5;241m.\u001b[39mdelete(indexer)\n",
      "\u001b[1;31mKeyError\u001b[0m: \"['user_id', 'id', 'content', 'imgs', 'refresh', 'profileImg', 'path', 'title'] not found in axis\""
     ]
    }
   ],
   "source": [
    "# we droped these unrelvanets columns in Real_Estate dataset\n",
    "Real_Estate.drop(['user_id', 'id', 'content', 'imgs', 'refresh', 'profileImg','path','title'],axis=1, inplace=True)"
   ]
  },
  {
   "cell_type": "code",
   "execution_count": null,
   "id": "f3fad6c2",
   "metadata": {},
   "outputs": [],
   "source": [
    "# we droped these unrelvanets columns in Real_Estate dataset\n",
    "Real_Estate.drop(['width', 'length'],axis=1, inplace=True)"
   ]
  },
  {
   "cell_type": "code",
   "execution_count": null,
   "id": "b01f3744",
   "metadata": {},
   "outputs": [],
   "source": [
    "Real_Estate['advertiser_type']=Real_Estate['advertiser_type'].fillna('unknown')\n",
    "Real_Estate['UserName']=Real_Estate['UserName'].fillna('unknown')"
   ]
  },
  {
   "cell_type": "code",
   "execution_count": null,
   "id": "6d7f7ce0",
   "metadata": {},
   "outputs": [],
   "source": [
    "Real_Estate['area']=Real_Estate['area'].fillna(0)\n",
    "Real_Estate['review']=Real_Estate['review'].fillna(0.0)"
   ]
  },
  {
   "cell_type": "code",
   "execution_count": null,
   "id": "162afb7b",
   "metadata": {},
   "outputs": [],
   "source": [
    "Real_Estate['age']=Real_Estate['age'].fillna(999)"
   ]
  },
  {
   "cell_type": "code",
   "execution_count": null,
   "id": "376cc51d",
   "metadata": {},
   "outputs": [],
   "source": [
    "median_value = Real_Estate['street_width'].median()\n",
    "Real_Estate['street_width'] = Real_Estate['street_width'].fillna(median_value)"
   ]
  },
  {
   "cell_type": "code",
   "execution_count": null,
   "id": "79e04c79",
   "metadata": {},
   "outputs": [],
   "source": [
    "# we assume that if it is -1 then it is unknown how many living room \n",
    "Real_Estate['livings'] = Real_Estate['livings'].fillna(-1)\n",
    "Real_Estate['livings'] = Real_Estate['livings'].astype(int)"
   ]
  },
  {
   "cell_type": "code",
   "execution_count": null,
   "id": "6fe33280",
   "metadata": {},
   "outputs": [],
   "source": [
    "# we change the values of ketchen,ac,iam_verified and furnished and fill the missing values\n",
    "Real_Estate['ketchen'] = Real_Estate['ketchen'].replace({1: 'yes', 0: 'no'}).fillna('unknown')\n",
    "Real_Estate['iam_verified'] = Real_Estate['iam_verified'].replace({True: 'yes', False: 'no'}).fillna('unknown')\n",
    "Real_Estate['ac'] = Real_Estate['ac'].replace({1: 'yes', 0: 'no'}).fillna('unknown')\n",
    "Real_Estate['furnished'] = Real_Estate['furnished'].replace({1: 'yes', 0: 'no'}).fillna('unknown')"
   ]
  },
  {
   "cell_type": "code",
   "execution_count": null,
   "id": "67a222be",
   "metadata": {},
   "outputs": [],
   "source": [
    "#Using eval to read the location values as dictionaries and then stroing the lat and lng values in latitude and longitude\n",
    "Real_Estate['latitude'] = Real_Estate['location'].apply(lambda x: eval(x)['lat'])\n",
    "Real_Estate['longitude'] = Real_Estate['location'].apply(lambda x: eval(x)['lng'])"
   ]
  },
  {
   "cell_type": "code",
   "execution_count": null,
   "id": "88a79c98",
   "metadata": {},
   "outputs": [],
   "source": [
    "Real_Estate['last_update'] = pd.to_datetime(Real_Estate['last_update'].apply(lambda x: ' '.join(eval(x))))\n",
    "Real_Estate['create_time'] = pd.to_datetime(Real_Estate['create_time'].apply(lambda x: ' '.join(eval(x))))"
   ]
  },
  {
   "cell_type": "code",
   "execution_count": null,
   "id": "a61692e0",
   "metadata": {},
   "outputs": [],
   "source": [
    "Real_Estate.rename(columns={'ketchen': 'kitchen'}, inplace=True)"
   ]
  },
  {
   "cell_type": "markdown",
   "id": "10a494a6",
   "metadata": {},
   "source": [
    "# Riyadh_Aqqar_Land dataset Cleaning"
   ]
  },
  {
   "cell_type": "code",
   "execution_count": null,
   "id": "ba27d47b",
   "metadata": {},
   "outputs": [],
   "source": [
    "Riyadh_Aqqar_Land['الغرض']=Riyadh_Aqqar_Land['الغرض'].fillna('غير معروف')"
   ]
  },
  {
   "cell_type": "code",
   "execution_count": null,
   "id": "a609a63e",
   "metadata": {},
   "outputs": [],
   "source": [
    "Riyadh_Aqqar_Land['الواجهة'] = Riyadh_Aqqar_Land['الواجهة'].replace(\n",
    "    {'ثلاث شوارع': 'غير معروف', 'أربع شوارع': 'غير معروف'}\n",
    ")"
   ]
  },
  {
   "cell_type": "code",
   "execution_count": null,
   "id": "3411c90f",
   "metadata": {},
   "outputs": [],
   "source": [
    "Riyadh_Aqqar_Land['الحي']=Riyadh_Aqqar_Land['الحي'].str.replace(' حي', '', regex=False)\n",
    "Riyadh_Aqqar_Land['الحي'] = Riyadh_Aqqar_Land['الحي'].str.strip()"
   ]
  },
  {
   "cell_type": "code",
   "execution_count": null,
   "id": "8e67e844",
   "metadata": {},
   "outputs": [],
   "source": [
    "# List of cities that should not be changed to 'الرياض'\n",
    "exclude_cities = ['الدرعية', 'حريملاء', 'العيينة', 'الجبيلة', 'الخرج', 'ضرما', 'رماح']\n",
    "\n",
    "# Strip any leading/trailing whitespaces from the cities\n",
    "Riyadh_Aqqar_Land['المدينة'] = Riyadh_Aqqar_Land['المدينة'].str.strip()\n",
    "\n",
    "# Apply the change to the 'المدينة' column\n",
    "Riyadh_Aqqar_Land['المدينة'] = Riyadh_Aqqar_Land['المدينة'].apply(\n",
    "    lambda x: 'الرياض' if x not in exclude_cities else x\n",
    ")\n"
   ]
  },
  {
   "cell_type": "code",
   "execution_count": null,
   "id": "2117a7ce",
   "metadata": {},
   "outputs": [
    {
     "data": {
      "text/plain": [
       "array(['الرياض', 'غرناطة', 'اليرموك', 'النسيم الغربي', 'الرمال',\n",
       "       'الملك فيصل', 'المعيزلة', 'الشرق', 'المونسية', 'الروضة', 'المشرق',\n",
       "       'الخليج', 'الشهداء', 'الحمراء', 'البيان', 'قرطبة', 'القادسية',\n",
       "       'النهضة', 'الصناعية القديمة', 'العلا', 'الجنادرية', 'المعيزيلة',\n",
       "       'السعادة', 'النسيم الشرقي', 'خشم العان', 'الصفا', 'اشبيلية',\n",
       "       'طريق سعيد ابن زيد', 'القدس', 'الاندلس', 'الشعلة', 'الندوة',\n",
       "       'الفيحاء', 'غير معروف', 'امارة منطقة الرياض', 'المنار', 'السلام',\n",
       "       'الزاهر', 'الجزيرة', 'النظيم', 'الازدهار', 'الملز', 'العارض',\n",
       "       'النرجس', 'العيينة', 'الملقا', 'الغنامية', 'عرقة', 'المهدية',\n",
       "       'الدار البيضاء', 'سلطانة', 'الندى', 'ظهرة لبن', 'العين', 'حطين',\n",
       "       'الهدا', 'طويق', 'المنصورة', 'عريض', 'المناخ', 'القيروان',\n",
       "       'ضاحية نمار', 'الخير', 'الصحافة', 'العوالي', 'النخيل', 'ظهرة نمار',\n",
       "       'طريق النفود', 'الحزم', 'عكاظ', 'بنبان', 'السويدي', 'البديعة',\n",
       "       'الملك فهد', 'المحمدية', 'منفوحة الجديدة', 'الربيع', 'العقيق',\n",
       "       'النفل', 'البرية', 'المروة', 'العزيزية', 'شبرا', 'المربع', 'الشفا',\n",
       "       'السلي', 'المغرزات', 'بدر', 'المروج', 'المشاعل', 'العليا',\n",
       "       'المصانع', 'الياسمين', 'ثليم', 'ملهم', 'اليمامة', 'عقرباء',\n",
       "       'الوادي', 'طيبة', 'الملك عبدالله', 'الرفيعة', 'الناصرية',\n",
       "       'أم الحمام الغربي', 'المصيف', 'سدوس', 'العريجاء الوسطى', 'القرينة',\n",
       "       'نمار', 'الزهرة', 'الربوة', 'الوزارات', 'منفوحة', 'الحائر',\n",
       "       'الفلاح', 'الدفاع', 'الزهراء', 'المصفاة', 'المغرفية', 'عليشة',\n",
       "       'المرسلات', 'الريان', 'الضباط', 'المنصورية', 'الرحمانية',\n",
       "       'القرينه', 'ديراب', 'الغدير', 'ام سليم', 'ضرما',\n",
       "       'مطار الملك خالد الدولي', 'لبن', 'جرير', 'الفاروق', 'السليمانية',\n",
       "       'العريجاء الغربية', 'العريجاء الغربي'], dtype=object)"
      ]
     },
     "execution_count": 370,
     "metadata": {},
     "output_type": "execute_result"
    }
   ],
   "source": [
    "Riyadh_Aqqar_Land[\"الحي\"].unique()"
   ]
  },
  {
   "cell_type": "code",
   "execution_count": null,
   "id": "02f7186f",
   "metadata": {},
   "outputs": [],
   "source": [
    "# Create a dictionary with old names as keys and new names as values\n",
    "name_replacements = {\n",
    "    'شارع السلطان محمد الفاتح': 'طويق',\n",
    "    'شارع سعيد بن عبدالله باقشير': 'المهدية',\n",
    "    'شارع عبدالله بن العاص': 'العارض',\n",
    "    'شارع العين': 'طويق',\n",
    "    \"شارع ابن ماجه\" : \"السلي\"\n",
    "}\n",
    "\n",
    "# Replace the old names with the new ones in the 'الحي' column\n",
    "Riyadh_Aqqar_Land['الحي'] = Riyadh_Aqqar_Land['الحي'].replace(name_replacements)"
   ]
  },
  {
   "cell_type": "code",
   "execution_count": null,
   "id": "6b8bde21",
   "metadata": {},
   "outputs": [],
   "source": [
    "# Replace empty strings with 'غير معروف'\n",
    "Riyadh_Aqqar_Land['الحي'] = Riyadh_Aqqar_Land['الحي'].replace('', 'غير معروف')\n"
   ]
  },
  {
   "cell_type": "markdown",
   "id": "a39b0c3e",
   "metadata": {},
   "source": [
    "# Riyadh_Aqqar_Villas dataset Cleaning"
   ]
  },
  {
   "cell_type": "code",
   "execution_count": null,
   "id": "9df48325",
   "metadata": {},
   "outputs": [],
   "source": [
    "median_value = Riyadh_Aqqar_Villas['عرض الشارع'].median()\n",
    "Riyadh_Aqqar_Villas['عرض الشارع'] = Riyadh_Aqqar_Villas['عرض الشارع'].fillna(median_value)"
   ]
  },
  {
   "cell_type": "code",
   "execution_count": null,
   "id": "ba33a289",
   "metadata": {},
   "outputs": [],
   "source": [
    "Riyadh_Aqqar_Villas['عدد الصالات']=Riyadh_Aqqar_Villas['عدد الصالات'].fillna('غير معروف')"
   ]
  },
  {
   "cell_type": "code",
   "execution_count": null,
   "id": "d7872b55",
   "metadata": {},
   "outputs": [],
   "source": [
    "Riyadh_Aqqar_Villas['عدد الغرف']=Riyadh_Aqqar_Villas['عدد الغرف'].fillna('غير معروف')"
   ]
  },
  {
   "cell_type": "code",
   "execution_count": null,
   "id": "b63b4bea",
   "metadata": {},
   "outputs": [],
   "source": [
    "Riyadh_Aqqar_Villas['عدد الحمامات']=Riyadh_Aqqar_Villas['عدد الحمامات'].fillna('غير معروف')"
   ]
  },
  {
   "cell_type": "code",
   "execution_count": null,
   "id": "793f4a77",
   "metadata": {},
   "outputs": [],
   "source": [
    "Riyadh_Aqqar_Villas['الواجهة'] = Riyadh_Aqqar_Villas['الواجهة'].replace(\n",
    "    {'ثلاث شوارع': 'غير معروف', np.nan: 'غير معروف'}\n",
    ")"
   ]
  },
  {
   "cell_type": "code",
   "execution_count": null,
   "id": "f3828f42",
   "metadata": {},
   "outputs": [],
   "source": [
    "Riyadh_Aqqar_Villas['المساحة']=Riyadh_Aqqar_Villas['المساحة'].fillna(0.0)"
   ]
  },
  {
   "cell_type": "code",
   "execution_count": null,
   "id": "d1627a49",
   "metadata": {},
   "outputs": [],
   "source": [
    "import pandas as pd\n",
    "Riyadh_Aqqar_Villas['الحي']=Riyadh_Aqqar_Villas['الحي'].str.replace(' حي', '', regex=False)\n",
    "Riyadh_Aqqar_Villas['الحي'] = Riyadh_Aqqar_Villas['الحي'].str.strip()\n",
    "\n",
    "# Remove numbers from the 'الحي' column\n",
    "Riyadh_Aqqar_Villas['الحي'] = Riyadh_Aqqar_Villas['الحي'].str.replace(r'\\d+', '', regex=True)\n",
    "\n",
    "# Replace empty strings with 'غير معروف'\n",
    "Riyadh_Aqqar_Villas['الحي'] = Riyadh_Aqqar_Villas['الحي'].replace('', 'غير معروف')\n",
    "\n",
    "# Optionally, remove any leading or trailing spaces after number removal\n",
    "Riyadh_Aqqar_Villas['الحي'] = Riyadh_Aqqar_Villas['الحي'].str.strip()\n"
   ]
  },
  {
   "cell_type": "code",
   "execution_count": null,
   "id": "906648c7",
   "metadata": {},
   "outputs": [
    {
     "data": {
      "text/plain": [
       "array(['العارض', 'النرجس', 'الملقا', 'النخيل', 'التعاون', 'الوادي',\n",
       "       'الرياض', 'جامعة الملك سعود', 'الربيع', 'العيينة', 'العقيق',\n",
       "       'الياسمين', 'العليا', 'النزهة', 'القيروان', 'النفل', 'الفلاح',\n",
       "       'القرينه', 'الرحمانية', 'المصيف', 'الندى', 'الصحافة', 'المحمدية',\n",
       "       'المروج', 'حطين', 'الملك فهد', 'صلاح الدين', 'المونسية', 'القدس',\n",
       "       'الخليج', 'الرمال', 'النسيم الغربي', 'الريان', 'الروضة', 'الحمراء',\n",
       "       'النسيم الشرقي', 'اشبيلية', 'النهضة', 'القادسية', 'قرطبة',\n",
       "       'اليرموك', 'الملك فيصل', 'الصفا', 'النظيم', 'النسيم', 'البيان',\n",
       "       'السعادة', 'الاندلس', 'غير معروف', 'الجنادرية', 'الازدهار',\n",
       "       'غرناطة', 'المعيزلة', 'الفيحاء', 'مطار الملك خالد الدولي', 'الملز',\n",
       "       'السلام', 'الشهداء', 'الروابي', 'المنار', 'ظهرة لبن', 'المهدية',\n",
       "       'العريجاء الغربي', 'طويق', 'ظهرة البديعة', 'نمار', 'الحزم',\n",
       "       'الزهرة', 'هجرة لبن', 'الرفيعة', 'العوالي', 'شبرا', 'لبن',\n",
       "       'العريجاء الوسطى', 'العريجاء الغربية', 'السويدي الغربي',\n",
       "       'الطريق الدائري الغربي', 'عكاظ', 'الدار البيضاء', 'بدر', 'الشفا',\n",
       "       'طيبة', 'العزيزية', 'المناخ', 'احد', 'الاسكان', 'جرير', 'الربوة',\n",
       "       'الفاروق', 'الخالدية', 'الزهراء', 'الشرق', 'الندوة',\n",
       "       'الملك عبدالعزيز', 'المعيزيلة', 'الجزيرة', 'الملك عبد العزيز'],\n",
       "      dtype=object)"
      ]
     },
     "execution_count": 380,
     "metadata": {},
     "output_type": "execute_result"
    }
   ],
   "source": [
    "Riyadh_Aqqar_Villas['الحي'].unique()"
   ]
  },
  {
   "cell_type": "code",
   "execution_count": null,
   "id": "38c14fcd",
   "metadata": {},
   "outputs": [],
   "source": [
    "# Create a dictionary with old names as keys and new names as values\n",
    "name_replacements = {\n",
    "    'شارع سعيد السلمي': 'النخيل',\n",
    "    'شارع جبل مره': 'النسيم',\n",
    "    'شارع ابراهيم القيسي': 'الازدهار',\n",
    "    'طريق الامير مساعد بن عبدالرحمن بن فيصل': 'العريجاء الوسطى',\n",
    "}\n",
    "\n",
    "# Replace the old names with the new ones in the 'الحي' column\n",
    "Riyadh_Aqqar_Villas['الحي'] = Riyadh_Aqqar_Villas['الحي'].replace(name_replacements)"
   ]
  },
  {
   "cell_type": "code",
   "execution_count": null,
   "id": "c76eb622",
   "metadata": {},
   "outputs": [],
   "source": [
    "Riyadh_Aqqar_Villas['درج صالة']=Riyadh_Aqqar_Villas['درج صالة'].astype(bool)\n",
    "Riyadh_Aqqar_Villas['مطبخ']=Riyadh_Aqqar_Villas[\"مطبخ\"].astype(bool)\n",
    "Riyadh_Aqqar_Villas[\"غرفة خادمة\"]=Riyadh_Aqqar_Villas[\"غرفة خادمة\"].astype(bool)\n",
    "Riyadh_Aqqar_Villas[\"غرفة سائق\"]=Riyadh_Aqqar_Villas['غرفة سائق'].astype(bool)\n",
    "Riyadh_Aqqar_Villas['ملحق']=Riyadh_Aqqar_Villas[\"ملحق\"].astype(bool)\n",
    "Riyadh_Aqqar_Villas['حوش']=Riyadh_Aqqar_Villas['حوش'].astype(bool)\n",
    "Riyadh_Aqqar_Villas['مسبح']=Riyadh_Aqqar_Villas['مسبح'].astype(bool)\n",
    "Riyadh_Aqqar_Villas['قبو']=Riyadh_Aqqar_Villas['قبو'].astype(bool)\n",
    "Riyadh_Aqqar_Villas['مدخل سيارة']=Riyadh_Aqqar_Villas['مدخل سيارة'].astype(bool)\n",
    "Riyadh_Aqqar_Villas['مصعد']=Riyadh_Aqqar_Villas['مصعد'].astype(bool)"
   ]
  },
  {
   "cell_type": "code",
   "execution_count": null,
   "id": "b23bad6b",
   "metadata": {},
   "outputs": [
    {
     "data": {
      "text/html": [
       "<div>\n",
       "<style scoped>\n",
       "    .dataframe tbody tr th:only-of-type {\n",
       "        vertical-align: middle;\n",
       "    }\n",
       "\n",
       "    .dataframe tbody tr th {\n",
       "        vertical-align: top;\n",
       "    }\n",
       "\n",
       "    .dataframe thead th {\n",
       "        text-align: right;\n",
       "    }\n",
       "</style>\n",
       "<table border=\"1\" class=\"dataframe\">\n",
       "  <thead>\n",
       "    <tr style=\"text-align: right;\">\n",
       "      <th></th>\n",
       "      <th>نوع العقار</th>\n",
       "      <th>المدينة</th>\n",
       "      <th>الحي</th>\n",
       "      <th>الواجهة</th>\n",
       "      <th>عدد الغرف</th>\n",
       "      <th>عدد الصالات</th>\n",
       "      <th>عدد الحمامات</th>\n",
       "      <th>عرض الشارع</th>\n",
       "      <th>المساحة</th>\n",
       "      <th>درج صالة</th>\n",
       "      <th>مطبخ</th>\n",
       "      <th>غرفة خادمة</th>\n",
       "      <th>غرفة سائق</th>\n",
       "      <th>ملحق</th>\n",
       "      <th>حوش</th>\n",
       "      <th>مسبح</th>\n",
       "      <th>قبو</th>\n",
       "      <th>مدخل سيارة</th>\n",
       "      <th>مصعد</th>\n",
       "      <th>السعر الاجمالي</th>\n",
       "    </tr>\n",
       "  </thead>\n",
       "  <tbody>\n",
       "    <tr>\n",
       "      <th>0</th>\n",
       "      <td>فيلا</td>\n",
       "      <td>الرياض</td>\n",
       "      <td>العارض</td>\n",
       "      <td>جنوبية</td>\n",
       "      <td>6</td>\n",
       "      <td>3</td>\n",
       "      <td>5+</td>\n",
       "      <td>18.0</td>\n",
       "      <td>244.0</td>\n",
       "      <td>True</td>\n",
       "      <td>True</td>\n",
       "      <td>True</td>\n",
       "      <td>True</td>\n",
       "      <td>False</td>\n",
       "      <td>True</td>\n",
       "      <td>False</td>\n",
       "      <td>False</td>\n",
       "      <td>True</td>\n",
       "      <td>True</td>\n",
       "      <td>2300000</td>\n",
       "    </tr>\n",
       "    <tr>\n",
       "      <th>1</th>\n",
       "      <td>فيلا</td>\n",
       "      <td>الرياض</td>\n",
       "      <td>العارض</td>\n",
       "      <td>جنوبية</td>\n",
       "      <td>6</td>\n",
       "      <td>4</td>\n",
       "      <td>5+</td>\n",
       "      <td>18.0</td>\n",
       "      <td>322.0</td>\n",
       "      <td>True</td>\n",
       "      <td>True</td>\n",
       "      <td>True</td>\n",
       "      <td>True</td>\n",
       "      <td>True</td>\n",
       "      <td>True</td>\n",
       "      <td>False</td>\n",
       "      <td>False</td>\n",
       "      <td>True</td>\n",
       "      <td>True</td>\n",
       "      <td>3000000</td>\n",
       "    </tr>\n",
       "    <tr>\n",
       "      <th>2</th>\n",
       "      <td>فيلا</td>\n",
       "      <td>الرياض</td>\n",
       "      <td>العارض</td>\n",
       "      <td>جنوبية</td>\n",
       "      <td>3</td>\n",
       "      <td>2</td>\n",
       "      <td>5+</td>\n",
       "      <td>18.0</td>\n",
       "      <td>350.0</td>\n",
       "      <td>True</td>\n",
       "      <td>False</td>\n",
       "      <td>True</td>\n",
       "      <td>False</td>\n",
       "      <td>True</td>\n",
       "      <td>False</td>\n",
       "      <td>False</td>\n",
       "      <td>True</td>\n",
       "      <td>True</td>\n",
       "      <td>True</td>\n",
       "      <td>2600000</td>\n",
       "    </tr>\n",
       "    <tr>\n",
       "      <th>3</th>\n",
       "      <td>فيلا</td>\n",
       "      <td>الرياض</td>\n",
       "      <td>النرجس</td>\n",
       "      <td>جنوبية</td>\n",
       "      <td>4</td>\n",
       "      <td>4</td>\n",
       "      <td>4</td>\n",
       "      <td>18.0</td>\n",
       "      <td>350.0</td>\n",
       "      <td>True</td>\n",
       "      <td>True</td>\n",
       "      <td>True</td>\n",
       "      <td>False</td>\n",
       "      <td>False</td>\n",
       "      <td>True</td>\n",
       "      <td>False</td>\n",
       "      <td>True</td>\n",
       "      <td>True</td>\n",
       "      <td>True</td>\n",
       "      <td>2600000</td>\n",
       "    </tr>\n",
       "    <tr>\n",
       "      <th>4</th>\n",
       "      <td>فيلا</td>\n",
       "      <td>الرياض</td>\n",
       "      <td>العارض</td>\n",
       "      <td>غربية</td>\n",
       "      <td>4</td>\n",
       "      <td>1</td>\n",
       "      <td>5+</td>\n",
       "      <td>18.0</td>\n",
       "      <td>270.0</td>\n",
       "      <td>True</td>\n",
       "      <td>True</td>\n",
       "      <td>True</td>\n",
       "      <td>True</td>\n",
       "      <td>False</td>\n",
       "      <td>False</td>\n",
       "      <td>False</td>\n",
       "      <td>False</td>\n",
       "      <td>True</td>\n",
       "      <td>False</td>\n",
       "      <td>2800000</td>\n",
       "    </tr>\n",
       "  </tbody>\n",
       "</table>\n",
       "</div>"
      ],
      "text/plain": [
       "  نوع العقار   المدينة    الحي الواجهة عدد الغرف عدد الصالات عدد الحمامات  \\\n",
       "0       فيلا   الرياض   العارض  جنوبية         6           3           5+   \n",
       "1       فيلا   الرياض   العارض  جنوبية         6           4           5+   \n",
       "2       فيلا   الرياض   العارض  جنوبية         3           2           5+   \n",
       "3       فيلا   الرياض   النرجس  جنوبية         4           4            4   \n",
       "4       فيلا   الرياض   العارض   غربية         4           1           5+   \n",
       "\n",
       "   عرض الشارع  المساحة  درج صالة   مطبخ  غرفة خادمة  غرفة سائق   ملحق    حوش  \\\n",
       "0        18.0    244.0      True   True        True       True  False   True   \n",
       "1        18.0    322.0      True   True        True       True   True   True   \n",
       "2        18.0    350.0      True  False        True      False   True  False   \n",
       "3        18.0    350.0      True   True        True      False  False   True   \n",
       "4        18.0    270.0      True   True        True       True  False  False   \n",
       "\n",
       "    مسبح    قبو  مدخل سيارة   مصعد  السعر الاجمالي  \n",
       "0  False  False        True   True         2300000  \n",
       "1  False  False        True   True         3000000  \n",
       "2  False   True        True   True         2600000  \n",
       "3  False   True        True   True         2600000  \n",
       "4  False  False        True  False         2800000  "
      ]
     },
     "execution_count": 116,
     "metadata": {},
     "output_type": "execute_result"
    }
   ],
   "source": [
    "Riyadh_Aqqar_Villas.head()"
   ]
  },
  {
   "cell_type": "markdown",
   "id": "541f583b",
   "metadata": {},
   "source": [
    "# Riyadh_Aqqar_Apartments Cleaning"
   ]
  },
  {
   "cell_type": "code",
   "execution_count": null,
   "id": "f37f8fc9",
   "metadata": {},
   "outputs": [],
   "source": [
    "Riyadh_Aqqar_Apartments['الواجهة'] = Riyadh_Aqqar_Apartments['الواجهة'].replace(\n",
    "    {'ثلاث شوارع': 'غير معروف', np.nan: 'غير معروف'}\n",
    ")"
   ]
  },
  {
   "cell_type": "code",
   "execution_count": null,
   "id": "4bfe9ffe",
   "metadata": {},
   "outputs": [],
   "source": [
    "Riyadh_Aqqar_Apartments['عدد الصالات']=Riyadh_Aqqar_Apartments['عدد الصالات'].fillna(999)"
   ]
  },
  {
   "cell_type": "code",
   "execution_count": null,
   "id": "0eaa1ac1",
   "metadata": {},
   "outputs": [],
   "source": [
    "Riyadh_Aqqar_Apartments['عمر العقار']=Riyadh_Aqqar_Apartments['عمر العقار'].fillna(999)"
   ]
  },
  {
   "cell_type": "code",
   "execution_count": null,
   "id": "e7935aa2",
   "metadata": {},
   "outputs": [],
   "source": [
    "Riyadh_Aqqar_Apartments['عمر العقار']=Riyadh_Aqqar_Apartments['عمر العقار'].astype(int)\n",
    "Riyadh_Aqqar_Apartments['عدد الصالات']=Riyadh_Aqqar_Apartments['عدد الصالات'].astype(int)"
   ]
  },
  {
   "cell_type": "code",
   "execution_count": null,
   "id": "dd5746bc",
   "metadata": {},
   "outputs": [],
   "source": [
    "#Create a mapping for numbers to Arabic words\n",
    "num_to_arabic = {\n",
    "    '1': 'الأول',\n",
    "    '2': 'الثاني',\n",
    "    '3': 'الثالث',\n",
    "    '4': 'الرابع',\n",
    "    '5': 'الخامس',\n",
    "    '6': 'السادس',\n",
    "    '7': 'السابع',\n",
    "    '8': 'الثامن',\n",
    "    '9': 'التاسع',\n",
    "    '10': 'العاشر',\n",
    "    '20': 'العشرون',\n",
    "    '59': 'التاسع والخمسون'\n",
    "}\n",
    "\n",
    "def clean_floor(value):\n",
    "    if pd.isna(value):\n",
    "        return 'غير معروف'\n",
    "    value = str(value).strip()\n",
    "    # Remove unwanted words and symbols\n",
    "    value = value.replace('دور', '').replace('+', '').strip()\n",
    "    # Check if it's a number\n",
    "    if value.isdigit():\n",
    "        return num_to_arabic.get(value, value)\n",
    "    # If it's already in words, just return\n",
    "    return value\n",
    "\n",
    "\n",
    "#Apply the function to the column\n",
    "Riyadh_Aqqar_Apartments['الدور']=Riyadh_Aqqar_Apartments['الدور'].apply(clean_floor)"
   ]
  },
  {
   "cell_type": "code",
   "execution_count": null,
   "id": "9a100cf4",
   "metadata": {},
   "outputs": [],
   "source": [
    "def unify_floor(value):\n",
    "    if value == 'غير معروف':\n",
    "        return value\n",
    "    # Normalize whitespace and remove duplicates\n",
    "    value = value.strip()\n",
    "    if value == 'ارضي':\n",
    "        value = 'الأرضي'\n",
    "    if not value.startswith('ال') and value != 'غير معروف':\n",
    "        value = 'ال' + value\n",
    "    return value\n",
    "\n",
    "Riyadh_Aqqar_Apartments['الدور'] = Riyadh_Aqqar_Apartments['الدور'].apply(unify_floor)"
   ]
  },
  {
   "cell_type": "code",
   "execution_count": null,
   "id": "1f16d740",
   "metadata": {},
   "outputs": [],
   "source": [
    "Riyadh_Aqqar_Apartments['مطبخ']=Riyadh_Aqqar_Apartments[\"مطبخ\"].astype(bool)\n",
    "Riyadh_Aqqar_Apartments['مدخل سيارة']=Riyadh_Aqqar_Apartments['مدخل سيارة'].astype(bool)\n",
    "Riyadh_Aqqar_Apartments['مصعد']=Riyadh_Aqqar_Apartments['مصعد'].astype(bool)\n",
    "Riyadh_Aqqar_Apartments['مؤثثة']=Riyadh_Aqqar_Apartments['مؤثثة'].astype(bool)"
   ]
  },
  {
   "cell_type": "code",
   "execution_count": null,
   "id": "c3dcf99e",
   "metadata": {},
   "outputs": [],
   "source": [
    "\n",
    "# Remove the word 'حي' and strip leading/trailing spaces\n",
    "Riyadh_Aqqar_Apartments['الحي'] = Riyadh_Aqqar_Apartments['الحي'].str.replace(' حي', '', regex=False)\n",
    "Riyadh_Aqqar_Apartments['الحي'] = Riyadh_Aqqar_Apartments['الحي'].str.strip()\n",
    "\n",
    "# Replace empty strings with 'غير معروف'\n",
    "Riyadh_Aqqar_Apartments['الحي'] = Riyadh_Aqqar_Apartments['الحي'].replace('', 'غير معروف')\n"
   ]
  },
  {
   "cell_type": "code",
   "execution_count": null,
   "id": "7a1909ba",
   "metadata": {},
   "outputs": [],
   "source": [
    "# Replace 'الرياض' with 'غير معروف' and 'شارع عبدالله بن العاص' with 'العارض'\n",
    "Riyadh_Aqqar_Apartments['الحي'] = Riyadh_Aqqar_Apartments['الحي'].replace(\n",
    "    {'الرياض ': 'غير معروف', 'شارع عبدالله بن العاص': 'العارض'}\n",
    ")"
   ]
  },
  {
   "cell_type": "code",
   "execution_count": null,
   "id": "dfff05e5",
   "metadata": {},
   "outputs": [],
   "source": [
    "Riyadh_Aqqar_Apartments['المدينة'] = \"الرياض\""
   ]
  },
  {
   "cell_type": "code",
   "execution_count": null,
   "id": "814a98e8",
   "metadata": {},
   "outputs": [],
   "source": [
    "Riyadh_Aqqar_Apartments.drop([260,374], inplace=True)"
   ]
  },
  {
   "cell_type": "code",
   "execution_count": null,
   "id": "d178e40b",
   "metadata": {},
   "outputs": [
    {
     "data": {
      "text/html": [
       "<div>\n",
       "<style scoped>\n",
       "    .dataframe tbody tr th:only-of-type {\n",
       "        vertical-align: middle;\n",
       "    }\n",
       "\n",
       "    .dataframe tbody tr th {\n",
       "        vertical-align: top;\n",
       "    }\n",
       "\n",
       "    .dataframe thead th {\n",
       "        text-align: right;\n",
       "    }\n",
       "</style>\n",
       "<table border=\"1\" class=\"dataframe\">\n",
       "  <thead>\n",
       "    <tr style=\"text-align: right;\">\n",
       "      <th></th>\n",
       "      <th>نوع العقار</th>\n",
       "      <th>المدينة</th>\n",
       "      <th>الحي</th>\n",
       "      <th>الواجهة</th>\n",
       "      <th>عدد الغرف</th>\n",
       "      <th>عدد الصالات</th>\n",
       "      <th>عدد الحمامات</th>\n",
       "      <th>المساحة</th>\n",
       "      <th>مطبخ</th>\n",
       "      <th>مدخل سيارة</th>\n",
       "      <th>مصعد</th>\n",
       "      <th>الدور</th>\n",
       "      <th>عمر العقار</th>\n",
       "      <th>مؤثثة</th>\n",
       "      <th>السعر الاجمالي</th>\n",
       "    </tr>\n",
       "  </thead>\n",
       "  <tbody>\n",
       "    <tr>\n",
       "      <th>193</th>\n",
       "      <td>شقة</td>\n",
       "      <td>الرياض</td>\n",
       "      <td>العقيق</td>\n",
       "      <td>شمالية غربية</td>\n",
       "      <td>3</td>\n",
       "      <td>1</td>\n",
       "      <td>3</td>\n",
       "      <td>162</td>\n",
       "      <td>True</td>\n",
       "      <td>True</td>\n",
       "      <td>True</td>\n",
       "      <td>الثالث</td>\n",
       "      <td>0</td>\n",
       "      <td>False</td>\n",
       "      <td>700000</td>\n",
       "    </tr>\n",
       "    <tr>\n",
       "      <th>488</th>\n",
       "      <td>شقة</td>\n",
       "      <td>الرياض</td>\n",
       "      <td>العقيق</td>\n",
       "      <td>غير معروف</td>\n",
       "      <td>3</td>\n",
       "      <td>2</td>\n",
       "      <td>3</td>\n",
       "      <td>123</td>\n",
       "      <td>True</td>\n",
       "      <td>False</td>\n",
       "      <td>True</td>\n",
       "      <td>الأرضي</td>\n",
       "      <td>11</td>\n",
       "      <td>False</td>\n",
       "      <td>700000</td>\n",
       "    </tr>\n",
       "  </tbody>\n",
       "</table>\n",
       "</div>"
      ],
      "text/plain": [
       "    نوع العقار المدينة    الحي       الواجهة  عدد الغرف  عدد الصالات  \\\n",
       "193        شقة  الرياض  العقيق  شمالية غربية          3            1   \n",
       "488        شقة  الرياض  العقيق     غير معروف          3            2   \n",
       "\n",
       "    عدد الحمامات  المساحة  مطبخ  مدخل سيارة  مصعد   الدور  عمر العقار  مؤثثة  \\\n",
       "193            3      162  True        True  True  الثالث           0  False   \n",
       "488            3      123  True       False  True  الأرضي          11  False   \n",
       "\n",
       "     السعر الاجمالي  \n",
       "193          700000  \n",
       "488          700000  "
      ]
     },
     "execution_count": 128,
     "metadata": {},
     "output_type": "execute_result"
    }
   ],
   "source": [
    "Riyadh_Aqqar_Apartments[Riyadh_Aqqar_Apartments['السعر الاجمالي']== 700000]"
   ]
  },
  {
   "cell_type": "code",
   "execution_count": null,
   "id": "8ef7194d",
   "metadata": {},
   "outputs": [
    {
     "data": {
      "text/html": [
       "<div>\n",
       "<style scoped>\n",
       "    .dataframe tbody tr th:only-of-type {\n",
       "        vertical-align: middle;\n",
       "    }\n",
       "\n",
       "    .dataframe tbody tr th {\n",
       "        vertical-align: top;\n",
       "    }\n",
       "\n",
       "    .dataframe thead th {\n",
       "        text-align: right;\n",
       "    }\n",
       "</style>\n",
       "<table border=\"1\" class=\"dataframe\">\n",
       "  <thead>\n",
       "    <tr style=\"text-align: right;\">\n",
       "      <th></th>\n",
       "      <th>نوع العقار</th>\n",
       "      <th>المدينة</th>\n",
       "      <th>الحي</th>\n",
       "      <th>الواجهة</th>\n",
       "      <th>عدد الغرف</th>\n",
       "      <th>عدد الصالات</th>\n",
       "      <th>عدد الحمامات</th>\n",
       "      <th>المساحة</th>\n",
       "      <th>مطبخ</th>\n",
       "      <th>مدخل سيارة</th>\n",
       "      <th>مصعد</th>\n",
       "      <th>الدور</th>\n",
       "      <th>عمر العقار</th>\n",
       "      <th>مؤثثة</th>\n",
       "      <th>السعر الاجمالي</th>\n",
       "    </tr>\n",
       "  </thead>\n",
       "  <tbody>\n",
       "    <tr>\n",
       "      <th>0</th>\n",
       "      <td>شقة</td>\n",
       "      <td>الرياض</td>\n",
       "      <td>المروج</td>\n",
       "      <td>جنوبية</td>\n",
       "      <td>4</td>\n",
       "      <td>1</td>\n",
       "      <td>3</td>\n",
       "      <td>249</td>\n",
       "      <td>True</td>\n",
       "      <td>False</td>\n",
       "      <td>True</td>\n",
       "      <td>الثالث</td>\n",
       "      <td>0</td>\n",
       "      <td>False</td>\n",
       "      <td>1434000</td>\n",
       "    </tr>\n",
       "    <tr>\n",
       "      <th>1</th>\n",
       "      <td>شقة</td>\n",
       "      <td>الرياض</td>\n",
       "      <td>العارض</td>\n",
       "      <td>شمالية غربية</td>\n",
       "      <td>3</td>\n",
       "      <td>1</td>\n",
       "      <td>3</td>\n",
       "      <td>199</td>\n",
       "      <td>False</td>\n",
       "      <td>False</td>\n",
       "      <td>True</td>\n",
       "      <td>العلوي</td>\n",
       "      <td>0</td>\n",
       "      <td>False</td>\n",
       "      <td>980000</td>\n",
       "    </tr>\n",
       "    <tr>\n",
       "      <th>2</th>\n",
       "      <td>شقة</td>\n",
       "      <td>الرياض</td>\n",
       "      <td>النرجس</td>\n",
       "      <td>غير معروف</td>\n",
       "      <td>3</td>\n",
       "      <td>1</td>\n",
       "      <td>3</td>\n",
       "      <td>145</td>\n",
       "      <td>True</td>\n",
       "      <td>False</td>\n",
       "      <td>True</td>\n",
       "      <td>الأرضي</td>\n",
       "      <td>2</td>\n",
       "      <td>False</td>\n",
       "      <td>1050000</td>\n",
       "    </tr>\n",
       "    <tr>\n",
       "      <th>3</th>\n",
       "      <td>شقة</td>\n",
       "      <td>الرياض</td>\n",
       "      <td>النرجس</td>\n",
       "      <td>شمالية</td>\n",
       "      <td>3</td>\n",
       "      <td>1</td>\n",
       "      <td>3</td>\n",
       "      <td>101</td>\n",
       "      <td>True</td>\n",
       "      <td>False</td>\n",
       "      <td>False</td>\n",
       "      <td>الأرضي</td>\n",
       "      <td>0</td>\n",
       "      <td>True</td>\n",
       "      <td>1200000</td>\n",
       "    </tr>\n",
       "    <tr>\n",
       "      <th>4</th>\n",
       "      <td>شقة</td>\n",
       "      <td>الرياض</td>\n",
       "      <td>الياسمين</td>\n",
       "      <td>شرقية</td>\n",
       "      <td>4</td>\n",
       "      <td>1</td>\n",
       "      <td>3</td>\n",
       "      <td>147</td>\n",
       "      <td>True</td>\n",
       "      <td>False</td>\n",
       "      <td>True</td>\n",
       "      <td>العلوي</td>\n",
       "      <td>2</td>\n",
       "      <td>True</td>\n",
       "      <td>1200000</td>\n",
       "    </tr>\n",
       "  </tbody>\n",
       "</table>\n",
       "</div>"
      ],
      "text/plain": [
       "  نوع العقار المدينة      الحي       الواجهة  عدد الغرف  عدد الصالات  \\\n",
       "0        شقة  الرياض    المروج        جنوبية          4            1   \n",
       "1        شقة  الرياض    العارض  شمالية غربية          3            1   \n",
       "2        شقة  الرياض    النرجس     غير معروف          3            1   \n",
       "3        شقة  الرياض    النرجس        شمالية          3            1   \n",
       "4        شقة  الرياض  الياسمين         شرقية          4            1   \n",
       "\n",
       "  عدد الحمامات  المساحة   مطبخ  مدخل سيارة   مصعد   الدور  عمر العقار  مؤثثة  \\\n",
       "0            3      249   True       False   True  الثالث           0  False   \n",
       "1            3      199  False       False   True  العلوي           0  False   \n",
       "2            3      145   True       False   True  الأرضي           2  False   \n",
       "3            3      101   True       False  False  الأرضي           0   True   \n",
       "4            3      147   True       False   True  العلوي           2   True   \n",
       "\n",
       "   السعر الاجمالي  \n",
       "0         1434000  \n",
       "1          980000  \n",
       "2         1050000  \n",
       "3         1200000  \n",
       "4         1200000  "
      ]
     },
     "execution_count": 129,
     "metadata": {},
     "output_type": "execute_result"
    }
   ],
   "source": [
    "Riyadh_Aqqar_Apartments.head()"
   ]
  },
  {
   "cell_type": "markdown",
   "id": "6937af0f",
   "metadata": {},
   "source": [
    "# Riyadh_VillasAqar dataset cleaning"
   ]
  },
  {
   "cell_type": "code",
   "execution_count": null,
   "id": "535226f8",
   "metadata": {},
   "outputs": [],
   "source": [
    "# we droped these unrelvanets columns in Real_Estate dataset\n",
    "Riyadh_VillasAqar.drop(['Unnamed: 0'],axis=1, inplace=True)"
   ]
  },
  {
   "cell_type": "code",
   "execution_count": null,
   "id": "31547756",
   "metadata": {},
   "outputs": [],
   "source": [
    "median_value = Riyadh_VillasAqar['streetWidth'].median()\n",
    "Riyadh_VillasAqar['streetWidth'] = Riyadh_VillasAqar['streetWidth'].fillna(median_value)"
   ]
  },
  {
   "cell_type": "code",
   "execution_count": null,
   "id": "96c6c15b",
   "metadata": {},
   "outputs": [
    {
     "data": {
      "text/plain": [
       "array([ 20.,  15.,  25.,  10.,  14.,  22.,  21.,  30.,  29.,  28.,  17.,\n",
       "         5.,  16.,  13.,  24.,  19.,  35.,  18.,  61.,  27.,  12.,  31.,\n",
       "        26.,  40.,  36.,   6.,  43.,  11.,  34.,   1.,   2.,  23.,   8.,\n",
       "        45., 100.,  41.,   4.,  50.,  60.,  39.,   9.,  97.,  33.,  37.,\n",
       "        56.,  32.,  38.,  62.,  72.,  96.,  44.,  64.,  42.,  70.,  51.])"
      ]
     },
     "execution_count": 132,
     "metadata": {},
     "output_type": "execute_result"
    }
   ],
   "source": [
    "Riyadh_VillasAqar['streetWidth'].unique()"
   ]
  },
  {
   "cell_type": "code",
   "execution_count": null,
   "id": "e1c9e6b2",
   "metadata": {},
   "outputs": [],
   "source": [
    "Riyadh_VillasAqar['lounges']=Riyadh_VillasAqar['lounges'].fillna('unknown')"
   ]
  },
  {
   "cell_type": "code",
   "execution_count": null,
   "id": "54af4324",
   "metadata": {},
   "outputs": [],
   "source": [
    "Riyadh_VillasAqar['price']=Riyadh_VillasAqar['price'].fillna(0.0)\n",
    "Riyadh_VillasAqar['square price']=Riyadh_VillasAqar['square price'].fillna(0.0)"
   ]
  },
  {
   "cell_type": "code",
   "execution_count": null,
   "id": "e45a3fc8",
   "metadata": {},
   "outputs": [],
   "source": [
    "Riyadh_VillasAqar['front'] = Riyadh_VillasAqar['front'].replace(\n",
    "    {'ثلاث شوارع': 'غير معروف', 'أربع شوارع': 'غير معروف'}\n",
    ")"
   ]
  },
  {
   "cell_type": "code",
   "execution_count": null,
   "id": "d3ae00ba",
   "metadata": {},
   "outputs": [],
   "source": [
    "Riyadh_VillasAqar['maidRoom']=Riyadh_VillasAqar['maidRoom'].astype(bool)\n",
    "Riyadh_VillasAqar['elevator']=Riyadh_VillasAqar[\"elevator\"].astype(bool)\n",
    "Riyadh_VillasAqar[\"furnihsed\"]=Riyadh_VillasAqar[\"furnihsed\"].astype(bool)\n",
    "Riyadh_VillasAqar[\"pool\"]=Riyadh_VillasAqar['pool'].astype(bool)\n",
    "Riyadh_VillasAqar['basement']=Riyadh_VillasAqar[\"basement\"].astype(bool)\n",
    "Riyadh_VillasAqar['duplex']=Riyadh_VillasAqar['duplex'].astype(bool)\n",
    "Riyadh_VillasAqar['garage']=Riyadh_VillasAqar['garage'].astype(bool)\n",
    "Riyadh_VillasAqar['outdoorRoom']=Riyadh_VillasAqar['outdoorRoom'].astype(bool)\n",
    "Riyadh_VillasAqar['kitchen']=Riyadh_VillasAqar['kitchen'].astype(bool)\n",
    "Riyadh_VillasAqar['patio']=Riyadh_VillasAqar['patio'].astype(bool)\n",
    "Riyadh_VillasAqar['tent']=Riyadh_VillasAqar['tent'].astype(bool)\n",
    "Riyadh_VillasAqar['driverRoom']=Riyadh_VillasAqar['driverRoom'].astype(bool)\n",
    "Riyadh_VillasAqar['stairs']=Riyadh_VillasAqar['stairs'].astype(bool)\n"
   ]
  },
  {
   "cell_type": "code",
   "execution_count": null,
   "id": "22a9ef79",
   "metadata": {},
   "outputs": [],
   "source": [
    "known_neighborhoods = [\n",
    "    'الربيع', 'الندى', 'الصحافة', 'النرجس', 'العارض', 'النفل', 'العقيق', 'الوادي', 'الغدير', 'الياسمين',\n",
    "    'الفلاح', 'بنبان', 'القيروان', 'حطين', 'الملقا', 'الروضة', 'الرمال', 'المونسية', 'قرطبة', 'الجنادرية',\n",
    "    'القادسية', 'اليرموك', 'غرناطة', 'أشبيلية', 'الحمراء', 'المعيزلية', 'ظهرة لبن', 'طويق', 'نمار', 'العريجاء الغربية',\n",
    "    'المهدية', 'الحزم', 'السويدي الغربي', 'العريجاء الوسطى', 'ام الحمام الغربي', 'الزهرة', 'البديعة', 'السويدي', 'عرقة',\n",
    "    'الجرادية', 'ظهرة البديعة', 'ديراب', 'لبن', 'الدريهمية', 'ام الحمام الشرقي', 'سلطانة', 'شبرا', 'الرائد', 'الرفيعة',\n",
    "    'الفاخرية', 'العريجاء', 'عليشة', 'الخزامى', 'الشرفية', 'المعذر', 'الهدا', 'صياح', 'الناصرية', 'العريجاء الأوسط',\n",
    "    'السفارات', 'وادي لبن', 'العوالي', 'ضاحية نمار', 'العزيزية'\n",
    "]\n",
    "\n",
    "def clean_neighborhood(name):\n",
    "    if pd.isna(name):\n",
    "        return 'غير معروف'\n",
    "    name = name.strip()\n",
    "    if name in known_neighborhoods:\n",
    "        return name\n",
    "    else:\n",
    "        return 'غير معروف'\n",
    "\n",
    "\n",
    "Riyadh_VillasAqar['neighbourhood'] = Riyadh_VillasAqar['neighbourhood'].apply(clean_neighborhood)"
   ]
  },
  {
   "cell_type": "code",
   "execution_count": null,
   "id": "b3b1646b",
   "metadata": {},
   "outputs": [
    {
     "data": {
      "text/plain": [
       "array(['غير معروف', 'المهدية', 'ظهرة لبن', 'قرطبة', 'السويدي', 'الروضة',\n",
       "       'القادسية', 'الجنادرية', 'الفاخرية', 'العارض', 'الحمراء', 'طويق',\n",
       "       'الرمال', 'حطين', 'النرجس', 'الحزم', 'الصحافة', 'العزيزية',\n",
       "       'الفلاح', 'الملقا', 'نمار', 'ديراب', 'الغدير', 'القيروان',\n",
       "       'العوالي', 'المونسية', 'العريجاء الغربية', 'الياسمين', 'اليرموك',\n",
       "       'الدريهمية', 'ظهرة البديعة', 'النفل', 'المعذر', 'الزهرة', 'الندى',\n",
       "       'العقيق', 'سلطانة', 'السويدي الغربي', 'غرناطة', 'عرقة', 'شبرا',\n",
       "       'الربيع', 'عليشة', 'الرائد', 'الهدا', 'الخزامى', 'العريجاء الوسطى',\n",
       "       'الوادي', 'البديعة', 'لبن', 'الشرفية', 'الرفيعة', 'العريجاء',\n",
       "       'بنبان', 'الجرادية'], dtype=object)"
      ]
     },
     "execution_count": 138,
     "metadata": {},
     "output_type": "execute_result"
    }
   ],
   "source": [
    "Riyadh_VillasAqar['neighbourhood'].unique()"
   ]
  },
  {
   "cell_type": "code",
   "execution_count": null,
   "id": "38648ac1",
   "metadata": {},
   "outputs": [
    {
     "data": {
      "text/html": [
       "<div>\n",
       "<style scoped>\n",
       "    .dataframe tbody tr th:only-of-type {\n",
       "        vertical-align: middle;\n",
       "    }\n",
       "\n",
       "    .dataframe tbody tr th {\n",
       "        vertical-align: top;\n",
       "    }\n",
       "\n",
       "    .dataframe thead th {\n",
       "        text-align: right;\n",
       "    }\n",
       "</style>\n",
       "<table border=\"1\" class=\"dataframe\">\n",
       "  <thead>\n",
       "    <tr style=\"text-align: right;\">\n",
       "      <th></th>\n",
       "      <th>front</th>\n",
       "      <th>rooms</th>\n",
       "      <th>lounges</th>\n",
       "      <th>bathrooms</th>\n",
       "      <th>streetWidth</th>\n",
       "      <th>stairs</th>\n",
       "      <th>propertyAge</th>\n",
       "      <th>driverRoom</th>\n",
       "      <th>tent</th>\n",
       "      <th>patio</th>\n",
       "      <th>kitchen</th>\n",
       "      <th>outdoorRoom</th>\n",
       "      <th>garage</th>\n",
       "      <th>duplex</th>\n",
       "      <th>space</th>\n",
       "      <th>apartments</th>\n",
       "      <th>maidRoom</th>\n",
       "      <th>elevator</th>\n",
       "      <th>furnihsed</th>\n",
       "      <th>pool</th>\n",
       "      <th>basement</th>\n",
       "      <th>neighbourhood</th>\n",
       "      <th>location</th>\n",
       "      <th>price</th>\n",
       "      <th>square price</th>\n",
       "    </tr>\n",
       "  </thead>\n",
       "  <tbody>\n",
       "    <tr>\n",
       "      <th>20</th>\n",
       "      <td>شمالية شرقية</td>\n",
       "      <td>7</td>\n",
       "      <td>2</td>\n",
       "      <td>5+</td>\n",
       "      <td>10.0</td>\n",
       "      <td>True</td>\n",
       "      <td>0</td>\n",
       "      <td>False</td>\n",
       "      <td>True</td>\n",
       "      <td>True</td>\n",
       "      <td>True</td>\n",
       "      <td>False</td>\n",
       "      <td>True</td>\n",
       "      <td>False</td>\n",
       "      <td>500</td>\n",
       "      <td>0</td>\n",
       "      <td>False</td>\n",
       "      <td>False</td>\n",
       "      <td>False</td>\n",
       "      <td>False</td>\n",
       "      <td>False</td>\n",
       "      <td>السويدي</td>\n",
       "      <td>غرب الرياض</td>\n",
       "      <td>800000.0</td>\n",
       "      <td>1600.000000</td>\n",
       "    </tr>\n",
       "    <tr>\n",
       "      <th>22</th>\n",
       "      <td>جنوبية</td>\n",
       "      <td>5</td>\n",
       "      <td>4</td>\n",
       "      <td>5+</td>\n",
       "      <td>21.0</td>\n",
       "      <td>True</td>\n",
       "      <td>0</td>\n",
       "      <td>False</td>\n",
       "      <td>True</td>\n",
       "      <td>True</td>\n",
       "      <td>True</td>\n",
       "      <td>True</td>\n",
       "      <td>True</td>\n",
       "      <td>True</td>\n",
       "      <td>300</td>\n",
       "      <td>0</td>\n",
       "      <td>False</td>\n",
       "      <td>False</td>\n",
       "      <td>False</td>\n",
       "      <td>False</td>\n",
       "      <td>False</td>\n",
       "      <td>غير معروف</td>\n",
       "      <td>جنوب الرياض</td>\n",
       "      <td>1050000.0</td>\n",
       "      <td>3500.000000</td>\n",
       "    </tr>\n",
       "    <tr>\n",
       "      <th>27</th>\n",
       "      <td>شمالية</td>\n",
       "      <td>4</td>\n",
       "      <td>2</td>\n",
       "      <td>4</td>\n",
       "      <td>25.0</td>\n",
       "      <td>True</td>\n",
       "      <td>0</td>\n",
       "      <td>True</td>\n",
       "      <td>True</td>\n",
       "      <td>True</td>\n",
       "      <td>True</td>\n",
       "      <td>True</td>\n",
       "      <td>True</td>\n",
       "      <td>False</td>\n",
       "      <td>400</td>\n",
       "      <td>3</td>\n",
       "      <td>True</td>\n",
       "      <td>True</td>\n",
       "      <td>True</td>\n",
       "      <td>False</td>\n",
       "      <td>False</td>\n",
       "      <td>قرطبة</td>\n",
       "      <td>شرق الرياض</td>\n",
       "      <td>3500000.0</td>\n",
       "      <td>8750.000000</td>\n",
       "    </tr>\n",
       "    <tr>\n",
       "      <th>35</th>\n",
       "      <td>شمالية شرقية</td>\n",
       "      <td>6</td>\n",
       "      <td>2</td>\n",
       "      <td>4</td>\n",
       "      <td>30.0</td>\n",
       "      <td>False</td>\n",
       "      <td>0</td>\n",
       "      <td>False</td>\n",
       "      <td>False</td>\n",
       "      <td>False</td>\n",
       "      <td>True</td>\n",
       "      <td>False</td>\n",
       "      <td>False</td>\n",
       "      <td>False</td>\n",
       "      <td>600</td>\n",
       "      <td>0</td>\n",
       "      <td>False</td>\n",
       "      <td>False</td>\n",
       "      <td>False</td>\n",
       "      <td>False</td>\n",
       "      <td>False</td>\n",
       "      <td>غير معروف</td>\n",
       "      <td>جنوب الرياض</td>\n",
       "      <td>900000.0</td>\n",
       "      <td>1500.000000</td>\n",
       "    </tr>\n",
       "    <tr>\n",
       "      <th>70</th>\n",
       "      <td>جنوبية</td>\n",
       "      <td>6</td>\n",
       "      <td>2</td>\n",
       "      <td>5+</td>\n",
       "      <td>15.0</td>\n",
       "      <td>True</td>\n",
       "      <td>0</td>\n",
       "      <td>True</td>\n",
       "      <td>False</td>\n",
       "      <td>True</td>\n",
       "      <td>True</td>\n",
       "      <td>True</td>\n",
       "      <td>True</td>\n",
       "      <td>False</td>\n",
       "      <td>350</td>\n",
       "      <td>0</td>\n",
       "      <td>True</td>\n",
       "      <td>True</td>\n",
       "      <td>False</td>\n",
       "      <td>False</td>\n",
       "      <td>False</td>\n",
       "      <td>العارض</td>\n",
       "      <td>شمال الرياض</td>\n",
       "      <td>2800000.0</td>\n",
       "      <td>8000.000000</td>\n",
       "    </tr>\n",
       "    <tr>\n",
       "      <th>...</th>\n",
       "      <td>...</td>\n",
       "      <td>...</td>\n",
       "      <td>...</td>\n",
       "      <td>...</td>\n",
       "      <td>...</td>\n",
       "      <td>...</td>\n",
       "      <td>...</td>\n",
       "      <td>...</td>\n",
       "      <td>...</td>\n",
       "      <td>...</td>\n",
       "      <td>...</td>\n",
       "      <td>...</td>\n",
       "      <td>...</td>\n",
       "      <td>...</td>\n",
       "      <td>...</td>\n",
       "      <td>...</td>\n",
       "      <td>...</td>\n",
       "      <td>...</td>\n",
       "      <td>...</td>\n",
       "      <td>...</td>\n",
       "      <td>...</td>\n",
       "      <td>...</td>\n",
       "      <td>...</td>\n",
       "      <td>...</td>\n",
       "      <td>...</td>\n",
       "    </tr>\n",
       "    <tr>\n",
       "      <th>46816</th>\n",
       "      <td>شرقية</td>\n",
       "      <td>5</td>\n",
       "      <td>1</td>\n",
       "      <td>5+</td>\n",
       "      <td>20.0</td>\n",
       "      <td>True</td>\n",
       "      <td>0</td>\n",
       "      <td>True</td>\n",
       "      <td>True</td>\n",
       "      <td>True</td>\n",
       "      <td>True</td>\n",
       "      <td>True</td>\n",
       "      <td>True</td>\n",
       "      <td>False</td>\n",
       "      <td>360</td>\n",
       "      <td>2</td>\n",
       "      <td>True</td>\n",
       "      <td>False</td>\n",
       "      <td>True</td>\n",
       "      <td>False</td>\n",
       "      <td>False</td>\n",
       "      <td>طويق</td>\n",
       "      <td>غرب الرياض</td>\n",
       "      <td>1500000.0</td>\n",
       "      <td>4166.666667</td>\n",
       "    </tr>\n",
       "    <tr>\n",
       "      <th>46817</th>\n",
       "      <td>شرقية</td>\n",
       "      <td>5</td>\n",
       "      <td>2</td>\n",
       "      <td>4</td>\n",
       "      <td>20.0</td>\n",
       "      <td>False</td>\n",
       "      <td>8</td>\n",
       "      <td>True</td>\n",
       "      <td>False</td>\n",
       "      <td>False</td>\n",
       "      <td>True</td>\n",
       "      <td>False</td>\n",
       "      <td>False</td>\n",
       "      <td>False</td>\n",
       "      <td>362</td>\n",
       "      <td>0</td>\n",
       "      <td>False</td>\n",
       "      <td>False</td>\n",
       "      <td>False</td>\n",
       "      <td>False</td>\n",
       "      <td>False</td>\n",
       "      <td>المونسية</td>\n",
       "      <td>شرق الرياض</td>\n",
       "      <td>2050000.0</td>\n",
       "      <td>5662.983425</td>\n",
       "    </tr>\n",
       "    <tr>\n",
       "      <th>46818</th>\n",
       "      <td>شمالية</td>\n",
       "      <td>5</td>\n",
       "      <td>3</td>\n",
       "      <td>5+</td>\n",
       "      <td>15.0</td>\n",
       "      <td>False</td>\n",
       "      <td>3</td>\n",
       "      <td>True</td>\n",
       "      <td>True</td>\n",
       "      <td>False</td>\n",
       "      <td>False</td>\n",
       "      <td>True</td>\n",
       "      <td>False</td>\n",
       "      <td>False</td>\n",
       "      <td>372</td>\n",
       "      <td>3</td>\n",
       "      <td>True</td>\n",
       "      <td>False</td>\n",
       "      <td>False</td>\n",
       "      <td>False</td>\n",
       "      <td>False</td>\n",
       "      <td>الرمال</td>\n",
       "      <td>شرق الرياض</td>\n",
       "      <td>1420000.0</td>\n",
       "      <td>3817.204301</td>\n",
       "    </tr>\n",
       "    <tr>\n",
       "      <th>46822</th>\n",
       "      <td>غربية</td>\n",
       "      <td>7</td>\n",
       "      <td>2</td>\n",
       "      <td>5+</td>\n",
       "      <td>12.0</td>\n",
       "      <td>True</td>\n",
       "      <td>0</td>\n",
       "      <td>False</td>\n",
       "      <td>True</td>\n",
       "      <td>True</td>\n",
       "      <td>True</td>\n",
       "      <td>True</td>\n",
       "      <td>True</td>\n",
       "      <td>False</td>\n",
       "      <td>500</td>\n",
       "      <td>0</td>\n",
       "      <td>True</td>\n",
       "      <td>False</td>\n",
       "      <td>False</td>\n",
       "      <td>False</td>\n",
       "      <td>False</td>\n",
       "      <td>ظهرة البديعة</td>\n",
       "      <td>غرب الرياض</td>\n",
       "      <td>1050000.0</td>\n",
       "      <td>2100.000000</td>\n",
       "    </tr>\n",
       "    <tr>\n",
       "      <th>46825</th>\n",
       "      <td>شمالية</td>\n",
       "      <td>6</td>\n",
       "      <td>2</td>\n",
       "      <td>5+</td>\n",
       "      <td>15.0</td>\n",
       "      <td>True</td>\n",
       "      <td>0</td>\n",
       "      <td>False</td>\n",
       "      <td>True</td>\n",
       "      <td>True</td>\n",
       "      <td>True</td>\n",
       "      <td>True</td>\n",
       "      <td>True</td>\n",
       "      <td>False</td>\n",
       "      <td>750</td>\n",
       "      <td>2</td>\n",
       "      <td>True</td>\n",
       "      <td>False</td>\n",
       "      <td>False</td>\n",
       "      <td>False</td>\n",
       "      <td>False</td>\n",
       "      <td>المونسية</td>\n",
       "      <td>شرق الرياض</td>\n",
       "      <td>4100000.0</td>\n",
       "      <td>5466.666667</td>\n",
       "    </tr>\n",
       "  </tbody>\n",
       "</table>\n",
       "<p>10658 rows × 25 columns</p>\n",
       "</div>"
      ],
      "text/plain": [
       "              front  rooms lounges bathrooms  streetWidth  stairs  \\\n",
       "20     شمالية شرقية      7       2        5+         10.0    True   \n",
       "22           جنوبية      5       4        5+         21.0    True   \n",
       "27           شمالية      4       2         4         25.0    True   \n",
       "35     شمالية شرقية      6       2         4         30.0   False   \n",
       "70           جنوبية      6       2        5+         15.0    True   \n",
       "...             ...    ...     ...       ...          ...     ...   \n",
       "46816         شرقية      5       1        5+         20.0    True   \n",
       "46817         شرقية      5       2         4         20.0   False   \n",
       "46818        شمالية      5       3        5+         15.0   False   \n",
       "46822         غربية      7       2        5+         12.0    True   \n",
       "46825        شمالية      6       2        5+         15.0    True   \n",
       "\n",
       "       propertyAge  driverRoom   tent  patio  kitchen  outdoorRoom  garage  \\\n",
       "20               0       False   True   True     True        False    True   \n",
       "22               0       False   True   True     True         True    True   \n",
       "27               0        True   True   True     True         True    True   \n",
       "35               0       False  False  False     True        False   False   \n",
       "70               0        True  False   True     True         True    True   \n",
       "...            ...         ...    ...    ...      ...          ...     ...   \n",
       "46816            0        True   True   True     True         True    True   \n",
       "46817            8        True  False  False     True        False   False   \n",
       "46818            3        True   True  False    False         True   False   \n",
       "46822            0       False   True   True     True         True    True   \n",
       "46825            0       False   True   True     True         True    True   \n",
       "\n",
       "       duplex  space apartments  maidRoom  elevator  furnihsed   pool  \\\n",
       "20      False    500          0     False     False      False  False   \n",
       "22       True    300          0     False     False      False  False   \n",
       "27      False    400          3      True      True       True  False   \n",
       "35      False    600          0     False     False      False  False   \n",
       "70      False    350          0      True      True      False  False   \n",
       "...       ...    ...        ...       ...       ...        ...    ...   \n",
       "46816   False    360          2      True     False       True  False   \n",
       "46817   False    362          0     False     False      False  False   \n",
       "46818   False    372          3      True     False      False  False   \n",
       "46822   False    500          0      True     False      False  False   \n",
       "46825   False    750          2      True     False      False  False   \n",
       "\n",
       "       basement neighbourhood     location      price  square price  \n",
       "20        False       السويدي   غرب الرياض   800000.0   1600.000000  \n",
       "22        False     غير معروف  جنوب الرياض  1050000.0   3500.000000  \n",
       "27        False         قرطبة   شرق الرياض  3500000.0   8750.000000  \n",
       "35        False     غير معروف  جنوب الرياض   900000.0   1500.000000  \n",
       "70        False        العارض  شمال الرياض  2800000.0   8000.000000  \n",
       "...         ...           ...          ...        ...           ...  \n",
       "46816     False          طويق   غرب الرياض  1500000.0   4166.666667  \n",
       "46817     False      المونسية   شرق الرياض  2050000.0   5662.983425  \n",
       "46818     False        الرمال   شرق الرياض  1420000.0   3817.204301  \n",
       "46822     False  ظهرة البديعة   غرب الرياض  1050000.0   2100.000000  \n",
       "46825     False      المونسية   شرق الرياض  4100000.0   5466.666667  \n",
       "\n",
       "[10658 rows x 25 columns]"
      ]
     },
     "execution_count": 139,
     "metadata": {},
     "output_type": "execute_result"
    }
   ],
   "source": [
    "Riyadh_VillasAqar[Riyadh_VillasAqar.duplicated()]"
   ]
  },
  {
   "cell_type": "code",
   "execution_count": null,
   "id": "01287962-8077-4c01-8d1d-5f8aed6cb37a",
   "metadata": {},
   "outputs": [],
   "source": [
    "# go back to 6th dimention --> Completeness"
   ]
  },
  {
   "cell_type": "markdown",
   "id": "f7cee10f-0af8-44e5-b595-8e965294daad",
   "metadata": {},
   "source": [
    "### Correcting errors\n",
    "\n",
    "-------------------"
   ]
  },
  {
   "cell_type": "code",
   "execution_count": null,
   "id": "06273b88-a169-42e8-81f5-5d71cb3f9c21",
   "metadata": {},
   "outputs": [],
   "source": []
  },
  {
   "cell_type": "code",
   "execution_count": null,
   "id": "f1d95da5-a3ba-473a-8243-aa177cadae20",
   "metadata": {},
   "outputs": [],
   "source": [
    "# go back to 7th dimension Accuracy "
   ]
  },
  {
   "cell_type": "markdown",
   "id": "5ecc7dbb-6867-44cf-8f99-1b969a80be40",
   "metadata": {},
   "source": [
    "### Dealing with outliers:"
   ]
  },
  {
   "attachments": {},
   "cell_type": "markdown",
   "id": "88347887-4bdf-48af-9486-cb8fe80c97af",
   "metadata": {},
   "source": [
    "**How to remove Outliers?**\n",
    "Most of the ways to deal with outliers are similar to the methods of missing values like deleting rows, transforming them, binning them, treat them as a separate group, imputing values and other statistical methods. Here, we will discuss the common techniques used to deal with outliers:\n",
    "\n",
    "1. Deleting rows: We delete outlier values if it is due to data entry error, data processing error or outlier rows are very small in numbers. We can also use trimming at both ends to remove outliers.\n",
    "\n",
    "2. Imputing: Like imputation of missing values, we can also impute outliers. We can use mean, median, mode imputation methods. Before imputing values, we should analyse if it is natural outlier or artificial. If it is artificial, we can go with imputing values. We can also use statistical model to predict values of outlier rows and after that we can impute it with predicted values.\n",
    "\n",
    "3. Treat separately: If there are significant number of outliers, we should treat them separately in the statistical model. One of the approach is to treat both groups as two different groups and build individual model for both groups and then combine the output.\n"
   ]
  },
  {
   "cell_type": "code",
   "execution_count": null,
   "id": "1de6a02c",
   "metadata": {},
   "outputs": [],
   "source": [
    "# # List of numerical columns to check for outliers\n",
    "# numerical_cols = ['rooms', 'bathrooms', 'square price', 'price']\n",
    "\n",
    "# # Set up the matplotlib figure\n",
    "# plt.figure(figsize=(14, 10))\n",
    "\n",
    "# # Create scatter plots with outliers highlighted\n",
    "# for i, col in enumerate(numerical_cols, 1):\n",
    "#     plt.subplot(2, 2, i)  # Arrange the plots in a 2x2 grid\n",
    "#     data = Riyadh_VillasAqar[col]\n",
    "    \n",
    "#     # Calculate the z-scores to identify outliers (z-score > 3 or < -3 are considered outliers)\n",
    "#     z_scores = (data - data.mean()) / data.std()\n",
    "    \n",
    "#     # Plotting scatter plot\n",
    "#     sns.scatterplot(x=data.index, y=data, hue=z_scores.abs() > 3, palette={True: 'red', False: 'blue'})\n",
    "    \n",
    "#     plt.title(f'Outliers in {col}')\n",
    "#     plt.xlabel('Index')\n",
    "#     plt.ylabel(col)\n",
    "#     plt.tight_layout()\n",
    "\n",
    "# # Display the plots\n",
    "# plt.show()"
   ]
  },
  {
   "cell_type": "markdown",
   "id": "98548b66-e309-4eb8-a5dc-65fe0abbf1e8",
   "metadata": {},
   "source": [
    "## 3. Univariate Analysis: \n",
    "\n",
    "This involves examining single variables to understand their characteristics (distribution, central tendency, dispersion, and shape).\n",
    "\n",
    "We calculate **numerical values** about the data that tells us about the distribution of the data. We also **draw graphs** showing visually how the data is distributed. **To answer the following questions about Features/characteristics of Data:**\n",
    "- Where is the center of the data? (location)\n",
    "- How much does the data vary? (scale)\n",
    "- What is the shape of the data? (shape)\n",
    "\n",
    "**The benefits of this analysis:**\n",
    "Statistics summary gives a high-level idea to identify whether the data has any outliers, data entry error, distribution of data such as the data is normally distributed or left/right skewed\n",
    "\n",
    "**In this step, we will explore variables one by one using following approaches:**"
   ]
  },
  {
   "cell_type": "markdown",
   "id": "d6718111-7ac2-4fff-9851-654655b62e0b",
   "metadata": {},
   "source": [
    "### 1. Univariate Graphical Analysis:\n",
    "Method to perform uni-variate analysis will depend on whether the variable type is categorical or numerical."
   ]
  },
  {
   "cell_type": "markdown",
   "id": "ba0e01c9",
   "metadata": {},
   "source": [
    "## Real_Estate datset outliers"
   ]
  },
  {
   "cell_type": "code",
   "execution_count": null,
   "id": "9f8a0026",
   "metadata": {},
   "outputs": [],
   "source": [
    "#Define the outlier condition \n",
    "price_outliers = Real_Estate[(Real_Estate['price'] > 150000)& (Real_Estate['price']<= 10000)]\n",
    "\n",
    "#Create a new DataFrame for non-outliers\n",
    "non_outliers = Real_Estate[(Real_Estate['price'] >= 10000)& (Real_Estate['price']<= 150000)]"
   ]
  },
  {
   "cell_type": "code",
   "execution_count": null,
   "id": "31dba427",
   "metadata": {},
   "outputs": [
    {
     "data": {
      "text/plain": [
       "(6650, 22)"
      ]
     },
     "execution_count": 146,
     "metadata": {},
     "output_type": "execute_result"
    }
   ],
   "source": [
    "non_outliers.shape"
   ]
  },
  {
   "cell_type": "code",
   "execution_count": null,
   "id": "98e54085",
   "metadata": {},
   "outputs": [
    {
     "data": {
      "text/plain": [
       "(6762, 22)"
      ]
     },
     "execution_count": 145,
     "metadata": {},
     "output_type": "execute_result"
    }
   ],
   "source": [
    "Real_Estate.shape"
   ]
  },
  {
   "cell_type": "code",
   "execution_count": null,
   "id": "41bb3418",
   "metadata": {},
   "outputs": [
    {
     "data": {
      "text/plain": [
       "Text(0.5, 0, 'Price (SAR)')"
      ]
     },
     "execution_count": 147,
     "metadata": {},
     "output_type": "execute_result"
    },
    {
     "data": {
      "image/png": "[encoded data removed]",
      "text/plain": [
       "<Figure size 640x480 with 1 Axes>"
      ]
     },
     "metadata": {},
     "output_type": "display_data"
    }
   ],
   "source": [
    "plt.hist(non_outliers['price'])\n",
    "plt.title('Apartments Prices in Riyadh')\n",
    "plt.ylabel('Frequency')\n",
    "plt.xlabel('Price (SAR)')"
   ]
  },
  {
   "cell_type": "code",
   "execution_count": null,
   "id": "db79d803-b75c-4686-a623-e8420321a90f",
   "metadata": {},
   "outputs": [
    {
     "data": {
      "text/plain": [
       "Text(0.5, 0, 'Price (SAR)')"
      ]
     },
     "execution_count": 143,
     "metadata": {},
     "output_type": "execute_result"
    },
    {
     "data": {
      "image/png": "[encoded data removed]",
      "text/plain": [
       "<Figure size 640x480 with 1 Axes>"
      ]
     },
     "metadata": {},
     "output_type": "display_data"
    }
   ],
   "source": [
    "plt.hist(Real_Estate['price'])\n",
    "plt.title('Apartments Prices in Riyadh')\n",
    "plt.ylabel('Frequency')\n",
    "plt.xlabel('Price (SAR)')"
   ]
  },
  {
   "cell_type": "code",
   "execution_count": null,
   "id": "8a44fea6",
   "metadata": {},
   "outputs": [
    {
     "data": {
      "text/plain": [
       "185600.0"
      ]
     },
     "execution_count": 154,
     "metadata": {},
     "output_type": "execute_result"
    }
   ],
   "source": [
    "non_outliers['area'].max()"
   ]
  },
  {
   "cell_type": "code",
   "execution_count": null,
   "id": "6f637d07",
   "metadata": {},
   "outputs": [
    {
     "data": {
      "image/png": "[encoded data removed]",
      "text/plain": [
       "<Figure size 640x480 with 1 Axes>"
      ]
     },
     "metadata": {},
     "output_type": "display_data"
    }
   ],
   "source": [
    "import matplotlib.pyplot as plt\n",
    "import numpy as np\n",
    "\n",
    "# Assuming 'df' is your DataFrame and 'area' is the column with apartment areas\n",
    "area_threshold = 300  # Adjust this threshold based on your data\n",
    "\n",
    "# Filter out the extreme outliers (areas greater than the threshold)\n",
    "non_outliers_area = non_outliers[non_outliers['area'] <= area_threshold]\n",
    "\n",
    "# Plot the histogram for the filtered data\n",
    "plt.hist(non_outliers_area['area'], bins=50)\n",
    "plt.title('Apartments Area in Riyadh')\n",
    "plt.ylabel('Frequency')\n",
    "plt.xlabel('Area (m²)')\n",
    "plt.show()\n"
   ]
  },
  {
   "cell_type": "code",
   "execution_count": null,
   "id": "43f8f80e",
   "metadata": {},
   "outputs": [],
   "source": [
    "#Define the outlier condition \n",
    "street_width_outliers = non_outliers_area[(non_outliers_area['street_width'] > 70.0)& (non_outliers_area['street_width']<= 7.0)]\n",
    "\n",
    "#Create a new DataFrame for non-outliers\n",
    "non_outliers_street_width = non_outliers_area[(non_outliers_area['street_width'] >= 8.0)& (non_outliers_area['street_width']<= 70.0)]"
   ]
  },
  {
   "cell_type": "code",
   "execution_count": null,
   "id": "b1cbbc53",
   "metadata": {},
   "outputs": [
    {
     "data": {
      "image/png": "[encoded data removed]",
      "text/plain": [
       "<Figure size 640x480 with 1 Axes>"
      ]
     },
     "metadata": {},
     "output_type": "display_data"
    }
   ],
   "source": [
    "import matplotlib.pyplot as plt\n",
    "import numpy as np\n",
    "\n",
    "# # Assuming 'df' is your DataFrame and 'area' is the column with apartment areas\n",
    "# area_threshold = 300  # Adjust this threshold based on your data\n",
    "\n",
    "# # Filter out the extreme outliers (areas greater than the threshold)\n",
    "# non_outliers_area = non_outliers[non_outliers['street_width']]\n",
    "\n",
    "# Plot the histogram for the filtered data\n",
    "plt.hist(non_outliers_street_width['street_width'], bins=50)\n",
    "plt.title('Apartments street_width in Riyadh')\n",
    "plt.ylabel('Frequency')\n",
    "plt.xlabel('street_width')\n",
    "plt.show()\n"
   ]
  },
  {
   "cell_type": "code",
   "execution_count": null,
   "id": "ab78ada3",
   "metadata": {},
   "outputs": [
    {
     "data": {
      "image/png": "[encoded data removed]",
      "text/plain": [
       "<Figure size 640x480 with 1 Axes>"
      ]
     },
     "metadata": {},
     "output_type": "display_data"
    }
   ],
   "source": [
    "import matplotlib.pyplot as plt\n",
    "import numpy as np\n",
    "\n",
    "# # Assuming 'df' is your DataFrame and 'area' is the column with apartment areas\n",
    "# area_threshold = 300  # Adjust this threshold based on your data\n",
    "\n",
    "# # Filter out the extreme outliers (areas greater than the threshold)\n",
    "# non_outliers_area = non_outliers[non_outliers['street_width']]\n",
    "\n",
    "# Plot the histogram for the filtered data\n",
    "plt.hist(non_outliers_area['street_width'], bins=50)\n",
    "plt.title('Apartments street_width in Riyadh')\n",
    "plt.ylabel('Frequency')\n",
    "plt.xlabel('street_width')\n",
    "plt.show()\n"
   ]
  },
  {
   "cell_type": "code",
   "execution_count": null,
   "id": "66daa58d",
   "metadata": {},
   "outputs": [],
   "source": [
    "outliers_street_width = non_outliers_street_width[non_outliers_street_width['age'] == 999]\n",
    "non_outliers_street_width = non_outliers_street_width[non_outliers_street_width['age'] != 999]"
   ]
  },
  {
   "cell_type": "code",
   "execution_count": null,
   "id": "f84831ad",
   "metadata": {},
   "outputs": [
    {
     "data": {
      "image/png": "[encoded data removed]",
      "text/plain": [
       "<Figure size 640x480 with 1 Axes>"
      ]
     },
     "metadata": {},
     "output_type": "display_data"
    },
    {
     "name": "stderr",
     "output_type": "stream",
     "text": [
      "2025-02-19 22:30:38,067 - INFO     - Executing shutdown due to inactivity...\n"
     ]
    }
   ],
   "source": [
    "# there ia here a natural outliers\n",
    "# Plot the histogram for the filtered data\n",
    "plt.hist(non_outliers_street_width['age'], bins=50)\n",
    "plt.title('Apartments age in Riyadh')\n",
    "plt.ylabel('Frequency')\n",
    "plt.xlabel('Years')\n",
    "plt.show()"
   ]
  },
  {
   "cell_type": "code",
   "execution_count": null,
   "id": "60fff289",
   "metadata": {},
   "outputs": [
    {
     "data": {
      "image/png": "[encoded data removed]",
      "text/plain": [
       "<Figure size 640x480 with 1 Axes>"
      ]
     },
     "metadata": {},
     "output_type": "display_data"
    }
   ],
   "source": [
    "# there ia here a natural outliers\n",
    "# Plot the histogram for the filtered data\n",
    "plt.hist(non_outliers_street_width['onMarket'], bins=50)\n",
    "plt.title('Apartments onMarket in Riyadh')\n",
    "plt.ylabel('Frequency')\n",
    "plt.xlabel('days')\n",
    "plt.show()"
   ]
  },
  {
   "cell_type": "code",
   "execution_count": null,
   "id": "d59fff89",
   "metadata": {},
   "outputs": [],
   "source": [
    "non_outliers_street_width.drop(non_outliers_street_width[non_outliers_street_width['livings'] == -1].index, inplace=True)"
   ]
  },
  {
   "cell_type": "code",
   "execution_count": null,
   "id": "7ee14871",
   "metadata": {},
   "outputs": [],
   "source": [
    "non_outliers_street_width.to_csv(\"cleaned_Real_Estate.csv\",index=False)"
   ]
  },
  {
   "cell_type": "markdown",
   "id": "77af6a4a",
   "metadata": {},
   "source": [
    "## Riyadh_Aqqar_Land outliers"
   ]
  },
  {
   "cell_type": "code",
   "execution_count": null,
   "id": "134971e2",
   "metadata": {},
   "outputs": [
    {
     "data": {
      "text/plain": [
       "893025000"
      ]
     },
     "execution_count": 190,
     "metadata": {},
     "output_type": "execute_result"
    }
   ],
   "source": [
    "Riyadh_Aqqar_Land['السعر الإجمالي'].max()"
   ]
  },
  {
   "cell_type": "code",
   "execution_count": null,
   "id": "9f6e17c0",
   "metadata": {},
   "outputs": [],
   "source": [
    "#Define the outlier condition \n",
    "price_outliers = Riyadh_Aqqar_Land[(Riyadh_Aqqar_Land['السعر الإجمالي'] >=31080000)& (Riyadh_Aqqar_Land['السعر الإجمالي']<= 1000000)]\n",
    "\n",
    "#Create a new DataFrame for non-outliers\n",
    "non_outliers = Riyadh_Aqqar_Land[(Riyadh_Aqqar_Land['السعر الإجمالي'] >1000000)& (Riyadh_Aqqar_Land['السعر الإجمالي']< 31080000)]"
   ]
  },
  {
   "cell_type": "code",
   "execution_count": null,
   "id": "f7bacf87",
   "metadata": {},
   "outputs": [
    {
     "data": {
      "text/plain": [
       "Text(0.5, 0, 'area')"
      ]
     },
     "execution_count": 232,
     "metadata": {},
     "output_type": "execute_result"
    },
    {
     "data": {
      "image/png": "[encoded data removed]",
      "text/plain": [
       "<Figure size 640x480 with 1 Axes>"
      ]
     },
     "metadata": {},
     "output_type": "display_data"
    }
   ],
   "source": [
    "# there is natural outlier here \n",
    "# Assuming 'df' is your DataFrame and 'area' is the column with apartment areas\n",
    "area_threshold = 30000  # Adjust this threshold based on your data\n",
    "\n",
    "# Filter out the extreme outliers (areas greater than the threshold)\n",
    "non_outliers_area = non_outliers[non_outliers['المساحة'] < area_threshold]\n",
    "plt.hist(non_outliers_area['المساحة'])\n",
    "plt.title('Lands area in Riyadh')\n",
    "plt.ylabel('Frequency')\n",
    "plt.xlabel('area')"
   ]
  },
  {
   "cell_type": "code",
   "execution_count": null,
   "id": "8b28e100",
   "metadata": {},
   "outputs": [
    {
     "data": {
      "text/plain": [
       "Text(0.5, 0, 'Price (SAR)')"
      ]
     },
     "execution_count": 228,
     "metadata": {},
     "output_type": "execute_result"
    },
    {
     "data": {
      "image/png": "[encoded data removed]",
      "text/plain": [
       "<Figure size 640x480 with 1 Axes>"
      ]
     },
     "metadata": {},
     "output_type": "display_data"
    }
   ],
   "source": [
    "# there is natural outlier here\n",
    "plt.hist(non_outliers['السعر الإجمالي'])\n",
    "plt.title('Lands Prices in Riyadh')\n",
    "plt.ylabel('Frequency')\n",
    "plt.xlabel('Price (SAR)')"
   ]
  },
  {
   "cell_type": "code",
   "execution_count": null,
   "id": "cf7257c3",
   "metadata": {},
   "outputs": [],
   "source": [
    "non_outliers_area.to_csv(\"cleaned_Riyadh_Aqqar_Land.csv\",index=False)"
   ]
  },
  {
   "cell_type": "markdown",
   "id": "059261ba",
   "metadata": {},
   "source": [
    "## Riyadh_Aqqar_Villas outliers"
   ]
  },
  {
   "cell_type": "code",
   "execution_count": null,
   "id": "b386693e",
   "metadata": {},
   "outputs": [
    {
     "data": {
      "text/plain": [
       "Text(0.5, 0, 'Price (SAR)')"
      ]
     },
     "execution_count": 238,
     "metadata": {},
     "output_type": "execute_result"
    },
    {
     "data": {
      "image/png": "[encoded data removed]",
      "text/plain": [
       "<Figure size 640x480 with 1 Axes>"
      ]
     },
     "metadata": {},
     "output_type": "display_data"
    }
   ],
   "source": [
    "# there is natural outlier here\n",
    "plt.hist(Riyadh_Aqqar_Villas['السعر الاجمالي'])\n",
    "plt.title('Villas Prices in Riyadh')\n",
    "plt.ylabel('Frequency')\n",
    "plt.xlabel('Price (SAR)')"
   ]
  },
  {
   "cell_type": "code",
   "execution_count": null,
   "id": "f04307e1",
   "metadata": {},
   "outputs": [
    {
     "data": {
      "text/plain": [
       "Text(0.5, 0, 'width')"
      ]
     },
     "execution_count": 241,
     "metadata": {},
     "output_type": "execute_result"
    },
    {
     "data": {
      "image/png": "[encoded data removed]",
      "text/plain": [
       "<Figure size 640x480 with 1 Axes>"
      ]
     },
     "metadata": {},
     "output_type": "display_data"
    }
   ],
   "source": [
    "# there is natural outlier here\n",
    "plt.hist(Riyadh_Aqqar_Villas['عرض الشارع'])\n",
    "plt.title('Villas Street width in Riyadh')\n",
    "plt.ylabel('Frequency')\n",
    "plt.xlabel('width')"
   ]
  },
  {
   "cell_type": "code",
   "execution_count": null,
   "id": "b6880535",
   "metadata": {},
   "outputs": [
    {
     "data": {
      "text/plain": [
       "(1090, 20)"
      ]
     },
     "execution_count": 247,
     "metadata": {},
     "output_type": "execute_result"
    }
   ],
   "source": [
    "Riyadh_Aqqar_Villas.shape"
   ]
  },
  {
   "cell_type": "code",
   "execution_count": null,
   "id": "e230e92f",
   "metadata": {},
   "outputs": [
    {
     "data": {
      "text/plain": [
       "(1087, 20)"
      ]
     },
     "execution_count": 249,
     "metadata": {},
     "output_type": "execute_result"
    }
   ],
   "source": [
    "non_outliers.shape"
   ]
  },
  {
   "cell_type": "code",
   "execution_count": null,
   "id": "18d2bb4b",
   "metadata": {},
   "outputs": [
    {
     "data": {
      "text/plain": [
       "Text(0.5, 0, 'area')"
      ]
     },
     "execution_count": 250,
     "metadata": {},
     "output_type": "execute_result"
    },
    {
     "data": {
      "image/png": "[encoded data removed]",
      "text/plain": [
       "<Figure size 640x480 with 1 Axes>"
      ]
     },
     "metadata": {},
     "output_type": "display_data"
    }
   ],
   "source": [
    "# there is natural outlier here \n",
    "# Assuming 'df' is your DataFrame and 'area' is the column with apartment areas\n",
    "area_threshold = 4000  # Adjust this threshold based on your data\n",
    "\n",
    "# Filter out the extreme outliers (areas greater than the threshold)\n",
    "non_outliers= Riyadh_Aqqar_Villas[Riyadh_Aqqar_Villas['المساحة'] < area_threshold]\n",
    "plt.hist(non_outliers['المساحة'])\n",
    "plt.title('Lands area in Riyadh')\n",
    "plt.ylabel('Frequency')\n",
    "plt.xlabel('area')"
   ]
  },
  {
   "cell_type": "code",
   "execution_count": null,
   "id": "bc304408",
   "metadata": {},
   "outputs": [],
   "source": [
    "non_outliers.to_csv(\"cleaned_Riyadh_Aqqar_Villas.csv\",index=False)"
   ]
  },
  {
   "cell_type": "markdown",
   "id": "618b0b02",
   "metadata": {},
   "source": [
    "## Riyadh_Aqqar_Apartments outliers"
   ]
  },
  {
   "cell_type": "code",
   "execution_count": null,
   "id": "27ba989c",
   "metadata": {},
   "outputs": [
    {
     "data": {
      "text/plain": [
       "Text(0.5, 0, 'Price (SAR)')"
      ]
     },
     "execution_count": 253,
     "metadata": {},
     "output_type": "execute_result"
    },
    {
     "data": {
      "image/png": "[encoded data removed]",
      "text/plain": [
       "<Figure size 640x480 with 1 Axes>"
      ]
     },
     "metadata": {},
     "output_type": "display_data"
    }
   ],
   "source": [
    "# there is natural outlier here\n",
    "plt.hist(Riyadh_Aqqar_Apartments['السعر الاجمالي'])\n",
    "plt.title('Apartments Prices in Riyadh')\n",
    "plt.ylabel('Frequency')\n",
    "plt.xlabel('Price (SAR)')"
   ]
  },
  {
   "cell_type": "code",
   "execution_count": null,
   "id": "a77f0ce3",
   "metadata": {},
   "outputs": [
    {
     "data": {
      "text/plain": [
       "Text(0.5, 0, 'Area m^2')"
      ]
     },
     "execution_count": 262,
     "metadata": {},
     "output_type": "execute_result"
    },
    {
     "data": {
      "image/png": "[encoded data removed]",
      "text/plain": [
       "<Figure size 640x480 with 1 Axes>"
      ]
     },
     "metadata": {},
     "output_type": "display_data"
    }
   ],
   "source": [
    "# there is natural outlier here\n",
    "plt.hist(Riyadh_Aqqar_Apartments[\"المساحة\"])\n",
    "plt.title('Apartments area in Riyadh')\n",
    "plt.ylabel('Frequency')\n",
    "plt.xlabel('Area m^2')"
   ]
  },
  {
   "cell_type": "code",
   "execution_count": null,
   "id": "9a642a34",
   "metadata": {},
   "outputs": [],
   "source": [
    "Riyadh_Aqqar_Apartments.drop(Riyadh_Aqqar_Apartments[Riyadh_Aqqar_Apartments['عمر العقار'] == 999].index, inplace=True)"
   ]
  },
  {
   "cell_type": "code",
   "execution_count": null,
   "id": "ea9d233b",
   "metadata": {},
   "outputs": [
    {
     "data": {
      "text/plain": [
       "Text(0.5, 0, 'Years')"
      ]
     },
     "execution_count": 261,
     "metadata": {},
     "output_type": "execute_result"
    },
    {
     "data": {
      "image/png": "[encoded data removed]",
      "text/plain": [
       "<Figure size 640x480 with 1 Axes>"
      ]
     },
     "metadata": {},
     "output_type": "display_data"
    }
   ],
   "source": [
    "# there is natural outlier here\n",
    "plt.hist(Riyadh_Aqqar_Apartments[\"عمر العقار\"])\n",
    "plt.title('Apartments age in Riyadh')\n",
    "plt.ylabel('Frequency')\n",
    "plt.xlabel('Years')"
   ]
  },
  {
   "cell_type": "code",
   "execution_count": null,
   "id": "b98da1bd",
   "metadata": {},
   "outputs": [],
   "source": [
    "Riyadh_Aqqar_Apartments.drop(Riyadh_Aqqar_Apartments[Riyadh_Aqqar_Apartments['عدد الصالات'] == 999].index, inplace=True)"
   ]
  },
  {
   "cell_type": "code",
   "execution_count": null,
   "id": "d6286223",
   "metadata": {},
   "outputs": [],
   "source": [
    "non_outliers.to_csv(\"cleaned_Riyadh_Aqqar_Apartments.csv\",index=False)"
   ]
  },
  {
   "cell_type": "markdown",
   "id": "5e2d3ac5",
   "metadata": {},
   "source": [
    "## Riyadh_VillasAqar outliers"
   ]
  },
  {
   "cell_type": "code",
   "execution_count": null,
   "id": "05ff32dd",
   "metadata": {},
   "outputs": [],
   "source": [
    "#Define the outlier condition \n",
    "price_outliers = Riyadh_VillasAqar[(Riyadh_VillasAqar['price']<=500000)]\n",
    "\n",
    "#Create a new DataFrame for non-outliers\n",
    "non_outliers = Riyadh_VillasAqar[(Riyadh_VillasAqar['price'] >500000.0)& (Riyadh_VillasAqar['price']<= 12000000.0)]"
   ]
  },
  {
   "cell_type": "code",
   "execution_count": null,
   "id": "f8ec5645",
   "metadata": {},
   "outputs": [
    {
     "data": {
      "text/plain": [
       "Text(0.5, 0, 'Price')"
      ]
     },
     "execution_count": 338,
     "metadata": {},
     "output_type": "execute_result"
    },
    {
     "data": {
      "image/png": "[encoded data removed]",
      "text/plain": [
       "<Figure size 640x480 with 1 Axes>"
      ]
     },
     "metadata": {},
     "output_type": "display_data"
    }
   ],
   "source": [
    "# there is natural outlier here\n",
    "plt.hist(non_outliers[\"price\"])\n",
    "plt.title('Villas prices in Riyadh')\n",
    "plt.ylabel('Frequency')\n",
    "plt.xlabel('Price')"
   ]
  },
  {
   "cell_type": "code",
   "execution_count": null,
   "id": "6872beee",
   "metadata": {},
   "outputs": [
    {
     "data": {
      "text/plain": [
       "Text(0.5, 0, 'square Price')"
      ]
     },
     "execution_count": 348,
     "metadata": {},
     "output_type": "execute_result"
    },
    {
     "data": {
      "image/png": "[encoded data removed]",
      "text/plain": [
       "<Figure size 640x480 with 1 Axes>"
      ]
     },
     "metadata": {},
     "output_type": "display_data"
    }
   ],
   "source": [
    "# there is natural outlier here\n",
    "plt.hist(non_outliers[\"square price\"])\n",
    "plt.title('Villas square prices in Riyadh')\n",
    "plt.ylabel('Frequency')\n",
    "plt.xlabel('square Price')"
   ]
  },
  {
   "cell_type": "code",
   "execution_count": null,
   "id": "b90d087c",
   "metadata": {},
   "outputs": [],
   "source": [
    "#Define the outlier condition \n",
    "space_outliers = non_outliers[(non_outliers['space'] < 200) & (non_outliers['space']>1750)]\n",
    "\n",
    "#Create a new DataFrame for non-outliers\n",
    "non_outliers_space = non_outliers[(non_outliers['space'] <=1750)& (non_outliers['space']>=200)]"
   ]
  },
  {
   "cell_type": "code",
   "execution_count": null,
   "id": "de3742e3",
   "metadata": {},
   "outputs": [
    {
     "data": {
      "text/plain": [
       "Text(0.5, 0, 'space')"
      ]
     },
     "execution_count": 345,
     "metadata": {},
     "output_type": "execute_result"
    },
    {
     "data": {
      "image/png": "[encoded data removed]",
      "text/plain": [
       "<Figure size 640x480 with 1 Axes>"
      ]
     },
     "metadata": {},
     "output_type": "display_data"
    }
   ],
   "source": [
    "# there is natural outlier here\n",
    "plt.hist(non_outliers_space[\"space\"])\n",
    "plt.title('Villas space in Riyadh')\n",
    "plt.ylabel('Frequency')\n",
    "plt.xlabel('space')"
   ]
  },
  {
   "cell_type": "code",
   "execution_count": null,
   "id": "28d6bf2a",
   "metadata": {},
   "outputs": [
    {
     "data": {
      "text/plain": [
       "Text(0.5, 0, 'Years')"
      ]
     },
     "execution_count": 347,
     "metadata": {},
     "output_type": "execute_result"
    },
    {
     "data": {
      "image/png": "[encoded data removed]",
      "text/plain": [
       "<Figure size 640x480 with 1 Axes>"
      ]
     },
     "metadata": {},
     "output_type": "display_data"
    }
   ],
   "source": [
    "# there is natural outlier here\n",
    "plt.hist(non_outliers_space[\"propertyAge\"])\n",
    "plt.title('Villas Age in Riyadh')\n",
    "plt.ylabel('Frequency')\n",
    "plt.xlabel('Years')"
   ]
  },
  {
   "cell_type": "code",
   "execution_count": null,
   "id": "59878926",
   "metadata": {},
   "outputs": [],
   "source": [
    "#Define the outlier condition \n",
    "streetWidth_outliers = non_outliers_space[(non_outliers_space['streetWidth'] < 8) & (non_outliers_space['streetWidth']>45)]\n",
    "\n",
    "#Create a new DataFrame for non-outliers\n",
    "non_outliers_streetWidth= non_outliers_space[(non_outliers_space['streetWidth'] <=45)& (non_outliers_space['streetWidth']>=8)]"
   ]
  },
  {
   "cell_type": "code",
   "execution_count": null,
   "id": "eb69d1c9",
   "metadata": {},
   "outputs": [
    {
     "data": {
      "text/plain": [
       "Text(0.5, 0, 'Width')"
      ]
     },
     "execution_count": 353,
     "metadata": {},
     "output_type": "execute_result"
    },
    {
     "data": {
      "image/png": "[encoded data removed]",
      "text/plain": [
       "<Figure size 640x480 with 1 Axes>"
      ]
     },
     "metadata": {},
     "output_type": "display_data"
    }
   ],
   "source": [
    "plt.hist(non_outliers_streetWidth[\"streetWidth\"])\n",
    "plt.title('Villas streetWidth in Riyadh')\n",
    "plt.ylabel('Frequency')\n",
    "plt.xlabel('Width')"
   ]
  },
  {
   "cell_type": "code",
   "execution_count": null,
   "id": "7e8843d4",
   "metadata": {},
   "outputs": [
    {
     "data": {
      "text/plain": [
       "Text(0.5, 0, 'Rooms')"
      ]
     },
     "execution_count": 354,
     "metadata": {},
     "output_type": "execute_result"
    },
    {
     "data": {
      "image/png": "[encoded data removed]",
      "text/plain": [
       "<Figure size 640x480 with 1 Axes>"
      ]
     },
     "metadata": {},
     "output_type": "display_data"
    }
   ],
   "source": [
    "# there is natural outlier here\n",
    "plt.hist(non_outliers_streetWidth[\"rooms\"])\n",
    "plt.title('Number of rooms in the Villas in Riyadh')\n",
    "plt.ylabel('Frequency')\n",
    "plt.xlabel('Rooms')"
   ]
  },
  {
   "cell_type": "code",
   "execution_count": null,
   "id": "63eabb73",
   "metadata": {},
   "outputs": [],
   "source": [
    "non_outliers_streetWidth.to_csv(\"cleaned_Riyadh_VillasAqar.csv\",index=False)"
   ]
  },
  {
   "cell_type": "markdown",
   "id": "0d57c4b9-9bb3-494d-85dd-b8d39afda139",
   "metadata": {},
   "source": [
    "#### I. Categorical Variables:\n",
    "\n",
    "we’ll use frequency table to understand distribution of each category\n",
    "- Bar Chart (Ordinal) - Orderd\n",
    "- Pie Chart (Nominal) - non Orderd"
   ]
  },
  {
   "cell_type": "code",
   "execution_count": null,
   "id": "72ece4b7-5508-403a-8fb0-f519fc74272a",
   "metadata": {},
   "outputs": [],
   "source": []
  },
  {
   "cell_type": "markdown",
   "id": "d2641f0d-80f2-493b-99b7-15476379a1e2",
   "metadata": {},
   "source": [
    "#### II. Numerical Variables:\n",
    "\n",
    "we need to understand the central tendency and spread of the variable (Descriptive Analysis) using:\n",
    "   - Box plot\n",
    "   - Histogram"
   ]
  },
  {
   "cell_type": "code",
   "execution_count": null,
   "id": "5be16f08-a072-4a02-a3ee-6f9d57786fb4",
   "metadata": {},
   "outputs": [],
   "source": []
  },
  {
   "cell_type": "markdown",
   "id": "d66677d3-44ad-414f-9b39-f9c1995ad043",
   "metadata": {},
   "source": [
    "### 2. Univariate Non-Graphical analysis: \n",
    "\n",
    "- Where is the center of the data? (location) --> **Measures of central tendency**\n",
    "- How much does the data vary? (scale) --> **Measure of variability**\n",
    "- What is the shape of the data? (shape) --> **Measures of variation combined with an average (measure of center) gives a good picture of the distribution of the data.**"
   ]
  },
  {
   "cell_type": "code",
   "execution_count": null,
   "id": "f1058d84-e61e-4f5b-b66a-29931e77821b",
   "metadata": {},
   "outputs": [],
   "source": []
  },
  {
   "cell_type": "markdown",
   "id": "f09bb809-0edd-432b-bf23-abd0840b3e16",
   "metadata": {},
   "source": [
    "## 4. Bivariate/Multivariate Analysis:\n",
    "\n",
    "Here, you look at the relationships between two or more variables. This can involve looking for correlations, patterns, and trends that suggest a relationship or an association.\n",
    "\n",
    "We can perform bi-variate analysis for any combination of categorical and numerical variables. The combination can be:\n",
    "| bi-variate variables   | Plot type |\n",
    "| ------------- | ------------- |\n",
    "| Categorical & Categorical| Stacked Bar Chart |\n",
    "| Categorical & numerical  | scatter plot, histogram, box plot|\n",
    "| numerical  & numerical  | Scatter plot, line chart| \n",
    "\n",
    "\n",
    "Multivariate Analysis:\n",
    "- Heat map\n",
    "- Bar Chart\n",
    "- Scatter Chart\n",
    "- Line Chart"
   ]
  },
  {
   "cell_type": "markdown",
   "id": "838f2864-ce9e-4f15-99c8-052d053154a7",
   "metadata": {},
   "source": [
    "**Categorical & Categorical --> (Stacked Column Chart)**"
   ]
  },
  {
   "cell_type": "code",
   "execution_count": null,
   "id": "73f9f2ac-8477-49ea-9c68-4fe44d4395b6",
   "metadata": {},
   "outputs": [],
   "source": []
  },
  {
   "cell_type": "markdown",
   "id": "730e088f-fe13-40da-8fbb-686f5135fa4d",
   "metadata": {},
   "source": [
    "**Categorical & numerical --> (scatter plot, histogram, box plot)**"
   ]
  },
  {
   "cell_type": "code",
   "execution_count": null,
   "id": "3590e345-2051-4215-91ac-07d196b510ef",
   "metadata": {},
   "outputs": [],
   "source": []
  },
  {
   "cell_type": "markdown",
   "id": "20aed48d-b78e-46da-963f-e7f15e2f4dc7",
   "metadata": {},
   "source": [
    "**numerical & numerical --> (Scatter plot, line chart)**"
   ]
  },
  {
   "cell_type": "code",
   "execution_count": null,
   "id": "41023177-01cb-4f39-a750-12be71b13bda",
   "metadata": {},
   "outputs": [],
   "source": []
  },
  {
   "cell_type": "markdown",
   "id": "efb43b30-b1f0-48a4-a19c-195810cc8a0f",
   "metadata": {},
   "source": [
    "We could also use a correlation matrix to get more specific information about the relationship between these two variables."
   ]
  },
  {
   "cell_type": "markdown",
   "id": "a9fe9b1c",
   "metadata": {},
   "source": [
    "## Which district has the cheapest and most expensive lands?"
   ]
  },
  {
   "cell_type": "code",
   "execution_count": null,
   "id": "329d2bfb",
   "metadata": {},
   "outputs": [
    {
     "ename": "NameError",
     "evalue": "name 'reshape' is not defined",
     "output_type": "error",
     "traceback": [
      "\u001b[1;31m---------------------------------------------------------------------------\u001b[0m",
      "\u001b[1;31mNameError\u001b[0m                                 Traceback (most recent call last)",
      "Cell \u001b[1;32mIn[99], line 9\u001b[0m\n\u001b[0;32m      6\u001b[0m plt\u001b[38;5;241m.\u001b[39mrcParams[\u001b[38;5;124m'\u001b[39m\u001b[38;5;124mfont.family\u001b[39m\u001b[38;5;124m'\u001b[39m] \u001b[38;5;241m=\u001b[39m \u001b[38;5;124m'\u001b[39m\u001b[38;5;124mArial\u001b[39m\u001b[38;5;124m'\u001b[39m  \u001b[38;5;66;03m# Or another Arabic-compatible font\u001b[39;00m\n\u001b[0;32m      8\u001b[0m \u001b[38;5;66;03m#Reshape Arabic text and apply right-to-left layout\u001b[39;00m\n\u001b[1;32m----> 9\u001b[0m reshaped_titles \u001b[38;5;241m=\u001b[39m [\u001b[43mreshape\u001b[49m(i) \u001b[38;5;28;01mfor\u001b[39;00m i \u001b[38;5;129;01min\u001b[39;00m district_land_prices\u001b[38;5;241m.\u001b[39mindex]\n\u001b[0;32m     10\u001b[0m \u001b[38;5;66;03m#bidi_titles = [get_display(i) for i in reshaped_titles]\u001b[39;00m\n\u001b[0;32m     11\u001b[0m \n\u001b[0;32m     12\u001b[0m \u001b[38;5;66;03m# Create subplots (2 plots in one row)\u001b[39;00m\n\u001b[0;32m     13\u001b[0m fig, axes \u001b[38;5;241m=\u001b[39m plt\u001b[38;5;241m.\u001b[39msubplots(\u001b[38;5;241m1\u001b[39m, \u001b[38;5;241m2\u001b[39m, figsize\u001b[38;5;241m=\u001b[39m(\u001b[38;5;241m14\u001b[39m, \u001b[38;5;241m6\u001b[39m))\n",
      "\u001b[1;31mNameError\u001b[0m: name 'reshape' is not defined"
     ]
    },
    {
     "name": "stderr",
     "output_type": "stream",
     "text": [
      "2025-02-20 03:18:10,260 - INFO     - Executing shutdown due to inactivity...\n",
      "2025-02-20 03:18:14,618 - INFO     - Executing shutdown...\n",
      "2025-02-20 03:18:14,626 - INFO     - Not running with the Werkzeug Server, exiting by searching gc for BaseWSGIServer\n"
     ]
    }
   ],
   "source": [
    "# Assuming 'Riyadh_Aqqar_Land' is your DataFrame\n",
    "# Find the average land price per district and sort it\n",
    "district_land_prices = Riyadh_Aqqar_Land.groupby('الحي')['السعر الإجمالي'].mean().sort_values()\n",
    "\n",
    "# Set the font to one that supports Arabic\n",
    "plt.rcParams['font.family'] = 'Arial'  # Or another Arabic-compatible font\n",
    "\n",
    "#Reshape Arabic text and apply right-to-left layout\n",
    "reshaped_titles = [reshape(i) for i in district_land_prices.index]\n",
    "#bidi_titles = [get_display(i) for i in reshaped_titles]\n",
    "\n",
    "# Create subplots (2 plots in one row)\n",
    "fig, axes = plt.subplots(1, 2, figsize=(14, 6))\n",
    "\n",
    "# Plot the top 10 cheapest districts\n",
    "#axes[0].bar(bidi_titles[:10], district_land_prices.head(10), color='skyblue')\n",
    "#axes[0].set_title('Top 10 Cheapest Land Prices by District')\n",
    "#axes[0].set_xlabel('District')\n",
    "#axes[0].set_ylabel('Average Price (SAR)')\n",
    "#axes[0].tick_params(axis='x', rotation=90)\n",
    "\n",
    "# Plot the top 10 most expensive districts\n",
    "#axes[1].bar(bidi_titles[-10:], district_land_prices.tail(10), color='salmon')\n",
    "#axes[1].set_title('Top 10 Most Expensive Land Prices by District')\n",
    "#axes[1].set_xlabel('District')\n",
    "#axes[1].set_ylabel('Average Price (SAR)')\n",
    "#axes[1].tick_params(axis='x', rotation=90)\n",
    "\n",
    "# Adjust the layout\n",
    "#plt.tight_layout()\n",
    "#plt.show()\n",
    "\n",
    "fig = go.Figure()\n",
    "\n",
    "# إضافة أرخص 10 أحياء\n",
    "fig.add_trace(go.Bar(\n",
    "    x=bidi_titles[:10], \n",
    "    y=cheapest_districts, \n",
    "    name='أرخص 10 أحياء',\n",
    "    marker_color='skyblue'\n",
    "))\n",
    "\n",
    "# إضافة أغلى 10 أحياء\n",
    "fig.add_trace(go.Bar(\n",
    "    x=bidi_titles[-10:], \n",
    "    y=expensive_districts, \n",
    "    name='أغلى 10 أحياء',\n",
    "    marker_color='salmon'\n",
    "))\n",
    "\n",
    "# تخصيص التصميم\n",
    "fig.update_layout(\n",
    "    title=\"أسعار الأراضي حسب الأحياء في الرياض\",\n",
    "    xaxis_title=\"الحي\",\n",
    "    yaxis_title=\"متوسط السعر (ريال سعودي)\",\n",
    "    xaxis_tickangle=45,\n",
    "    barmode='group',\n",
    "    template='plotly_white'\n",
    ")\n",
    "\n",
    "# عرض المخطط\n",
    "fig.show()\n"
   ]
  },
  {
   "cell_type": "markdown",
   "id": "7b8f6eda",
   "metadata": {},
   "source": [
    "## Which district has the cheapest and most expensive villas?"
   ]
  },
  {
   "cell_type": "code",
   "execution_count": null,
   "id": "d2761bd4",
   "metadata": {},
   "outputs": [
    {
     "data": {
      "image/png": "[encoded data removed]",
      "text/plain": [
       "<Figure size 1400x600 with 2 Axes>"
      ]
     },
     "metadata": {},
     "output_type": "display_data"
    }
   ],
   "source": [
    "# Assuming 'Riyadh_Aqqar_Land' is your DataFrame\n",
    "# Find the average land price per district and sort it\n",
    "district_Villas_prices = Riyadh_Aqqar_Villas.groupby('الحي')['السعر الاجمالي'].mean().sort_values()\n",
    "\n",
    "# Set the font to one that supports Arabic\n",
    "plt.rcParams['font.family'] = 'Arial'  # Or another Arabic-compatible font\n",
    "\n",
    "# Reshape Arabic text and apply right-to-left layout\n",
    "reshaped_titles = [reshape(i) for i in district_Villas_prices.index]\n",
    "bidi_titles = [get_display(i) for i in reshaped_titles]\n",
    "\n",
    "# Create subplots (2 plots in one row)\n",
    "fig, axes = plt.subplots(1, 2, figsize=(14, 6))\n",
    "\n",
    "# Plot the top 10 cheapest districts\n",
    "axes[0].bar(bidi_titles[:10], district_Villas_prices.head(10), color='skyblue')\n",
    "axes[0].set_title('Top 10 Cheapest Villas Prices by District')\n",
    "axes[0].set_xlabel('District')\n",
    "axes[0].set_ylabel('Average Price (SAR)')\n",
    "axes[0].tick_params(axis='x', rotation=90)\n",
    "\n",
    "# Plot the top 10 most expensive districts\n",
    "axes[1].bar(bidi_titles[-10:], district_Villas_prices.tail(10), color='salmon')\n",
    "axes[1].set_title('Top 10 Most Expensive Villas Prices by District')\n",
    "axes[1].set_xlabel('District')\n",
    "axes[1].set_ylabel('Average Price (SAR)')\n",
    "axes[1].tick_params(axis='x', rotation=90)\n",
    "\n",
    "# Adjust the layout\n",
    "plt.tight_layout()\n",
    "plt.show()\n"
   ]
  }
 ],
 "metadata": {
  "kernelspec": {
   "display_name": "Python 3",
   "language": "python",
   "name": "python3"
  },
  "language_info": {
   "codemirror_mode": {
    "name": "ipython",
    "version": 3
   },
   "file_extension": ".py",
   "mimetype": "text/x-python",
   "name": "python",
   "nbconvert_exporter": "python",
   "pygments_lexer": "ipython3",
   "version": "3.13.2"
  }
 },
 "nbformat": 4,
 "nbformat_minor": 5
}
